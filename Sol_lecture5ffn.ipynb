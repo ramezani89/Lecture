{
 "cells": [
  {
   "cell_type": "code",
   "execution_count": null,
   "id": "51a72de6-3f2a-4bb5-b55d-c5700add014c",
   "metadata": {
    "tags": []
   },
   "outputs": [],
   "source": [
    "import numpy as np"
   ]
  },
  {
   "cell_type": "code",
   "execution_count": null,
   "id": "66f6cd09-6c15-4ea3-821b-1246233a4d2a",
   "metadata": {},
   "outputs": [],
   "source": [
    "import pandas as pd"
   ]
  },
  {
   "cell_type": "code",
   "execution_count": null,
   "id": "db37a320-3b72-49c5-bd78-3d485264dfc3",
   "metadata": {},
   "outputs": [],
   "source": [
    "import matplotlib.pyplot as plt"
   ]
  },
  {
   "cell_type": "code",
   "execution_count": null,
   "id": "c111a24d-a4ad-4716-81af-7839c18ca628",
   "metadata": {},
   "outputs": [],
   "source": [
    "## Subsetting Series"
   ]
  },
  {
   "cell_type": "code",
   "execution_count": null,
   "id": "a977cf39-6191-4f51-ade1-93f5e7a64e57",
   "metadata": {},
   "outputs": [],
   "source": [
    "h= pd.Series(np.array([1,7,9]))\n",
    "print(h)"
   ]
  },
  {
   "cell_type": "code",
   "execution_count": null,
   "id": "33f081bb-603e-48d7-9264-ec04fa64ca1a",
   "metadata": {},
   "outputs": [],
   "source": [
    "h.loc[2]  "
   ]
  },
  {
   "cell_type": "code",
   "execution_count": null,
   "id": "8289d8e9-e542-4248-99c2-f6af499d8a94",
   "metadata": {},
   "outputs": [],
   "source": [
    "h.loc[:2]"
   ]
  },
  {
   "cell_type": "code",
   "execution_count": null,
   "id": "402dc281-53b3-4c6d-ae82-11bac245dcb1",
   "metadata": {},
   "outputs": [],
   "source": [
    "h.loc[[0,1]]"
   ]
  },
  {
   "cell_type": "code",
   "execution_count": null,
   "id": "b409f176-d77f-4771-a5b6-570cc1a082c5",
   "metadata": {},
   "outputs": [],
   "source": [
    "h.iloc[2]"
   ]
  },
  {
   "cell_type": "code",
   "execution_count": null,
   "id": "426f2ee3-b5ae-4e6a-8df5-e8e584921882",
   "metadata": {},
   "outputs": [],
   "source": [
    "h.iloc[:2]"
   ]
  },
  {
   "cell_type": "code",
   "execution_count": null,
   "id": "a4a2c011-df4a-43f7-89d2-97c8adb2786b",
   "metadata": {},
   "outputs": [],
   "source": [
    "h.iloc[[0,1]]"
   ]
  },
  {
   "cell_type": "markdown",
   "id": "9afe08e1-c92d-4255-9364-c52c0dea590b",
   "metadata": {},
   "source": [
    "Exercise 1: Extract a individual value (5), slice for row indexed with 2 till 3 and a list of indecices for the row indexed with 1 and 3 from the series named t created from the array([3,5,7,8]))"
   ]
  },
  {
   "cell_type": "code",
   "execution_count": null,
   "id": "29a5e70f-1df9-42e3-a0e1-130ea8a15039",
   "metadata": {},
   "outputs": [],
   "source": [
    "t= pd.Series(np.array([3,5,7,8]))\n",
    "t"
   ]
  },
  {
   "cell_type": "code",
   "execution_count": null,
   "id": "1c833c17-4aba-45f6-bb36-73fa1cdeb563",
   "metadata": {},
   "outputs": [],
   "source": [
    "t.loc[1] "
   ]
  },
  {
   "cell_type": "code",
   "execution_count": null,
   "id": "8f64dace-ee28-468f-94e4-cff0d64cce21",
   "metadata": {},
   "outputs": [],
   "source": [
    "t.loc[2:3]"
   ]
  },
  {
   "cell_type": "code",
   "execution_count": null,
   "id": "cd3c761c-ab52-4140-b34d-99a79829b07f",
   "metadata": {},
   "outputs": [],
   "source": [
    "t.loc[[1,3]]"
   ]
  },
  {
   "cell_type": "code",
   "execution_count": null,
   "id": "7b7f6e24-48b2-4edb-8897-670969b8e6c9",
   "metadata": {},
   "outputs": [],
   "source": [
    "t.iloc[1]"
   ]
  },
  {
   "cell_type": "code",
   "execution_count": null,
   "id": "a9d2c7f8-0c64-4023-8983-0fbbcbea6d79",
   "metadata": {},
   "outputs": [],
   "source": [
    "t.iloc[2:4]"
   ]
  },
  {
   "cell_type": "code",
   "execution_count": null,
   "id": "d33f9e40-e21c-4d8e-bced-4b6a8811e67b",
   "metadata": {},
   "outputs": [],
   "source": [
    "t.iloc[[1,3]]"
   ]
  },
  {
   "cell_type": "code",
   "execution_count": null,
   "id": "a2f0f537-1ebb-4de6-91fa-1a6bd701942f",
   "metadata": {},
   "outputs": [],
   "source": [
    "## Subsetting DataFrame"
   ]
  },
  {
   "cell_type": "code",
   "execution_count": null,
   "id": "0cf862fc-2889-4283-80db-732a2fd20db1",
   "metadata": {},
   "outputs": [],
   "source": [
    "States = pd.read_csv('states_by_country_code.csv')\n",
    "print(States)"
   ]
  },
  {
   "cell_type": "code",
   "execution_count": null,
   "id": "dfa31bb8-e249-40b8-a852-8bba5874247b",
   "metadata": {},
   "outputs": [],
   "source": [
    "States.loc[:, 'Country Code']"
   ]
  },
  {
   "cell_type": "code",
   "execution_count": null,
   "id": "964ae5dc-d440-4e7d-8591-6f6d6da8b1f7",
   "metadata": {},
   "outputs": [],
   "source": [
    "States['Country Code']"
   ]
  },
  {
   "cell_type": "code",
   "execution_count": null,
   "id": "18deee92-58ef-431b-a38a-5bbc67f34764",
   "metadata": {},
   "outputs": [],
   "source": [
    "States.loc[:, ['Country Code']]"
   ]
  },
  {
   "cell_type": "code",
   "execution_count": null,
   "id": "b2851ac3-0799-4ef6-83db-d269fdb87ecf",
   "metadata": {},
   "outputs": [],
   "source": [
    "States[['Country Code']]"
   ]
  },
  {
   "cell_type": "code",
   "execution_count": null,
   "id": "1c4f92b1-ae79-45ef-b946-6620fec94922",
   "metadata": {},
   "outputs": [],
   "source": [
    "States[['Country Code','State Code']]"
   ]
  },
  {
   "cell_type": "code",
   "execution_count": null,
   "id": "c9f3cf4a-b247-4e8b-9126-10a58b868beb",
   "metadata": {},
   "outputs": [],
   "source": [
    "States.loc[:,'State Code':'State Name']"
   ]
  },
  {
   "cell_type": "code",
   "execution_count": null,
   "id": "9a6579fe-28b6-425f-822e-2a1e19bb8a5f",
   "metadata": {},
   "outputs": [],
   "source": [
    "States.loc[:, :'State Name']"
   ]
  },
  {
   "cell_type": "markdown",
   "id": "b2133191-3c02-419a-8e5d-210ef34c5fe7",
   "metadata": {},
   "source": [
    "Exercise 2: Read the country_full.csv file, and select all columns after 'sub-region' columns and save it to a file named country_columnselection.csv (method for saving: your_data.to_csv('your_output'))"
   ]
  },
  {
   "cell_type": "code",
   "execution_count": null,
   "id": "e8f522c4-be88-4987-8d69-082f61f13da4",
   "metadata": {
    "tags": []
   },
   "outputs": [],
   "source": [
    "country = pd.read_csv('country_full.csv')\n",
    "print(country)"
   ]
  },
  {
   "cell_type": "code",
   "execution_count": null,
   "id": "2ef8b0a3-846c-41b9-8c36-92ab3ecf900d",
   "metadata": {},
   "outputs": [],
   "source": [
    "country_sel = country.loc[:,'sub-region':]\n",
    "print(country_sel)"
   ]
  },
  {
   "cell_type": "code",
   "execution_count": null,
   "id": "2c4eddbe-195a-44de-9efa-bf056c3ed648",
   "metadata": {},
   "outputs": [],
   "source": [
    "country_sel.to_csv('country_columnselection.csv',index=False)"
   ]
  },
  {
   "cell_type": "code",
   "execution_count": null,
   "id": "e716f539-be1a-467a-affd-4a53fc7450fa",
   "metadata": {},
   "outputs": [],
   "source": [
    "States.loc[[0], :] "
   ]
  },
  {
   "cell_type": "code",
   "execution_count": null,
   "id": "7e979e7d-cdd9-4127-b7d0-d97abaf8a659",
   "metadata": {},
   "outputs": [],
   "source": [
    "States.loc[0:3, :]  "
   ]
  },
  {
   "cell_type": "code",
   "execution_count": null,
   "id": "42ae70d1-4f1d-467e-84f5-40fa698e9e87",
   "metadata": {},
   "outputs": [],
   "source": [
    "States.iloc[0:3, :] "
   ]
  },
  {
   "cell_type": "code",
   "execution_count": null,
   "id": "4d490050-c882-458f-bcf8-19d8907c6fce",
   "metadata": {},
   "outputs": [],
   "source": [
    "States.loc[[0, 2], :]"
   ]
  },
  {
   "cell_type": "code",
   "execution_count": null,
   "id": "0b04aad2-043d-45d0-b9d6-e6ed5b680844",
   "metadata": {},
   "outputs": [],
   "source": [
    "States.iloc[[0, 2], :]"
   ]
  },
  {
   "cell_type": "markdown",
   "id": "93594557-6bd8-467e-be15-c5459358aa59",
   "metadata": {},
   "source": [
    "Exercise 3: Select the 2nd (refer to index) to 4th (refer to index) rows for State Code and Country Code columns in states_by_country_code.csv file. Do .iloc method for rows and .loc method for columns relying on a shortcut data.iloc[].loc[]"
   ]
  },
  {
   "cell_type": "code",
   "execution_count": null,
   "id": "be958f4c-0478-4e05-bcf9-f45cf0ab098d",
   "metadata": {},
   "outputs": [],
   "source": [
    "States.iloc[2:5,:].loc[:,['State Code','Country Code']]"
   ]
  },
  {
   "cell_type": "markdown",
   "id": "c800617e-5cd2-41e6-bc28-6fb9335637b2",
   "metadata": {},
   "source": [
    "Exercise 4: Extract the 'BDS' from states_by_country_code.csv file by .iloc method"
   ]
  },
  {
   "cell_type": "code",
   "execution_count": null,
   "id": "a3c8b4d9-1063-45d7-a500-6ab7dbb32adb",
   "metadata": {},
   "outputs": [],
   "source": [
    "States.iloc[0, 0]"
   ]
  },
  {
   "cell_type": "code",
   "execution_count": null,
   "id": "12b889dc-1e99-4743-b0da-cd9320afc84a",
   "metadata": {},
   "outputs": [],
   "source": [
    "country = pd.read_csv('country_full.csv')\n",
    "print(country)\n",
    "country['region-code'].iloc[0:5].to_numpy()"
   ]
  },
  {
   "cell_type": "code",
   "execution_count": null,
   "id": "50f60d87-fbee-4a1e-9795-9658d3f3e831",
   "metadata": {},
   "outputs": [],
   "source": [
    "country.iloc[0:5, 8:11].to_numpy() "
   ]
  },
  {
   "cell_type": "code",
   "execution_count": null,
   "id": "36809007-6be1-4fc3-82f0-3dd41c8189e9",
   "metadata": {},
   "outputs": [],
   "source": [
    "a = country['region-code'].iloc[0:5]"
   ]
  },
  {
   "cell_type": "code",
   "execution_count": null,
   "id": "3d1996ba-6fe2-4875-8926-24e22b252ce6",
   "metadata": {},
   "outputs": [],
   "source": [
    "a.to_list()"
   ]
  },
  {
   "cell_type": "code",
   "execution_count": null,
   "id": "cd569f17-cfd9-4f66-ba6f-3f0f106ad443",
   "metadata": {},
   "outputs": [],
   "source": [
    "country.iloc[0:5, 8:11].to_numpy().tolist()"
   ]
  },
  {
   "cell_type": "markdown",
   "id": "a790508e-faf5-4bf2-bc94-ad681cc894e4",
   "metadata": {},
   "source": [
    "Exercise 5: Read the currency.csv file, select a series as well as a dataframe and convert them to the array and to the list "
   ]
  },
  {
   "cell_type": "code",
   "execution_count": null,
   "id": "7f533b95-9d49-4250-908f-8562f6b3b769",
   "metadata": {},
   "outputs": [],
   "source": [
    "currency = pd.read_csv('currency.csv')\n",
    "print(currency)"
   ]
  },
  {
   "cell_type": "code",
   "execution_count": null,
   "id": "b51670a6-6f62-46e2-9659-bfd6b44c1748",
   "metadata": {},
   "outputs": [],
   "source": [
    "currency['Symbol'].iloc[0:3].to_numpy()"
   ]
  },
  {
   "cell_type": "code",
   "execution_count": null,
   "id": "b6675f6f-d5f4-4078-98f2-6042f46507a4",
   "metadata": {},
   "outputs": [],
   "source": [
    "currency.iloc[0:5, :2].to_numpy() "
   ]
  },
  {
   "cell_type": "code",
   "execution_count": null,
   "id": "0ae5a8cd-f0f9-408c-993c-f460cc3d36b6",
   "metadata": {},
   "outputs": [],
   "source": [
    "b = currency['Symbol'].iloc[0:3]\n",
    "b.to_list()"
   ]
  },
  {
   "cell_type": "code",
   "execution_count": null,
   "id": "ff675c41-4295-4d5e-9ec4-57631924c8f9",
   "metadata": {},
   "outputs": [],
   "source": [
    "currency.iloc[0:5, :2].to_numpy().tolist()"
   ]
  },
  {
   "cell_type": "code",
   "execution_count": null,
   "id": "d2d079d6-b302-4d08-8b16-c5df8856b232",
   "metadata": {},
   "outputs": [],
   "source": [
    "h= pd.Series(np.array([1,7,9]))\n",
    "print(h)"
   ]
  },
  {
   "cell_type": "code",
   "execution_count": null,
   "id": "3e593fd0-ba39-4f32-9cea-70f382e38fe1",
   "metadata": {},
   "outputs": [],
   "source": [
    "h.index = ['a', 'b', 'c']\n",
    "print(h)"
   ]
  },
  {
   "cell_type": "code",
   "execution_count": null,
   "id": "d428fa67-284b-4703-9f1d-9cf0e54a9bb1",
   "metadata": {},
   "outputs": [],
   "source": [
    "States = pd.read_csv('states_by_country_code.csv')\n",
    "print(States)"
   ]
  },
  {
   "cell_type": "code",
   "execution_count": null,
   "id": "816a1f5e-c4ac-453f-93d8-e04059ad228c",
   "metadata": {},
   "outputs": [],
   "source": [
    "States = States.set_index('State Code')\n",
    "print(States)"
   ]
  },
  {
   "cell_type": "code",
   "execution_count": null,
   "id": "3a622886-6646-4c06-b25c-0b8d71b22735",
   "metadata": {},
   "outputs": [],
   "source": [
    "h.reset_index(drop=True)"
   ]
  },
  {
   "cell_type": "code",
   "execution_count": null,
   "id": "4de1009f-b24d-4d39-993e-c0117256d32c",
   "metadata": {},
   "outputs": [],
   "source": [
    "States = States.reset_index()\n",
    "States"
   ]
  },
  {
   "cell_type": "code",
   "execution_count": null,
   "id": "b3714650-227e-4ca5-b39c-381443c67e0e",
   "metadata": {},
   "outputs": [],
   "source": [
    "States.sort_values('State Name')"
   ]
  },
  {
   "cell_type": "code",
   "execution_count": null,
   "id": "cc5817ce-6ed5-43dc-876f-d9897ff604b7",
   "metadata": {},
   "outputs": [],
   "source": [
    "States.sort_values('State Name', ascending=False)"
   ]
  },
  {
   "cell_type": "code",
   "execution_count": null,
   "id": "eccf839e-ebef-4ecc-9a6b-9175d34c3696",
   "metadata": {},
   "outputs": [],
   "source": [
    "###plotting"
   ]
  },
  {
   "cell_type": "code",
   "execution_count": null,
   "id": "b26ddbe6-abe3-46d4-a51a-ca3a1c1fdbac",
   "metadata": {},
   "outputs": [],
   "source": [
    "country = pd.read_csv('country_full.csv')\n",
    "print(country)"
   ]
  },
  {
   "cell_type": "code",
   "execution_count": null,
   "id": "6c95ddae-fcc1-4af9-aa83-92e0a7c37427",
   "metadata": {},
   "outputs": [],
   "source": [
    "country[['country-code', 'region-code']].hist();"
   ]
  },
  {
   "cell_type": "markdown",
   "id": "5d3cfa29-6469-46af-8865-7bcef5c1b19e",
   "metadata": {},
   "source": [
    "Try it on 2nd row and all the columns"
   ]
  },
  {
   "cell_type": "code",
   "execution_count": null,
   "id": "b7a6c0e3-038a-4b06-b72f-aa1177be79cd",
   "metadata": {},
   "outputs": [],
   "source": [
    "country.iloc[[0], :].hist();"
   ]
  },
  {
   "cell_type": "code",
   "execution_count": null,
   "id": "d92a1b13-eb9e-469e-b3ca-812f762aaad6",
   "metadata": {},
   "outputs": [],
   "source": [
    "country['country-code'].plot();"
   ]
  },
  {
   "cell_type": "code",
   "execution_count": null,
   "id": "98f3e996-7bd5-480b-b5ab-cf45fd23d4e8",
   "metadata": {},
   "outputs": [],
   "source": [
    "country.set_index('name')['country-code'].plot();"
   ]
  },
  {
   "cell_type": "code",
   "execution_count": null,
   "id": "b4ff9770-d91a-45b4-a47a-cd78f220e8b0",
   "metadata": {},
   "outputs": [],
   "source": [
    "country.plot.scatter(x='country-code', y='region-code');"
   ]
  },
  {
   "cell_type": "markdown",
   "id": "f4ae1168-7db4-42cc-968c-46340f7b47e5",
   "metadata": {},
   "source": [
    "Exercise 6: Read the climate.csv file to a variable named 'climate', generate a line plot from 'Temperature (Celsius)', in the next step change the index to Country and in the 3rd step create a plot with all 3 variables. (put the title and axes labels)"
   ]
  },
  {
   "cell_type": "code",
   "execution_count": null,
   "id": "1f140fdf-e053-45e9-bacf-e4454313c466",
   "metadata": {
    "tags": []
   },
   "outputs": [],
   "source": [
    "climate = pd.read_csv('climate.csv')\n",
    "print(climate)"
   ]
  },
  {
   "cell_type": "code",
   "execution_count": null,
   "id": "ec23e43b-d53c-4f06-b5ef-97ecb1632a28",
   "metadata": {},
   "outputs": [],
   "source": [
    "climate['Temperature (Celsius)'].plot();\n",
    "plt.legend();"
   ]
  },
  {
   "cell_type": "code",
   "execution_count": null,
   "id": "5e2d4f43-f65d-47a8-8d1f-16acafd1788d",
   "metadata": {},
   "outputs": [],
   "source": [
    "climate.set_index('Country')['Temperature (Celsius)'].plot();\n",
    "plt.xticks(rotation=45);"
   ]
  },
  {
   "cell_type": "code",
   "execution_count": null,
   "id": "689e2232-00bd-4242-9250-9036e78bbb34",
   "metadata": {},
   "outputs": [],
   "source": [
    "climate.set_index('Date')[['Temperature (Celsius)', 'Humidity (%)', 'Wind Speed (km/h)']].plot(linewidth=2.5);\n",
    "plt.xticks(rotation=45);\n",
    "plt.title('climate', fontsize=16);\n",
    "plt.ylabel('values', fontsize=16);\n",
    "plt.xlabel('Date', fontsize=16);\n",
    "plt.tick_params(axis='both', labelsize=12);"
   ]
  },
  {
   "cell_type": "code",
   "execution_count": null,
   "id": "a43ddb83-f32a-488e-8bf6-e90383831fcd",
   "metadata": {},
   "outputs": [],
   "source": [
    "###Operators"
   ]
  },
  {
   "cell_type": "code",
   "execution_count": null,
   "id": "7711d987-1054-401f-a656-361e7d89986d",
   "metadata": {},
   "outputs": [],
   "source": [
    "climate = pd.read_csv('climate.csv')\n",
    "print(climate)"
   ]
  },
  {
   "cell_type": "code",
   "execution_count": null,
   "id": "a1e6091d-da53-4778-acfd-b8f90e008ea1",
   "metadata": {},
   "outputs": [],
   "source": [
    "climate['Temperature (Celsius)'].min()"
   ]
  },
  {
   "cell_type": "code",
   "execution_count": null,
   "id": "ec748240-b9cb-45f3-8a5f-91e01c27cca9",
   "metadata": {},
   "outputs": [],
   "source": [
    "climate['Temperature (Celsius)'].max()"
   ]
  },
  {
   "cell_type": "code",
   "execution_count": null,
   "id": "bd8e531b-d206-4d7a-8c84-75fac3230181",
   "metadata": {},
   "outputs": [],
   "source": [
    "climate['Temperature (Celsius)'].mean()"
   ]
  },
  {
   "cell_type": "code",
   "execution_count": null,
   "id": "70b1e413-46ff-4d0b-b544-d8d75e040619",
   "metadata": {},
   "outputs": [],
   "source": [
    "climate[['Temperature (Celsius)','Humidity (%)']].mean()"
   ]
  },
  {
   "cell_type": "code",
   "execution_count": null,
   "id": "20003197-7027-4a21-9695-e5a6bf0cda96",
   "metadata": {},
   "outputs": [],
   "source": [
    "climate[['Temperature (Celsius)','Humidity (%)']]-10"
   ]
  },
  {
   "cell_type": "code",
   "execution_count": null,
   "id": "48c91575-a741-410a-a79d-97a816aea522",
   "metadata": {},
   "outputs": [],
   "source": [
    "climate['df'] = climate['Temperature (Celsius)'] - climate['Humidity (%)']\n",
    "print(climate)"
   ]
  },
  {
   "cell_type": "code",
   "execution_count": null,
   "id": "8ce78109-4c63-4520-b409-f861de6f381a",
   "metadata": {},
   "outputs": [],
   "source": [
    "climate.set_index('Date')['df'].plot();\n",
    "plt.xticks(rotation=45);"
   ]
  },
  {
   "cell_type": "markdown",
   "id": "8e1db133-d61d-423c-84cf-4b2dbfb19432",
   "metadata": {},
   "source": [
    "Exercise 7: create a column as the sum of the wind speed and humidity and create a scatter plot between the new column and the temperature"
   ]
  },
  {
   "cell_type": "code",
   "execution_count": null,
   "id": "931381ab-8e33-4cd4-8885-3d906c0fbd2e",
   "metadata": {},
   "outputs": [],
   "source": [
    "climate['sum'] = climate['Wind Speed (km/h)'] + climate['Humidity (%)']\n",
    "print(climate)"
   ]
  },
  {
   "cell_type": "code",
   "execution_count": null,
   "id": "beb8323a-56fe-4af5-9220-fa989e04e50b",
   "metadata": {},
   "outputs": [],
   "source": [
    "climate.plot.scatter(x='sum', y='Temperature (Celsius)');"
   ]
  },
  {
   "cell_type": "markdown",
   "id": "2086bc06-5012-481b-ae8a-3d588f6ad070",
   "metadata": {},
   "source": [
    "Exercise 8: Add a column named 'rain' with an duplicated value over all rows"
   ]
  },
  {
   "cell_type": "code",
   "execution_count": null,
   "id": "9b24dc55-5d18-446e-9195-ffaabef74dd8",
   "metadata": {},
   "outputs": [],
   "source": [
    "climate['rain'] = 12\n",
    "climate"
   ]
  },
  {
   "cell_type": "code",
   "execution_count": null,
   "id": "e2aa92c5-038d-4ff5-9454-85f90463bdd4",
   "metadata": {},
   "outputs": [],
   "source": [
    "climate = climate.drop(['sum'], axis=1)\n",
    "climate"
   ]
  },
  {
   "cell_type": "code",
   "execution_count": null,
   "id": "84e718cb-cf2f-493d-be98-eb04273768d6",
   "metadata": {},
   "outputs": [],
   "source": [
    "climate[climate['Temperature (Celsius)'] > 22]"
   ]
  },
  {
   "cell_type": "code",
   "execution_count": null,
   "id": "d683dc9c-bb21-4b2c-9c0a-7d6a20a52485",
   "metadata": {},
   "outputs": [],
   "source": [
    "new_filter = (climate['Temperature (Celsius)'] == 18.9) | (climate['Temperature (Celsius)'] == 20.1)\n",
    "climate[new_filter]"
   ]
  },
  {
   "cell_type": "code",
   "execution_count": null,
   "id": "77760884-17fb-43d2-8517-c0314d8ffd7f",
   "metadata": {},
   "outputs": [],
   "source": [
    "new_filter = climate['Temperature (Celsius)'].isin([18.9,20.1])\n",
    "climate[sel]"
   ]
  },
  {
   "cell_type": "markdown",
   "id": "8154662a-0758-4f8a-8f7e-b3c4ee11a493",
   "metadata": {},
   "source": [
    "Reference: https://jupyter.org https://the-turing-way.netlify.app/communication/binder/zero-to-binder.html https://docs.python.org https://wsform.com/knowledgebase/sample-csv-files/ https://geobgu.xyz/py/"
   ]
  },
  {
   "cell_type": "code",
   "execution_count": null,
   "id": "2905ae14-ea8a-44d3-b166-75011baae184",
   "metadata": {},
   "outputs": [],
   "source": []
  }
 ],
 "metadata": {
  "kernelspec": {
   "display_name": "Python 3 (ipykernel)",
   "language": "python",
   "name": "python3"
  },
  "language_info": {
   "codemirror_mode": {
    "name": "ipython",
    "version": 3
   },
   "file_extension": ".py",
   "mimetype": "text/x-python",
   "name": "python",
   "nbconvert_exporter": "python",
   "pygments_lexer": "ipython3",
   "version": "3.10.10"
  }
 },
 "nbformat": 4,
 "nbformat_minor": 5
}
