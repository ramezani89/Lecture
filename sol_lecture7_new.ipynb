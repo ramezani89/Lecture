{
 "cells": [
  {
   "cell_type": "code",
   "execution_count": null,
   "id": "3d7bce56-dcdc-4894-81af-043167a5cc16",
   "metadata": {
    "tags": []
   },
   "outputs": [],
   "source": [
    "import numpy as np"
   ]
  },
  {
   "cell_type": "code",
   "execution_count": null,
   "id": "867599ca-89de-47c1-b68b-2de31bb82784",
   "metadata": {
    "tags": []
   },
   "outputs": [],
   "source": [
    "import pandas as pd"
   ]
  },
  {
   "cell_type": "code",
   "execution_count": null,
   "id": "add1aebb-3df7-4d8e-8aaf-b50832c69f9b",
   "metadata": {
    "tags": []
   },
   "outputs": [],
   "source": [
    "import matplotlib.pyplot as plt"
   ]
  },
  {
   "cell_type": "code",
   "execution_count": null,
   "id": "21386a82-7d4e-4fd1-a415-bd31570e3e4c",
   "metadata": {
    "tags": []
   },
   "outputs": [],
   "source": [
    "climate = pd.read_csv('climate.csv')\n",
    "print(climate)"
   ]
  },
  {
   "cell_type": "code",
   "execution_count": null,
   "id": "ab706b7c-bd53-4206-85b5-e4a6f46140b0",
   "metadata": {
    "tags": []
   },
   "outputs": [],
   "source": [
    "##filtering and assign"
   ]
  },
  {
   "cell_type": "code",
   "execution_count": null,
   "id": "c8b74a46-f14a-48a5-933e-b2e6053e28b2",
   "metadata": {
    "tags": []
   },
   "outputs": [],
   "source": [
    "climate[climate['Temperature (Celsius)'] > 22]"
   ]
  },
  {
   "cell_type": "code",
   "execution_count": null,
   "id": "20f30669-3bee-4d9a-bd60-3c72c16ec323",
   "metadata": {
    "tags": []
   },
   "outputs": [],
   "source": [
    "new_filter = (climate['Temperature (Celsius)'] == 18.9) | (climate['Temperature (Celsius)'] == 20.1)\n",
    "climate[new_filter]"
   ]
  },
  {
   "cell_type": "code",
   "execution_count": null,
   "id": "c73fb836-e5bf-43db-bca1-785b82b6928d",
   "metadata": {
    "tags": []
   },
   "outputs": [],
   "source": [
    "new_filter = climate['Temperature (Celsius)'].isin([18.9,20.1])\n",
    "climate[new_filter]"
   ]
  },
  {
   "cell_type": "code",
   "execution_count": null,
   "id": "d7755eda-c5be-406d-88b2-d2570d632f72",
   "metadata": {
    "tags": []
   },
   "outputs": [],
   "source": [
    "climate.loc[climate['Temperature (Celsius)'] > 18.9, 'Temperature (Celsius)'] = 20\n",
    "climate"
   ]
  },
  {
   "cell_type": "markdown",
   "id": "41b6b8e2-36ae-401b-9afb-77211205839f",
   "metadata": {},
   "source": [
    "Exercise 1: substitute the humidity values above 60 with 65 in the 'Humidity (%)' column of the 'climate' DataFrame"
   ]
  },
  {
   "cell_type": "code",
   "execution_count": null,
   "id": "838c037e-6204-4df6-9c39-affb8c665411",
   "metadata": {
    "tags": []
   },
   "outputs": [],
   "source": [
    "climate.loc[climate['Humidity (%)'] > 60, 'Humidity (%)'] = 65\n",
    "climate"
   ]
  },
  {
   "cell_type": "code",
   "execution_count": null,
   "id": "2bf878d0-965e-40c3-b6c9-1b9ec3fdff6a",
   "metadata": {
    "tags": []
   },
   "outputs": [],
   "source": [
    "##copy"
   ]
  },
  {
   "cell_type": "code",
   "execution_count": null,
   "id": "2e505aa1-a08d-4252-bc99-f3b88263c8c2",
   "metadata": {
    "tags": []
   },
   "outputs": [],
   "source": [
    "currency = pd.read_csv('currency.csv')\n",
    "print(currency)"
   ]
  },
  {
   "cell_type": "code",
   "execution_count": null,
   "id": "0554d6c7-3c8f-43bb-ab82-588693cbd174",
   "metadata": {
    "tags": []
   },
   "outputs": [],
   "source": [
    "currency2 = currency"
   ]
  },
  {
   "cell_type": "code",
   "execution_count": null,
   "id": "f4a44bdc-a803-4c94-be9f-054381f5592f",
   "metadata": {
    "tags": []
   },
   "outputs": [],
   "source": [
    "currency2.iloc[1, 1] = 50\n",
    "currency2"
   ]
  },
  {
   "cell_type": "code",
   "execution_count": null,
   "id": "45e95c13-a066-43e7-88ac-c31a39aec9b7",
   "metadata": {
    "tags": []
   },
   "outputs": [],
   "source": [
    "currency"
   ]
  },
  {
   "cell_type": "code",
   "execution_count": null,
   "id": "a0e82706-8914-4fc3-819a-005d3d937315",
   "metadata": {
    "tags": []
   },
   "outputs": [],
   "source": [
    "currency = pd.read_csv('currency.csv')\n",
    "print(currency)"
   ]
  },
  {
   "cell_type": "code",
   "execution_count": null,
   "id": "3cb0179d-5161-40d6-b599-27bb5ca6df94",
   "metadata": {
    "tags": []
   },
   "outputs": [],
   "source": [
    "currency2 = currency.copy()"
   ]
  },
  {
   "cell_type": "code",
   "execution_count": null,
   "id": "99a79d7a-6331-456e-be5f-ba291f4e2a8c",
   "metadata": {
    "tags": []
   },
   "outputs": [],
   "source": [
    "currency2.iloc[1, 1] = 50\n",
    "currency2"
   ]
  },
  {
   "cell_type": "code",
   "execution_count": null,
   "id": "033804a9-26ff-4822-a3ff-1e4571e0f290",
   "metadata": {
    "tags": []
   },
   "outputs": [],
   "source": [
    "currency"
   ]
  },
  {
   "cell_type": "markdown",
   "id": "13718f0e-a721-48ba-8e85-7b3b72cc0c64",
   "metadata": {},
   "source": [
    "Exercise 2: read in the climate.csv file again, make a copy of the table, substitude the wind speeds equall to 13 and 8 with 10 (with both conditional and isin methods) and creat a plot of wind speed with respect to the countries name, include title, labels and legend in your figure"
   ]
  },
  {
   "cell_type": "code",
   "execution_count": null,
   "id": "10f970e6-3a7c-42c6-8106-fc9d54b9836b",
   "metadata": {
    "tags": []
   },
   "outputs": [],
   "source": [
    "climate = pd.read_csv('climate.csv')"
   ]
  },
  {
   "cell_type": "code",
   "execution_count": null,
   "id": "dcc16593-700a-456b-8394-0f549ec6a1ce",
   "metadata": {
    "tags": []
   },
   "outputs": [],
   "source": [
    "climate_copy = climate.copy()"
   ]
  },
  {
   "cell_type": "code",
   "execution_count": null,
   "id": "fed608a2-db5c-4628-b96f-ad0b077c4564",
   "metadata": {
    "tags": []
   },
   "outputs": [],
   "source": [
    "climate_copy.loc[climate_copy['Wind Speed (km/h)'] == 13, 'Wind Speed (km/h)'] = 10\n",
    "climate_copy.loc[climate_copy['Wind Speed (km/h)'] == 8, 'Wind Speed (km/h)'] = 10"
   ]
  },
  {
   "cell_type": "code",
   "execution_count": null,
   "id": "6f5df2cf-a873-4f14-bc8d-96d66cef7cdd",
   "metadata": {
    "tags": []
   },
   "outputs": [],
   "source": [
    "climate_copy.loc[climate_copy['Wind Speed (km/h)'].isin([13, 8]), 'Wind Speed (km/h)'] = 10"
   ]
  },
  {
   "cell_type": "code",
   "execution_count": null,
   "id": "40ae2f6c-0f46-4e64-895d-aca7a2129833",
   "metadata": {
    "tags": []
   },
   "outputs": [],
   "source": [
    "climate_copy.plot(x='Country', y='Wind Speed (km/h)');\n",
    "plt.title('Wind Speed in Different Countries');\n",
    "plt.xticks(rotation=45, ha='right');\n",
    "plt.xlabel('Country');\n",
    "plt.ylabel('Wind Speed');\n",
    "plt.legend();\n",
    "plt.show()"
   ]
  },
  {
   "cell_type": "markdown",
   "id": "1a1c1213-de2d-44ef-9255-897380132353",
   "metadata": {},
   "source": [
    "Exercise 3: Make a copy of the currency file in which the value in the 2nd row and 3rd column has been substituted, and save this new file."
   ]
  },
  {
   "cell_type": "code",
   "execution_count": null,
   "id": "c12e68ab-4728-493f-836c-fe12b4117f5e",
   "metadata": {
    "tags": []
   },
   "outputs": [],
   "source": [
    "currency_data = pd.read_csv('currency.csv')\n",
    "currency_data_copy = currency_data.copy()\n",
    "currency_data_copy.iloc[1, 2]=10\n",
    "currency_data_copy.to_csv('currency_modified.csv', index=False)"
   ]
  },
  {
   "cell_type": "markdown",
   "id": "9312aba9-340e-41c0-ab51-c1611cd81099",
   "metadata": {},
   "source": [
    "Reference: https://jupyter.org https://the-turing-way.netlify.app/communication/binder/zero-to-binder.html https://docs.python.org https://wsform.com/knowledgebase/sample-csv-files/ https://geobgu.xyz/py/"
   ]
  }
 ],
 "metadata": {
  "kernelspec": {
   "display_name": "Python 3 (ipykernel)",
   "language": "python",
   "name": "python3"
  },
  "language_info": {
   "codemirror_mode": {
    "name": "ipython",
    "version": 3
   },
   "file_extension": ".py",
   "mimetype": "text/x-python",
   "name": "python",
   "nbconvert_exporter": "python",
   "pygments_lexer": "ipython3",
   "version": "3.10.11"
  }
 },
 "nbformat": 4,
 "nbformat_minor": 5
}
