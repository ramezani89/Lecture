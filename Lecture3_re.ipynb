{
 "cells": [
  {
   "cell_type": "code",
   "execution_count": 2,
   "id": "c053deb2-1c68-471c-9f41-524a20751289",
   "metadata": {},
   "outputs": [],
   "source": [
    "import numpy as np"
   ]
  },
  {
   "cell_type": "code",
   "execution_count": 3,
   "id": "63071bbe-91cb-45a3-8022-e75c6dd105da",
   "metadata": {},
   "outputs": [
    {
     "name": "stdout",
     "output_type": "stream",
     "text": [
      "[ 5  4 -7 11]\n"
     ]
    }
   ],
   "source": [
    "x = np.array([5, 4, -7, 11])\n",
    "print(x)\n"
   ]
  },
  {
   "cell_type": "code",
   "execution_count": 4,
   "id": "510609c7-7ce5-4db8-be02-e544f2ae7ed6",
   "metadata": {},
   "outputs": [
    {
     "name": "stdout",
     "output_type": "stream",
     "text": [
      "[[4 5 0]\n",
      " [3 7 9]\n",
      " [2 1 2]]\n"
     ]
    }
   ],
   "source": [
    "y = np.array([[4, 5, 0], [3, 7, 9], [2, 1, 2]])\n",
    "print(y)"
   ]
  },
  {
   "cell_type": "code",
   "execution_count": 5,
   "id": "9fe96567-45d1-42c4-9816-d428d55e60eb",
   "metadata": {},
   "outputs": [
    {
     "name": "stdout",
     "output_type": "stream",
     "text": [
      "[[[ 1  2  3]\n",
      "  [ 4  5  6]\n",
      "  [ 7  8  9]]\n",
      "\n",
      " [[10 11 12]\n",
      "  [13 14 15]\n",
      "  [16 17 18]]]\n"
     ]
    }
   ],
   "source": [
    "z = np.array([[[1,2,3], [4,5,6], [7,8,9]], [[10,11,12], [13,14,15], [16,17,18]]])\n",
    "print(z)"
   ]
  },
  {
   "cell_type": "code",
   "execution_count": 6,
   "id": "b4735008-3883-41f2-be6f-e90cdeff9d2b",
   "metadata": {},
   "outputs": [
    {
     "name": "stdout",
     "output_type": "stream",
     "text": [
      "[[0 1 2 3 4]\n",
      " [5 6 7 8 9]]\n"
     ]
    }
   ],
   "source": [
    "b = np.arange(10).reshape(2, 5) \n",
    "print(b)"
   ]
  },
  {
   "cell_type": "code",
   "execution_count": 7,
   "id": "982fa54c-431c-4ff6-992e-d434bef1f93b",
   "metadata": {},
   "outputs": [
    {
     "data": {
      "text/plain": [
       "numpy.ndarray"
      ]
     },
     "execution_count": 7,
     "metadata": {},
     "output_type": "execute_result"
    }
   ],
   "source": [
    "type(b)"
   ]
  },
  {
   "cell_type": "code",
   "execution_count": 8,
   "id": "747b73cc-38eb-4b9d-863b-098531f2b6cb",
   "metadata": {},
   "outputs": [
    {
     "data": {
      "text/plain": [
       "(2, 5)"
      ]
     },
     "execution_count": 8,
     "metadata": {},
     "output_type": "execute_result"
    }
   ],
   "source": [
    "b.shape"
   ]
  },
  {
   "cell_type": "code",
   "execution_count": 9,
   "id": "4deda5fc-6055-45c7-85f4-163990da68b3",
   "metadata": {},
   "outputs": [
    {
     "data": {
      "text/plain": [
       "10"
      ]
     },
     "execution_count": 9,
     "metadata": {},
     "output_type": "execute_result"
    }
   ],
   "source": [
    "b.size"
   ]
  },
  {
   "cell_type": "code",
   "execution_count": 10,
   "id": "032c96ed-401c-453a-832d-a4715d3feee7",
   "metadata": {},
   "outputs": [
    {
     "data": {
      "text/plain": [
       "2"
      ]
     },
     "execution_count": 10,
     "metadata": {},
     "output_type": "execute_result"
    }
   ],
   "source": [
    "b.ndim"
   ]
  },
  {
   "cell_type": "markdown",
   "id": "10a1965e-04d3-48a0-8da2-19f8a91023c3",
   "metadata": {},
   "source": [
    "Exercise1:Create a 3-dimensional array using np.arange() and reshape and check for shape, size, dimension"
   ]
  },
  {
   "cell_type": "code",
   "execution_count": 11,
   "id": "9ecf651b-d5e6-48a2-b672-efd5b5dfb0af",
   "metadata": {},
   "outputs": [
    {
     "name": "stdout",
     "output_type": "stream",
     "text": [
      "[[[ 1  2  3]\n",
      "  [ 4  5  6]\n",
      "  [ 7  8  9]]\n",
      "\n",
      " [[10 11 12]\n",
      "  [13 14 15]\n",
      "  [16 17 18]]]\n"
     ]
    }
   ],
   "source": [
    "z = np.array([[[1,2,3], [4,5,6], [7,8,9]], [[10,11,12], [13,14,15], [16,17,18]]])\n",
    "print(z)"
   ]
  },
  {
   "cell_type": "markdown",
   "id": "6f9810c6-aa4f-47a5-ac0d-6bbf30073b43",
   "metadata": {},
   "source": [
    "Exercise2:Extract the value 15 from the z array above by indexing"
   ]
  },
  {
   "cell_type": "code",
   "execution_count": 12,
   "id": "9b4516c2-051a-42c9-8d21-842a6443dc0b",
   "metadata": {},
   "outputs": [],
   "source": [
    "##array slice"
   ]
  },
  {
   "cell_type": "code",
   "execution_count": 13,
   "id": "75f5ddf1-a097-4dec-8506-425eef23d943",
   "metadata": {},
   "outputs": [
    {
     "data": {
      "text/plain": [
       "array([16, 17, 18])"
      ]
     },
     "execution_count": 13,
     "metadata": {},
     "output_type": "execute_result"
    }
   ],
   "source": [
    "z[1, 2, :]"
   ]
  },
  {
   "cell_type": "code",
   "execution_count": 14,
   "id": "6b84b864-7a9e-4569-8c28-ab7daef344a2",
   "metadata": {},
   "outputs": [
    {
     "data": {
      "text/plain": [
       "array([[4, 5, 0],\n",
       "       [3, 7, 9]])"
      ]
     },
     "execution_count": 14,
     "metadata": {},
     "output_type": "execute_result"
    }
   ],
   "source": [
    "y[:2, :]"
   ]
  },
  {
   "cell_type": "code",
   "execution_count": 15,
   "id": "2c3b95c2-2141-4034-88cb-832c7c7b059f",
   "metadata": {},
   "outputs": [
    {
     "data": {
      "text/plain": [
       "array([[3, 7, 9],\n",
       "       [2, 1, 2]])"
      ]
     },
     "execution_count": 15,
     "metadata": {},
     "output_type": "execute_result"
    }
   ],
   "source": [
    "y[1:, :]"
   ]
  },
  {
   "cell_type": "markdown",
   "id": "6969e989-a1b6-4c88-ae66-2856883b0427",
   "metadata": {},
   "source": [
    "Exercise3:Extract the 2nd layer, first and 2nd rows and all columns from the z array above by slice and indexing"
   ]
  },
  {
   "cell_type": "code",
   "execution_count": 16,
   "id": "e12ccf26-ad5e-4e5b-b3ff-2715c74c03a3",
   "metadata": {},
   "outputs": [],
   "source": [
    "##vectorizing and summarizing"
   ]
  },
  {
   "cell_type": "code",
   "execution_count": 17,
   "id": "86daa8f9-0dee-4fa7-a95f-9fa6041f5c20",
   "metadata": {},
   "outputs": [
    {
     "data": {
      "text/plain": [
       "array([ 7,  6, -5, 13])"
      ]
     },
     "execution_count": 17,
     "metadata": {},
     "output_type": "execute_result"
    }
   ],
   "source": [
    "x+2"
   ]
  },
  {
   "cell_type": "code",
   "execution_count": 18,
   "id": "0a6f9261-469b-4230-9f87-77380b3902df",
   "metadata": {},
   "outputs": [
    {
     "data": {
      "text/plain": [
       "array([ 4,  3, -8, 10])"
      ]
     },
     "execution_count": 18,
     "metadata": {},
     "output_type": "execute_result"
    }
   ],
   "source": [
    "x-1"
   ]
  },
  {
   "cell_type": "code",
   "execution_count": 19,
   "id": "139c092c-73a6-4c6a-974c-b69b604b9ce7",
   "metadata": {},
   "outputs": [
    {
     "data": {
      "text/plain": [
       "array([ 25,  16,  49, 121])"
      ]
     },
     "execution_count": 19,
     "metadata": {},
     "output_type": "execute_result"
    }
   ],
   "source": [
    "x**2"
   ]
  },
  {
   "cell_type": "code",
   "execution_count": 20,
   "id": "6c95159b-5c24-4468-95eb-648267dc0ee5",
   "metadata": {},
   "outputs": [
    {
     "data": {
      "text/plain": [
       "array([ 5,  4,  7, 11])"
      ]
     },
     "execution_count": 20,
     "metadata": {},
     "output_type": "execute_result"
    }
   ],
   "source": [
    "np.abs(x)"
   ]
  },
  {
   "cell_type": "code",
   "execution_count": 21,
   "id": "59c467ab-d8dc-47a6-92cb-6d5c3711f0cb",
   "metadata": {},
   "outputs": [
    {
     "data": {
      "text/plain": [
       "11"
      ]
     },
     "execution_count": 21,
     "metadata": {},
     "output_type": "execute_result"
    }
   ],
   "source": [
    "np.max(x)"
   ]
  },
  {
   "cell_type": "code",
   "execution_count": 22,
   "id": "730acf40-1ffb-4680-91f7-bb7c0bdb7ca0",
   "metadata": {},
   "outputs": [
    {
     "data": {
      "text/plain": [
       "4.5"
      ]
     },
     "execution_count": 22,
     "metadata": {},
     "output_type": "execute_result"
    }
   ],
   "source": [
    "np.median(x)"
   ]
  },
  {
   "cell_type": "markdown",
   "id": "984ae9a3-a088-46ba-8349-0db3479c694f",
   "metadata": {},
   "source": [
    "Exercise4: Write a Python program to find the median of a given array of numbers with for and if loop"
   ]
  },
  {
   "cell_type": "markdown",
   "id": "66eaf073-8623-4884-a2bd-d0823ef56f7e",
   "metadata": {},
   "source": [
    "Exercise5: Write a Python program to find the median of a given array of numbers using vectorizing"
   ]
  },
  {
   "cell_type": "code",
   "execution_count": 23,
   "id": "8a412032-b2d2-4412-9bab-07808fc0a344",
   "metadata": {},
   "outputs": [
    {
     "data": {
      "text/plain": [
       "array([False,  True,  True, False])"
      ]
     },
     "execution_count": 23,
     "metadata": {},
     "output_type": "execute_result"
    }
   ],
   "source": [
    "x<5 "
   ]
  },
  {
   "cell_type": "code",
   "execution_count": 24,
   "id": "e064e632-45fd-44c7-94cb-f36c392b9691",
   "metadata": {},
   "outputs": [
    {
     "data": {
      "text/plain": [
       "array([False, False, False,  True])"
      ]
     },
     "execution_count": 24,
     "metadata": {},
     "output_type": "execute_result"
    }
   ],
   "source": [
    "x==11"
   ]
  },
  {
   "cell_type": "code",
   "execution_count": 25,
   "id": "0689f910-250d-4f60-a2d9-3d434e847e97",
   "metadata": {},
   "outputs": [
    {
     "data": {
      "text/plain": [
       "array([False, False,  True, False])"
      ]
     },
     "execution_count": 25,
     "metadata": {},
     "output_type": "execute_result"
    }
   ],
   "source": [
    "~(x > 1)"
   ]
  },
  {
   "cell_type": "code",
   "execution_count": 26,
   "id": "945e8eda-745a-4c21-a571-5df689f95306",
   "metadata": {},
   "outputs": [],
   "source": [
    "##masks for subsetting"
   ]
  },
  {
   "cell_type": "code",
   "execution_count": 27,
   "id": "001af992-0204-4ba9-85bf-e8d5f02011f0",
   "metadata": {
    "tags": []
   },
   "outputs": [
    {
     "data": {
      "text/plain": [
       "array([ 4, -7])"
      ]
     },
     "execution_count": 27,
     "metadata": {},
     "output_type": "execute_result"
    }
   ],
   "source": [
    "x[x < 5]"
   ]
  },
  {
   "cell_type": "code",
   "execution_count": 28,
   "id": "8fc7999b-2001-4dce-8697-7b7b78ec5209",
   "metadata": {
    "tags": []
   },
   "outputs": [
    {
     "data": {
      "text/plain": [
       "array([ 5, 40, 40, 11])"
      ]
     },
     "execution_count": 28,
     "metadata": {},
     "output_type": "execute_result"
    }
   ],
   "source": [
    "x[x < 5]=40\n",
    "x\n"
   ]
  },
  {
   "cell_type": "markdown",
   "id": "75b5c1b3-f6b1-4203-9e28-020789fb0469",
   "metadata": {},
   "source": [
    "Exercise6: Substitute the values from array x which are not greater than 20,or equal to 11 with 30 (use logical operator not and or)"
   ]
  },
  {
   "cell_type": "code",
   "execution_count": 29,
   "id": "e2f5dd5c-44dd-4339-acea-887ea3803386",
   "metadata": {},
   "outputs": [
    {
     "data": {
      "text/plain": [
       "96"
      ]
     },
     "execution_count": 29,
     "metadata": {},
     "output_type": "execute_result"
    }
   ],
   "source": [
    "np.sum(x)"
   ]
  },
  {
   "cell_type": "code",
   "execution_count": 30,
   "id": "3da6bb36-6173-4e18-9df2-0d3715027b5f",
   "metadata": {},
   "outputs": [
    {
     "data": {
      "text/plain": [
       "2"
      ]
     },
     "execution_count": 30,
     "metadata": {},
     "output_type": "execute_result"
    }
   ],
   "source": [
    "np.sum(x<35)"
   ]
  },
  {
   "cell_type": "code",
   "execution_count": 31,
   "id": "1bb8c0f2-d265-4e89-a6e8-50f36a61e300",
   "metadata": {},
   "outputs": [
    {
     "data": {
      "text/plain": [
       "array([ 9, 13, 11])"
      ]
     },
     "execution_count": 31,
     "metadata": {},
     "output_type": "execute_result"
    }
   ],
   "source": [
    "np.sum(y, axis=0)"
   ]
  },
  {
   "cell_type": "code",
   "execution_count": 32,
   "id": "26509fa6-739c-4248-9de0-b4bce76927e4",
   "metadata": {},
   "outputs": [
    {
     "data": {
      "text/plain": [
       "array([ 9, 19,  5])"
      ]
     },
     "execution_count": 32,
     "metadata": {},
     "output_type": "execute_result"
    }
   ],
   "source": [
    "np.sum(y, axis=1)"
   ]
  },
  {
   "cell_type": "markdown",
   "id": "43f143c1-7353-4492-aedf-b6a9d204d401",
   "metadata": {},
   "source": [
    "Reference: https://jupyter.org\n",
    "https://the-turing-way.netlify.app/communication/binder/zero-to-binder.html\n",
    "https://docs.python.org\n",
    "https://geobgu.xyz/py/\n"
   ]
  }
 ],
 "metadata": {
  "kernelspec": {
   "display_name": "Python 3 (ipykernel)",
   "language": "python",
   "name": "python3"
  },
  "language_info": {
   "codemirror_mode": {
    "name": "ipython",
    "version": 3
   },
   "file_extension": ".py",
   "mimetype": "text/x-python",
   "name": "python",
   "nbconvert_exporter": "python",
   "pygments_lexer": "ipython3",
   "version": "3.10.10"
  }
 },
 "nbformat": 4,
 "nbformat_minor": 5
}
