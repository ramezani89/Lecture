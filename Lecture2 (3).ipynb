{
 "cells": [
  {
   "cell_type": "code",
   "execution_count": 70,
   "id": "89b8953a-5999-4d08-99c1-5ceabc6beaa5",
   "metadata": {},
   "outputs": [],
   "source": [
    "## Numeric int, float"
   ]
  },
  {
   "cell_type": "code",
   "execution_count": 82,
   "id": "1bd2d73a-1587-4d8f-8081-984f54ba585f",
   "metadata": {},
   "outputs": [
    {
     "data": {
      "text/plain": [
       "int"
      ]
     },
     "execution_count": 82,
     "metadata": {},
     "output_type": "execute_result"
    }
   ],
   "source": [
    "a=1\n",
    "type(a)\n"
   ]
  },
  {
   "cell_type": "code",
   "execution_count": 84,
   "id": "40217b2b-52e0-4268-a015-508358170f72",
   "metadata": {},
   "outputs": [
    {
     "data": {
      "text/plain": [
       "float"
      ]
     },
     "execution_count": 84,
     "metadata": {},
     "output_type": "execute_result"
    }
   ],
   "source": [
    "b= 2.8\n",
    "type(2.8)"
   ]
  },
  {
   "cell_type": "code",
   "execution_count": 73,
   "id": "5ab6540b-f166-41fb-914f-20ca7f3994d1",
   "metadata": {},
   "outputs": [],
   "source": [
    "## Sequence list, tuple"
   ]
  },
  {
   "cell_type": "code",
   "execution_count": 74,
   "id": "e54accb1-2896-4a2e-9af9-4b4594132ff0",
   "metadata": {},
   "outputs": [
    {
     "data": {
      "text/plain": [
       "list"
      ]
     },
     "execution_count": 74,
     "metadata": {},
     "output_type": "execute_result"
    }
   ],
   "source": [
    "type([4, 6, 7])"
   ]
  },
  {
   "cell_type": "code",
   "execution_count": 75,
   "id": "f6fa0790-3390-45c7-a49d-e5a10ae14a20",
   "metadata": {},
   "outputs": [
    {
     "data": {
      "text/plain": [
       "tuple"
      ]
     },
     "execution_count": 75,
     "metadata": {},
     "output_type": "execute_result"
    }
   ],
   "source": [
    "type((1, 5))"
   ]
  },
  {
   "cell_type": "code",
   "execution_count": 76,
   "id": "06b660a7-d97f-440f-ac44-856aa1cfcbc7",
   "metadata": {},
   "outputs": [],
   "source": [
    "## String str"
   ]
  },
  {
   "cell_type": "code",
   "execution_count": 77,
   "id": "7394fef0-3ed8-4192-8392-00a6308707ef",
   "metadata": {},
   "outputs": [
    {
     "data": {
      "text/plain": [
       "str"
      ]
     },
     "execution_count": 77,
     "metadata": {},
     "output_type": "execute_result"
    }
   ],
   "source": [
    "type(\"I like Math!\")\n"
   ]
  },
  {
   "cell_type": "code",
   "execution_count": 78,
   "id": "9921f14b-ce0e-4248-8828-9cdc4eff0a87",
   "metadata": {},
   "outputs": [],
   "source": [
    "## Mapping dict"
   ]
  },
  {
   "cell_type": "code",
   "execution_count": 79,
   "id": "789031b7-966f-4ced-ab7d-dfc7ff6ee904",
   "metadata": {},
   "outputs": [
    {
     "data": {
      "text/plain": [
       "dict"
      ]
     },
     "execution_count": 79,
     "metadata": {},
     "output_type": "execute_result"
    }
   ],
   "source": [
    "type({\"number of student\": 8, \"p\": 5})"
   ]
  },
  {
   "cell_type": "code",
   "execution_count": 57,
   "id": "e8701ad8-725d-4dfa-9dbe-a9057901f677",
   "metadata": {},
   "outputs": [],
   "source": [
    "##set"
   ]
  },
  {
   "cell_type": "code",
   "execution_count": 58,
   "id": "44f2f005-43e8-4bbd-8792-e24bd415bd9f",
   "metadata": {},
   "outputs": [
    {
     "data": {
      "text/plain": [
       "set"
      ]
     },
     "execution_count": 58,
     "metadata": {},
     "output_type": "execute_result"
    }
   ],
   "source": [
    "type({\"number of student\", \"p\"})"
   ]
  },
  {
   "cell_type": "code",
   "execution_count": null,
   "id": "c250f478-552a-43b9-ba1d-c569e0bb34a2",
   "metadata": {},
   "outputs": [],
   "source": [
    "##Boolean "
   ]
  },
  {
   "cell_type": "code",
   "execution_count": null,
   "id": "6afd5f11-abd5-4ecf-a0c9-54dc6014a558",
   "metadata": {},
   "outputs": [
    {
     "data": {
      "text/plain": [
       "False"
      ]
     },
     "execution_count": 81,
     "metadata": {},
     "output_type": "execute_result"
    }
   ],
   "source": [
    "1 == 2"
   ]
  },
  {
   "cell_type": "code",
   "execution_count": 60,
   "id": "b61e33a7-8d1f-40d8-aa5b-296ea7678040",
   "metadata": {},
   "outputs": [],
   "source": [
    "c=(\"I like Math!\")"
   ]
  },
  {
   "cell_type": "code",
   "execution_count": null,
   "id": "17e1ecf4-8f1a-40f9-bfd4-b5eae6809f2d",
   "metadata": {},
   "outputs": [
    {
     "name": "stdout",
     "output_type": "stream",
     "text": [
      "l\n"
     ]
    }
   ],
   "source": [
    "print(c[2])"
   ]
  },
  {
   "cell_type": "markdown",
   "id": "b2921c16-dc49-49e0-89b2-b14032e32b97",
   "metadata": {},
   "source": [
    "Excercise1: Assign a list to a variable and check the type and print an element using index!"
   ]
  },
  {
   "cell_type": "markdown",
   "id": "f132b7d1-e052-493f-8e3a-eeeecdb13314",
   "metadata": {},
   "source": [
    "Excercise2: Assign a flot to a variable and use the print() function to print out the following sentence \"the type of 2.8 is <class 'float'>\""
   ]
  },
  {
   "cell_type": "code",
   "execution_count": null,
   "id": "34f040c1-d665-4895-b0c9-cb312d9aba2d",
   "metadata": {},
   "outputs": [],
   "source": [
    "##Arithmetic operators"
   ]
  },
  {
   "cell_type": "code",
   "execution_count": null,
   "id": "316f8170-d838-42d2-9b4b-3ab4f02ca4d2",
   "metadata": {},
   "outputs": [
    {
     "data": {
      "text/plain": [
       "21"
      ]
     },
     "execution_count": 4,
     "metadata": {},
     "output_type": "execute_result"
    }
   ],
   "source": [
    "1+5*4"
   ]
  },
  {
   "cell_type": "code",
   "execution_count": 5,
   "id": "76c2e38a-d33c-42e7-ae90-ce02d827d41e",
   "metadata": {},
   "outputs": [
    {
     "data": {
      "text/plain": [
       "24"
      ]
     },
     "execution_count": 5,
     "metadata": {},
     "output_type": "execute_result"
    }
   ],
   "source": [
    "(1+5)*4"
   ]
  },
  {
   "cell_type": "code",
   "execution_count": 8,
   "id": "dfb8b860-3edd-4d7e-a40f-1ba241ba0b19",
   "metadata": {},
   "outputs": [
    {
     "data": {
      "text/plain": [
       "0"
      ]
     },
     "execution_count": 8,
     "metadata": {},
     "output_type": "execute_result"
    }
   ],
   "source": [
    "30%10"
   ]
  },
  {
   "cell_type": "code",
   "execution_count": 9,
   "id": "8a72c3ba-3f46-4f66-9be9-60134a64030d",
   "metadata": {},
   "outputs": [
    {
     "data": {
      "text/plain": [
       "7"
      ]
     },
     "execution_count": 9,
     "metadata": {},
     "output_type": "execute_result"
    }
   ],
   "source": [
    "15//2"
   ]
  },
  {
   "cell_type": "code",
   "execution_count": 10,
   "id": "5f12f6d1-4fab-4edc-a414-707494a2980f",
   "metadata": {},
   "outputs": [
    {
     "data": {
      "text/plain": [
       "64"
      ]
     },
     "execution_count": 10,
     "metadata": {},
     "output_type": "execute_result"
    }
   ],
   "source": [
    "4**3"
   ]
  },
  {
   "cell_type": "code",
   "execution_count": 4,
   "id": "84aa504f-545e-4ab3-b054-0642e77a1957",
   "metadata": {},
   "outputs": [],
   "source": [
    "##Conditional Statements "
   ]
  },
  {
   "cell_type": "code",
   "execution_count": 1,
   "id": "13414092-be54-4dee-8335-d2584aa36b25",
   "metadata": {},
   "outputs": [
    {
     "name": "stdout",
     "output_type": "stream",
     "text": [
      "you pass the test\n"
     ]
    }
   ],
   "source": [
    "grade=60\n",
    "\n",
    "if grade>50:\n",
    "    print(\"you pass the test\")"
   ]
  },
  {
   "cell_type": "code",
   "execution_count": 2,
   "id": "935d8cbb-0c10-4f84-99f9-cc84637e77ee",
   "metadata": {},
   "outputs": [
    {
     "name": "stdout",
     "output_type": "stream",
     "text": [
      "you are a loser\n"
     ]
    }
   ],
   "source": [
    "a=34\n",
    "if a<20:\n",
    "    print(\"you are a winner\")\n",
    "else:\n",
    "    print(\"you are a loser\")\n",
    "    "
   ]
  },
  {
   "cell_type": "code",
   "execution_count": 3,
   "id": "ae624f4f-8bac-4f88-81f1-6f30062c21c3",
   "metadata": {},
   "outputs": [
    {
     "ename": "IndentationError",
     "evalue": "expected an indented block after 'if' statement on line 3 (1729346631.py, line 4)",
     "output_type": "error",
     "traceback": [
      "\u001b[0;36m  Cell \u001b[0;32mIn[3], line 4\u001b[0;36m\u001b[0m\n\u001b[0;31m    print(\"you pass the test\")\u001b[0m\n\u001b[0m    ^\u001b[0m\n\u001b[0;31mIndentationError\u001b[0m\u001b[0;31m:\u001b[0m expected an indented block after 'if' statement on line 3\n"
     ]
    }
   ],
   "source": [
    "grade=60\n",
    "\n",
    "if grade>50:\n",
    "print(\"you pass the test\")"
   ]
  },
  {
   "cell_type": "markdown",
   "id": "2f7d003b-17f1-4cc8-8d1f-9a82f6ad899c",
   "metadata": {},
   "source": [
    "Excercise3: Given two numbers a and b, write a Python code to check if a is divisible by b."
   ]
  },
  {
   "cell_type": "code",
   "execution_count": 7,
   "id": "e2cc0fcb-6eaa-43c6-b3a1-f9277d792f9c",
   "metadata": {},
   "outputs": [
    {
     "name": "stdout",
     "output_type": "stream",
     "text": [
      "For x=1, y=-3\n",
      "For x=2, y=3\n",
      "For x=3, y=11\n",
      "For x=4, y=21\n",
      "For x=5, y=33\n",
      "For x=6, y=47\n",
      "For x=7, y=63\n",
      "For x=8, y=81\n",
      "For x=9, y=101\n",
      "For x=10, y=123\n"
     ]
    }
   ],
   "source": [
    "\n",
    "for x in range(1,11):\n",
    "  y = x**2 + 3*x - 7\n",
    "  print(f'For x={x}, y={y}')"
   ]
  },
  {
   "cell_type": "code",
   "execution_count": null,
   "id": "0b176c41-97fd-4db5-9296-da9e78f1f5bf",
   "metadata": {},
   "outputs": [],
   "source": []
  }
 ],
 "metadata": {
  "kernelspec": {
   "display_name": "Python 3 (ipykernel)",
   "language": "python",
   "name": "python3"
  },
  "language_info": {
   "codemirror_mode": {
    "name": "ipython",
    "version": 3
   },
   "file_extension": ".py",
   "mimetype": "text/x-python",
   "name": "python",
   "nbconvert_exporter": "python",
   "pygments_lexer": "ipython3",
   "version": "3.10.9"
  }
 },
 "nbformat": 4,
 "nbformat_minor": 5
}
