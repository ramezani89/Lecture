{
 "cells": [
  {
   "cell_type": "code",
   "execution_count": null,
   "id": "c3f2dabd-16e7-4ec7-ad66-d6808d536a3d",
   "metadata": {},
   "outputs": [],
   "source": [
    "import numpy as np"
   ]
  },
  {
   "cell_type": "code",
   "execution_count": null,
   "id": "5eb17a74-301e-4219-a41a-353f97ce2b9a",
   "metadata": {},
   "outputs": [],
   "source": [
    "import pandas as pd"
   ]
  },
  {
   "cell_type": "code",
   "execution_count": null,
   "id": "fc08c449-7309-4b34-97ca-b5068137ad2a",
   "metadata": {},
   "outputs": [],
   "source": [
    "import matplotlib.pyplot as plt"
   ]
  },
  {
   "cell_type": "code",
   "execution_count": null,
   "id": "e38cf40a-b1a4-4d88-b049-d46bdc8e5e99",
   "metadata": {},
   "outputs": [],
   "source": [
    "## Subsetting Series"
   ]
  },
  {
   "cell_type": "code",
   "execution_count": null,
   "id": "79ea1581-b7b1-49a9-a0a3-2d347a8caeb8",
   "metadata": {},
   "outputs": [],
   "source": [
    "h= pd.Series(np.array([1,7,9]))\n",
    "print(h)"
   ]
  },
  {
   "cell_type": "code",
   "execution_count": null,
   "id": "c91d1d5c-b4dc-4f08-b1b0-3d2d82e89bd3",
   "metadata": {},
   "outputs": [],
   "source": [
    "h.loc[2]  "
   ]
  },
  {
   "cell_type": "code",
   "execution_count": null,
   "id": "084743fb-4a76-4145-bf49-ac73eae84e3e",
   "metadata": {},
   "outputs": [],
   "source": [
    "h.loc[:2]"
   ]
  },
  {
   "cell_type": "code",
   "execution_count": null,
   "id": "8922bd2e-2a09-4266-a3a1-fe93f5f666e8",
   "metadata": {},
   "outputs": [],
   "source": [
    "h.loc[[0,1]]"
   ]
  },
  {
   "cell_type": "code",
   "execution_count": null,
   "id": "c02c2651-dba7-46a6-b74e-44aa94db7291",
   "metadata": {},
   "outputs": [],
   "source": [
    "h.iloc[2]  "
   ]
  },
  {
   "cell_type": "code",
   "execution_count": null,
   "id": "da2c0d8c-2152-4532-b6a5-78ee7cd315cb",
   "metadata": {},
   "outputs": [],
   "source": [
    "h.iloc[:2]"
   ]
  },
  {
   "cell_type": "code",
   "execution_count": null,
   "id": "461e7492-af93-4788-880c-c751b23385c3",
   "metadata": {},
   "outputs": [],
   "source": [
    "h.iloc[[0,1]]"
   ]
  },
  {
   "cell_type": "markdown",
   "id": "dd30e463-7894-498a-9ad2-e26bf0dbbe4a",
   "metadata": {},
   "source": [
    "Exercise 1: Extract a individual value (5), slice for row indexed with 2 till 3 and a list of indecices for the row indexed with 1 and 3 from the series named t created from the array([3,5,7,8]))"
   ]
  },
  {
   "cell_type": "code",
   "execution_count": null,
   "id": "d669a88f-7ccb-441c-b1c6-3ef877278366",
   "metadata": {},
   "outputs": [],
   "source": [
    "t= pd.Series(np.array([3,5,7,8]))\n",
    "t"
   ]
  },
  {
   "cell_type": "code",
   "execution_count": null,
   "id": "15f21419-e336-4ff6-9792-3da3df1d66d2",
   "metadata": {},
   "outputs": [],
   "source": [
    "## Subsetting DataFrame"
   ]
  },
  {
   "cell_type": "code",
   "execution_count": null,
   "id": "435ddcce-9ca4-4166-8544-da2a1cfb29b6",
   "metadata": {},
   "outputs": [],
   "source": [
    "States = pd.read_csv('states_by_country_code.csv')\n",
    "print(States)"
   ]
  },
  {
   "cell_type": "code",
   "execution_count": null,
   "id": "7536b1bc-33a1-43f8-9d51-0ea574a54753",
   "metadata": {},
   "outputs": [],
   "source": [
    "States.loc[:, 'Country Code']"
   ]
  },
  {
   "cell_type": "code",
   "execution_count": null,
   "id": "a39e2e51-c6e3-4983-a23d-b45f1729bb6c",
   "metadata": {},
   "outputs": [],
   "source": [
    "States['Country Code']"
   ]
  },
  {
   "cell_type": "code",
   "execution_count": null,
   "id": "018fce2f-c3dd-4e9a-a7b4-e8f486104251",
   "metadata": {},
   "outputs": [],
   "source": [
    "States.loc[:, ['Country Code']]"
   ]
  },
  {
   "cell_type": "code",
   "execution_count": null,
   "id": "7828b64b-d68a-42db-bd6c-14284d1d603f",
   "metadata": {},
   "outputs": [],
   "source": [
    "States[['Country Code']]"
   ]
  },
  {
   "cell_type": "code",
   "execution_count": null,
   "id": "4a179d4d-4131-461e-8fb8-fe6cee1109e2",
   "metadata": {},
   "outputs": [],
   "source": [
    "States[['Country Code','State Code']]"
   ]
  },
  {
   "cell_type": "code",
   "execution_count": null,
   "id": "6be842f7-1293-4287-9ee8-e7a8d4bc9f9c",
   "metadata": {},
   "outputs": [],
   "source": [
    "States.loc[:,'State Code':'State Name']"
   ]
  },
  {
   "cell_type": "code",
   "execution_count": null,
   "id": "e584a233-4f52-4fdd-aa7c-d61e1ae9d08f",
   "metadata": {},
   "outputs": [],
   "source": [
    "States.loc[:, :'State Name']"
   ]
  },
  {
   "cell_type": "markdown",
   "id": "b9c9bb96-ecdf-437b-b5b3-6075bfa8bd20",
   "metadata": {},
   "source": [
    "Exercise 2: Read the country_full.csv file, and select all columns after 'sub-region' columns and save it to a file named country_columnselection.csv (method for saving: your_data.to_csv('your_output'))"
   ]
  },
  {
   "cell_type": "code",
   "execution_count": null,
   "id": "70f98a36-54a1-4864-ba8a-4cd6e952abc5",
   "metadata": {},
   "outputs": [],
   "source": [
    "States.loc[[0], :] "
   ]
  },
  {
   "cell_type": "code",
   "execution_count": null,
   "id": "489b2a59-7135-4c30-99b9-820500663385",
   "metadata": {},
   "outputs": [],
   "source": [
    "States.loc[0:3, :]  "
   ]
  },
  {
   "cell_type": "code",
   "execution_count": null,
   "id": "107b015a-1d0e-47a8-b7fe-de2d94506413",
   "metadata": {},
   "outputs": [],
   "source": [
    "States.iloc[0:3, :]  "
   ]
  },
  {
   "cell_type": "code",
   "execution_count": null,
   "id": "9acd8a4f-409b-496a-856b-481d65da8d12",
   "metadata": {},
   "outputs": [],
   "source": [
    "States.loc[[0, 2], :]"
   ]
  },
  {
   "cell_type": "code",
   "execution_count": null,
   "id": "4d646257-676d-49de-8d35-ee8b7dce1813",
   "metadata": {},
   "outputs": [],
   "source": [
    "States.iloc[[0, 2], :]"
   ]
  },
  {
   "cell_type": "markdown",
   "id": "cdb5a218-8801-46e7-ad55-3c5fcf4e5c75",
   "metadata": {},
   "source": [
    "Exercise 3: Select the 2nd (refer to index) to 4th (refer to index) rows for State Code and Country Code columns in states_by_country_code.csv file. Do .iloc method for rows and .loc method for columns relying on a shortcut data.iloc[].loc[]"
   ]
  },
  {
   "cell_type": "markdown",
   "id": "f788cac6-58cc-47fd-9f7d-3618f22d265c",
   "metadata": {},
   "source": [
    "Exercise 4: Extract the 'BDS' from states_by_country_code.csv file by .iloc method"
   ]
  },
  {
   "cell_type": "code",
   "execution_count": null,
   "id": "81373db4-79a9-41ca-8301-035598a5a780",
   "metadata": {},
   "outputs": [],
   "source": [
    "country = pd.read_csv('country_full.csv')\n",
    "print(country)\n",
    "country['region-code'].iloc[0:5].to_numpy()"
   ]
  },
  {
   "cell_type": "code",
   "execution_count": null,
   "id": "402f1de0-a3b4-4b02-b69d-6058b09264fe",
   "metadata": {},
   "outputs": [],
   "source": [
    "country.iloc[0:5, 8:11].to_numpy() "
   ]
  },
  {
   "cell_type": "code",
   "execution_count": null,
   "id": "157c458e-7887-434e-a02f-aec938159381",
   "metadata": {},
   "outputs": [],
   "source": [
    "a = country['region-code'].iloc[0:5]"
   ]
  },
  {
   "cell_type": "code",
   "execution_count": null,
   "id": "9fa37836-a21a-44dc-b15d-9d66f35ec6d7",
   "metadata": {},
   "outputs": [],
   "source": [
    "a.to_list()"
   ]
  },
  {
   "cell_type": "code",
   "execution_count": null,
   "id": "e52832b4-95eb-48f3-a2f1-1907d4cf452c",
   "metadata": {},
   "outputs": [],
   "source": [
    "country.iloc[0:5, 8:11].to_numpy().tolist()"
   ]
  },
  {
   "cell_type": "markdown",
   "id": "c5fa7794-9d9c-4525-97dd-d9615e7abcbe",
   "metadata": {},
   "source": [
    "Exercise 5: Read the currency.csv file, select a series as well as a dataframe and convert them to the array and to the list "
   ]
  },
  {
   "cell_type": "code",
   "execution_count": null,
   "id": "f2131744-8da3-4789-a716-b72d5b768c9f",
   "metadata": {},
   "outputs": [],
   "source": [
    "h= pd.Series(np.array([1,7,9]))\n",
    "print(h)"
   ]
  },
  {
   "cell_type": "code",
   "execution_count": null,
   "id": "33af6d65-de6a-4d9b-ac4e-61e67520e5d2",
   "metadata": {},
   "outputs": [],
   "source": [
    "h.index = ['a', 'b', 'c']\n",
    "print(h)"
   ]
  },
  {
   "cell_type": "code",
   "execution_count": null,
   "id": "6099947c-ec4c-47ba-8824-9fc61d60a66d",
   "metadata": {},
   "outputs": [],
   "source": [
    "States = pd.read_csv('states_by_country_code.csv')\n",
    "print(States)"
   ]
  },
  {
   "cell_type": "code",
   "execution_count": null,
   "id": "6efce0ed-eb67-423b-ab07-3c96bb04af7b",
   "metadata": {},
   "outputs": [],
   "source": [
    "States = States.set_index('State Code')\n",
    "print(States)"
   ]
  },
  {
   "cell_type": "code",
   "execution_count": null,
   "id": "6be82bb0-754d-402b-8efa-5371719bbf81",
   "metadata": {
    "tags": []
   },
   "outputs": [],
   "source": [
    "h.reset_index(drop=True)"
   ]
  },
  {
   "cell_type": "code",
   "execution_count": null,
   "id": "962be8cc-1dbd-448f-b617-2673f78846dc",
   "metadata": {},
   "outputs": [],
   "source": [
    "States = States.reset_index()\n",
    "States"
   ]
  },
  {
   "cell_type": "code",
   "execution_count": null,
   "id": "0fb14213-2c5f-4a28-9918-02069d2fb589",
   "metadata": {},
   "outputs": [],
   "source": [
    "States.sort_values('State Name')"
   ]
  },
  {
   "cell_type": "code",
   "execution_count": null,
   "id": "7d70192c-9de0-400d-a4da-9fd5a397984a",
   "metadata": {},
   "outputs": [],
   "source": [
    "States.sort_values('State Name', ascending=False)"
   ]
  },
  {
   "cell_type": "code",
   "execution_count": null,
   "id": "94870aee-57f8-43fd-97b4-befd7fdd4c9d",
   "metadata": {
    "tags": []
   },
   "outputs": [],
   "source": [
    "###plotting"
   ]
  },
  {
   "cell_type": "code",
   "execution_count": null,
   "id": "7823db94-12bd-4821-ba0f-9eead3dff44b",
   "metadata": {},
   "outputs": [],
   "source": [
    "country = pd.read_csv('country_full.csv')\n",
    "print(country)"
   ]
  },
  {
   "cell_type": "code",
   "execution_count": null,
   "id": "2eae3a6b-b740-48bb-a424-579342c5abe8",
   "metadata": {},
   "outputs": [],
   "source": [
    "country[['country-code', 'region-code']].hist();"
   ]
  },
  {
   "cell_type": "markdown",
   "id": "5cbd034a-3607-4919-a3a2-96eea4497015",
   "metadata": {},
   "source": [
    "Try it on 2nd row and all the columns"
   ]
  },
  {
   "cell_type": "code",
   "execution_count": null,
   "id": "ce1d9154-183a-4100-8813-3d819a5ba0cd",
   "metadata": {},
   "outputs": [],
   "source": [
    "country['country-code'].plot();"
   ]
  },
  {
   "cell_type": "code",
   "execution_count": null,
   "id": "2c7046ab-cf99-4187-87ee-32a4f3697e8e",
   "metadata": {},
   "outputs": [],
   "source": [
    "country.set_index('name')['country-code'].plot();"
   ]
  },
  {
   "cell_type": "code",
   "execution_count": null,
   "id": "e25b8b85-0811-4dfd-91af-235911b6a39e",
   "metadata": {},
   "outputs": [],
   "source": [
    "country.plot.scatter(x='country-code', y='region-code');"
   ]
  },
  {
   "cell_type": "markdown",
   "id": "3f615d81-7c38-4cc8-84c6-c3622f5c6596",
   "metadata": {},
   "source": [
    "Exercise 6: Read the climate.csv file to a variable named 'climate', generate a line plot from 'Temperature (Celsius)', in the next step change the index to Country and in the 3rd step create a plot with all 3 variables. (put the title and axes labels)"
   ]
  },
  {
   "cell_type": "code",
   "execution_count": null,
   "id": "69f5fa69-bbd6-4e0a-a99f-b7885c708cd4",
   "metadata": {},
   "outputs": [],
   "source": [
    "###Operators"
   ]
  },
  {
   "cell_type": "code",
   "execution_count": null,
   "id": "1c3efb31-9670-4ace-a19d-72f8781c12b2",
   "metadata": {},
   "outputs": [],
   "source": [
    "climate = pd.read_csv('climate.csv')\n",
    "print(climate)"
   ]
  },
  {
   "cell_type": "code",
   "execution_count": null,
   "id": "d3a20dcf-8068-4156-844d-fd5dd58db7aa",
   "metadata": {},
   "outputs": [],
   "source": [
    "climate['Temperature (Celsius)'].min()"
   ]
  },
  {
   "cell_type": "code",
   "execution_count": null,
   "id": "7803d011-c158-41dd-9584-0027ef08b516",
   "metadata": {},
   "outputs": [],
   "source": [
    "climate['Temperature (Celsius)'].max()"
   ]
  },
  {
   "cell_type": "code",
   "execution_count": null,
   "id": "86130653-77e6-47e4-9641-21256b5cfa2d",
   "metadata": {},
   "outputs": [],
   "source": [
    "climate['Temperature (Celsius)'].mean()"
   ]
  },
  {
   "cell_type": "code",
   "execution_count": null,
   "id": "a21ceabd-46cf-41ef-a6b5-91401be6c342",
   "metadata": {},
   "outputs": [],
   "source": [
    "climate[['Temperature (Celsius)','Humidity (%)']].mean()"
   ]
  },
  {
   "cell_type": "code",
   "execution_count": null,
   "id": "39b75878-8726-460c-a00e-7805978e7464",
   "metadata": {},
   "outputs": [],
   "source": [
    "climate[['Temperature (Celsius)','Humidity (%)']]-10"
   ]
  },
  {
   "cell_type": "code",
   "execution_count": null,
   "id": "e6e6ac3d-3274-4c8b-b629-c5758969d263",
   "metadata": {},
   "outputs": [],
   "source": [
    "climate['df'] = climate['Temperature (Celsius)'] - climate['Humidity (%)']\n",
    "print(climate)"
   ]
  },
  {
   "cell_type": "code",
   "execution_count": null,
   "id": "b66903c7-77cc-4adb-a211-25b09f455c5f",
   "metadata": {},
   "outputs": [],
   "source": [
    "climate.set_index('Date')['df'].plot();"
   ]
  },
  {
   "cell_type": "markdown",
   "id": "af412ce5-b81f-427a-9f89-e45a7fd8ac74",
   "metadata": {},
   "source": [
    "Exercise 7: create a column as the sum of the wind speed and humidity and create a scatter plot between the new column and the temperature"
   ]
  },
  {
   "cell_type": "code",
   "execution_count": null,
   "id": "f7e89c16-a2fa-482b-a977-4c07888d7b31",
   "metadata": {},
   "outputs": [],
   "source": [
    "climate['sum'] = climate['Wind Speed (km/h)'] + climate['Humidity (%)']\n",
    "print(climate)"
   ]
  },
  {
   "cell_type": "code",
   "execution_count": null,
   "id": "47b803d3-9cf3-4315-96e3-0dae4d31a12b",
   "metadata": {},
   "outputs": [],
   "source": [
    "climate.plot.scatter(x='sum', y='Temperature (Celsius)');"
   ]
  },
  {
   "cell_type": "markdown",
   "id": "f90905ac-ab80-4fc2-97d7-da02af67fe93",
   "metadata": {},
   "source": [
    "Exercise 8: Add a column named 'rain' with an duplicated value over all rows"
   ]
  },
  {
   "cell_type": "code",
   "execution_count": null,
   "id": "472af1e2-5677-40a3-bd3a-f70028919924",
   "metadata": {},
   "outputs": [],
   "source": [
    "climate = climate.drop(['sum'], axis=1)\n",
    "climate"
   ]
  },
  {
   "cell_type": "code",
   "execution_count": null,
   "id": "1005a9d0-0b80-4155-b434-2cb92dbd8ac0",
   "metadata": {},
   "outputs": [],
   "source": [
    "climate[climate['Date'] > 2023-5-3]"
   ]
  },
  {
   "cell_type": "markdown",
   "id": "a5cbe3fc-9caf-4300-be40-e7feaa103497",
   "metadata": {},
   "source": [
    "Reference: https://jupyter.org https://the-turing-way.netlify.app/communication/binder/zero-to-binder.html https://docs.python.org https://wsform.com/knowledgebase/sample-csv-files/ https://geobgu.xyz/py/"
   ]
  }
 ],
 "metadata": {
  "kernelspec": {
   "display_name": "Python 3 (ipykernel)",
   "language": "python",
   "name": "python3"
  },
  "language_info": {
   "codemirror_mode": {
    "name": "ipython",
    "version": 3
   },
   "file_extension": ".py",
   "mimetype": "text/x-python",
   "name": "python",
   "nbconvert_exporter": "python",
   "pygments_lexer": "ipython3",
   "version": "3.10.10"
  }
 },
 "nbformat": 4,
 "nbformat_minor": 5
}
