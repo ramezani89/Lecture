{
 "cells": [
  {
   "cell_type": "code",
   "execution_count": null,
   "id": "55653ca1-924f-4c38-aa3f-c363cd38c096",
   "metadata": {
    "tags": []
   },
   "outputs": [],
   "source": [
    "import numpy as np"
   ]
  },
  {
   "cell_type": "code",
   "execution_count": null,
   "id": "2d0157c9-c7f2-4934-91ed-480a866619ba",
   "metadata": {},
   "outputs": [],
   "source": [
    "x = np.array([5, 4, -7, 11])\n",
    "print(x)"
   ]
  },
  {
   "cell_type": "code",
   "execution_count": null,
   "id": "7046a5b7-4aa1-4c62-b966-2ec27500567d",
   "metadata": {},
   "outputs": [],
   "source": [
    "y = np.array([[4, 5, 0], [3, 7, 9], [2, 1, 2]])\n",
    "print(y)"
   ]
  },
  {
   "cell_type": "code",
   "execution_count": null,
   "id": "18c2e8e3-50aa-4f69-9b57-debe1b91786c",
   "metadata": {},
   "outputs": [],
   "source": [
    "z = np.array([[[1,2,3], [4,5,6], [7,8,9]], [[10,11,12], [13,14,15], [16,17,18]]])\n",
    "print(z)"
   ]
  },
  {
   "cell_type": "code",
   "execution_count": null,
   "id": "ac1efc88-e448-416d-9f9a-b145653605e7",
   "metadata": {},
   "outputs": [],
   "source": [
    "b = np.arange(10).reshape(2, 5) \n",
    "print(b)"
   ]
  },
  {
   "cell_type": "code",
   "execution_count": null,
   "id": "3794a309-ddf1-45f6-9f2d-c7330fd61fcd",
   "metadata": {},
   "outputs": [],
   "source": [
    "type(b)"
   ]
  },
  {
   "cell_type": "code",
   "execution_count": null,
   "id": "8f6e94e0-50e4-4b04-b4f6-c58e9056dd4c",
   "metadata": {},
   "outputs": [],
   "source": [
    "b.shape"
   ]
  },
  {
   "cell_type": "code",
   "execution_count": null,
   "id": "e6b44d64-fcc7-4f9f-bed3-c50eeb25d88d",
   "metadata": {},
   "outputs": [],
   "source": [
    "b.size"
   ]
  },
  {
   "cell_type": "code",
   "execution_count": null,
   "id": "7bfd09ac-5338-4eec-90e6-2223b81a8ed0",
   "metadata": {},
   "outputs": [],
   "source": [
    "b.ndim"
   ]
  },
  {
   "cell_type": "markdown",
   "id": "61b97d02-0036-4178-a3a1-7e8f3af831f0",
   "metadata": {},
   "source": [
    "Exercise1:Create a 3-dimensional array using np.arange() and reshape and check for shape, size, dimension"
   ]
  },
  {
   "cell_type": "code",
   "execution_count": null,
   "id": "ed6d041c-69f8-4d0b-93e1-5b3d257e493f",
   "metadata": {},
   "outputs": [],
   "source": [
    "c = np.arange(1, 19).reshape((3, 3, 2))\n",
    "print(c)"
   ]
  },
  {
   "cell_type": "code",
   "execution_count": null,
   "id": "dc93ae4f-c96f-4fc7-a095-84e079e15199",
   "metadata": {},
   "outputs": [],
   "source": [
    "c.shape"
   ]
  },
  {
   "cell_type": "code",
   "execution_count": null,
   "id": "32d3c600-850e-4a4d-918f-feae5bdb0cc1",
   "metadata": {},
   "outputs": [],
   "source": [
    "c.size"
   ]
  },
  {
   "cell_type": "code",
   "execution_count": null,
   "id": "9d5816cd-4321-4c41-81f2-dbfde133acd6",
   "metadata": {},
   "outputs": [],
   "source": [
    "c.ndim"
   ]
  },
  {
   "cell_type": "code",
   "execution_count": null,
   "id": "ce50851e-fb9a-4aa8-88a3-67908d4e2a53",
   "metadata": {},
   "outputs": [],
   "source": [
    "z = np.array([[[1,2,3], [4,5,6], [7,8,9]], [[10,11,12], [13,14,15], [16,17,18]]])\n",
    "print(z)"
   ]
  },
  {
   "cell_type": "markdown",
   "id": "05d0b260-b354-43c4-abf8-579b7db8ea8f",
   "metadata": {},
   "source": [
    "Exercise2:Extract the value 15 from the z array above by indexing"
   ]
  },
  {
   "cell_type": "code",
   "execution_count": null,
   "id": "fd9cb25c-45a9-43a5-b3e2-68ef8ee99ec9",
   "metadata": {},
   "outputs": [],
   "source": [
    "z[1, 1, 2]"
   ]
  },
  {
   "cell_type": "code",
   "execution_count": null,
   "id": "6287f716-7f99-43ba-ac38-e5c205ef3e16",
   "metadata": {},
   "outputs": [],
   "source": [
    "##array slice"
   ]
  },
  {
   "cell_type": "code",
   "execution_count": null,
   "id": "b2189ccb-f238-4cbb-93d0-259587cfca2e",
   "metadata": {},
   "outputs": [],
   "source": [
    "z[1, 2, :]"
   ]
  },
  {
   "cell_type": "code",
   "execution_count": null,
   "id": "4a18888d-5f33-4498-8f4a-e9ca17df06a2",
   "metadata": {},
   "outputs": [],
   "source": [
    "y[:2, :]"
   ]
  },
  {
   "cell_type": "code",
   "execution_count": null,
   "id": "9ee88c8c-9412-460d-84c7-dd037f0fb584",
   "metadata": {},
   "outputs": [],
   "source": [
    "y[1:, :]"
   ]
  },
  {
   "cell_type": "markdown",
   "id": "64ae1805-8887-4200-bbd7-ccce2f339c33",
   "metadata": {},
   "source": [
    "Exercise3:Extract the 2nd layer, first and 2nd rows and all columns from the z array above by slice and indexing"
   ]
  },
  {
   "cell_type": "code",
   "execution_count": null,
   "id": "388c98e9-1a8e-4ce0-b0e2-9abffec32a73",
   "metadata": {},
   "outputs": [],
   "source": [
    "z[1, 0:2, :]"
   ]
  },
  {
   "cell_type": "code",
   "execution_count": null,
   "id": "bd277df1-9d76-4ed6-a1e4-f5cadcdaec08",
   "metadata": {},
   "outputs": [],
   "source": [
    "##vectorizing"
   ]
  },
  {
   "cell_type": "code",
   "execution_count": null,
   "id": "875bab2f-11d2-47b7-8a7a-2459984074f3",
   "metadata": {},
   "outputs": [],
   "source": [
    "x+2"
   ]
  },
  {
   "cell_type": "code",
   "execution_count": null,
   "id": "d0ae5fcd-b9c1-42d5-863d-b18ab6655e1e",
   "metadata": {},
   "outputs": [],
   "source": [
    "x-1"
   ]
  },
  {
   "cell_type": "code",
   "execution_count": null,
   "id": "44d11b4d-036c-4106-9aac-4acf32062a9a",
   "metadata": {},
   "outputs": [],
   "source": [
    "x**2"
   ]
  },
  {
   "cell_type": "code",
   "execution_count": null,
   "id": "37f76996-5bde-45fa-8d21-c70973293083",
   "metadata": {},
   "outputs": [],
   "source": [
    "np.abs(x)"
   ]
  },
  {
   "cell_type": "code",
   "execution_count": null,
   "id": "d524f6c7-0ece-4a79-af7f-c583f5e84c37",
   "metadata": {},
   "outputs": [],
   "source": [
    "np.max(x)"
   ]
  },
  {
   "cell_type": "code",
   "execution_count": null,
   "id": "35765ec3-1118-4658-90de-367f6e142bc7",
   "metadata": {},
   "outputs": [],
   "source": [
    "np.median(x)"
   ]
  },
  {
   "cell_type": "markdown",
   "id": "c72db208-9182-4604-a9c3-dad28162d901",
   "metadata": {},
   "source": [
    "Exercise4: Write a Python program to find the median of a given array of numbers with for and if loop"
   ]
  },
  {
   "cell_type": "code",
   "execution_count": null,
   "id": "806e3c41-c970-4e53-8aee-3cb121983501",
   "metadata": {},
   "outputs": [],
   "source": [
    "m=[2,3,5,7,8,9,11]\n",
    "\n",
    "#using for loop\n",
    "\n",
    "array_len = len(m)\n",
    "\n",
    "if array_len % 2 == 0:\n",
    "    median = (m[int(array_len/2)] + m[int(array_len/2 -1)])/2\n",
    "else:\n",
    "    median = m[int(array_len/2)]\n",
    "\n",
    "print(median)"
   ]
  },
  {
   "cell_type": "markdown",
   "id": "1023dc96-0c1c-48cc-8892-8719c2b0d266",
   "metadata": {},
   "source": [
    "Exercise5: Write a Python program to find the median of a given array of numbers using vectorizing"
   ]
  },
  {
   "cell_type": "code",
   "execution_count": null,
   "id": "914571cb-f639-48e8-8409-5f27a1d5efd9",
   "metadata": {},
   "outputs": [],
   "source": [
    "np.median(m)"
   ]
  },
  {
   "cell_type": "code",
   "execution_count": null,
   "id": "c16975c9-ff20-4165-8d60-43ce376bba5d",
   "metadata": {},
   "outputs": [],
   "source": [
    "x<5 "
   ]
  },
  {
   "cell_type": "code",
   "execution_count": null,
   "id": "54991e82-5ae7-432c-80d2-6fead2e54f10",
   "metadata": {},
   "outputs": [],
   "source": [
    "x==11"
   ]
  },
  {
   "cell_type": "code",
   "execution_count": null,
   "id": "cf600034-d5e9-42ae-a051-7cd86aef476e",
   "metadata": {},
   "outputs": [],
   "source": [
    "~(x > 1)"
   ]
  },
  {
   "cell_type": "code",
   "execution_count": null,
   "id": "0e954a41-67b6-4fc1-93f2-34ea3e0a16c9",
   "metadata": {},
   "outputs": [],
   "source": [
    "##masks for subsetting"
   ]
  },
  {
   "cell_type": "code",
   "execution_count": null,
   "id": "0354271f-96d8-4039-a2c6-2804b49c06af",
   "metadata": {},
   "outputs": [],
   "source": [
    "x[x < 5]\n",
    "\n"
   ]
  },
  {
   "cell_type": "code",
   "execution_count": null,
   "id": "f53f3d5a-6e6b-4e88-b44f-f54542101afd",
   "metadata": {
    "tags": []
   },
   "outputs": [],
   "source": [
    "x[x < 5]=40\n",
    "x"
   ]
  },
  {
   "cell_type": "markdown",
   "id": "47aa2d9f-177b-4a97-8257-268e579044b8",
   "metadata": {},
   "source": [
    "Exercise6: Substitute the values from array x which are not greater than 20,or equal to 11 with 30 (use logical operator not and or)"
   ]
  },
  {
   "cell_type": "code",
   "execution_count": null,
   "id": "83ff1093-8163-41c6-a57c-015603206a57",
   "metadata": {},
   "outputs": [],
   "source": [
    "x[~(x > 20)| (x==11)]=30\n",
    "x"
   ]
  },
  {
   "cell_type": "code",
   "execution_count": null,
   "id": "86ab9813-7824-4580-b9a6-58999e5fd0e9",
   "metadata": {},
   "outputs": [],
   "source": [
    "np.sum(x)"
   ]
  },
  {
   "cell_type": "code",
   "execution_count": null,
   "id": "6bbf0205-199a-4e11-8e96-b3fd06cf7831",
   "metadata": {},
   "outputs": [],
   "source": [
    "np.sum(x<35)"
   ]
  },
  {
   "cell_type": "code",
   "execution_count": null,
   "id": "7847b476-be13-4a47-bb9a-e6b20983ae41",
   "metadata": {},
   "outputs": [],
   "source": [
    "np.sum(y, axis=0)"
   ]
  },
  {
   "cell_type": "code",
   "execution_count": null,
   "id": "4cd278ba-2ef0-417e-b863-90d8ca5d9c82",
   "metadata": {},
   "outputs": [],
   "source": [
    "np.sum(y, axis=1)"
   ]
  },
  {
   "cell_type": "code",
   "execution_count": null,
   "id": "8a7d1da1-ac7d-429d-9d67-cf0cbc6f8a19",
   "metadata": {},
   "outputs": [],
   "source": [
    "##row-column\n",
    "np.sum(z, axis=0)"
   ]
  },
  {
   "cell_type": "code",
   "execution_count": null,
   "id": "3e2390db-1129-48a2-97f9-295334a026e0",
   "metadata": {},
   "outputs": [],
   "source": [
    "##column-layer\n",
    "np.sum(z, axis=1)\n"
   ]
  },
  {
   "cell_type": "code",
   "execution_count": null,
   "id": "9b129ee2-f3e2-4bae-a997-68346de92ac9",
   "metadata": {},
   "outputs": [],
   "source": [
    "##row-layer\n",
    "np.sum(z, axis=2)"
   ]
  },
  {
   "cell_type": "markdown",
   "id": "df62c751-e2bf-47fe-8363-a4ab26e369c4",
   "metadata": {},
   "source": [
    "Exercise7: Calculate the mean of all column in each layer from array z."
   ]
  },
  {
   "cell_type": "code",
   "execution_count": null,
   "id": "948c7ba1-a2ad-425a-a3ca-f9ff602b4cbe",
   "metadata": {},
   "outputs": [],
   "source": [
    "np.mean(z,axis=1)"
   ]
  },
  {
   "cell_type": "code",
   "execution_count": null,
   "id": "3ddd8718-a1cf-4d02-8426-03b9f7119e2c",
   "metadata": {},
   "outputs": [],
   "source": [
    "## ploting an array"
   ]
  },
  {
   "cell_type": "code",
   "execution_count": null,
   "id": "da549ca5-c2f3-49c1-88a2-bc0aaf4644e9",
   "metadata": {},
   "outputs": [],
   "source": [
    "import matplotlib.pyplot as plt"
   ]
  },
  {
   "cell_type": "code",
   "execution_count": null,
   "id": "d88ca39a-be42-45f8-82c3-30120c15844c",
   "metadata": {},
   "outputs": [],
   "source": [
    "h = y.flatten()\n",
    "h"
   ]
  },
  {
   "cell_type": "code",
   "execution_count": null,
   "id": "985f715a-5895-4ca3-936d-1372bde4be2f",
   "metadata": {},
   "outputs": [],
   "source": [
    "plt.hist(h);\n"
   ]
  },
  {
   "cell_type": "code",
   "execution_count": null,
   "id": "fe5b6e05-aad7-4950-9f3b-b8aacecba63d",
   "metadata": {},
   "outputs": [],
   "source": [
    "plt.plot(y[1, :]);"
   ]
  },
  {
   "cell_type": "code",
   "execution_count": null,
   "id": "ebd9ec22-93a9-4207-9b6d-1796a2ceba0f",
   "metadata": {},
   "outputs": [],
   "source": [
    "plt.plot(y[:, 1]);"
   ]
  },
  {
   "cell_type": "code",
   "execution_count": null,
   "id": "8f80d4d1-3dec-4dca-925d-06b878ceea92",
   "metadata": {},
   "outputs": [],
   "source": [
    "plt.plot(y);"
   ]
  },
  {
   "cell_type": "code",
   "execution_count": null,
   "id": "9e336f81-9530-47d1-9e84-53d835d0e07f",
   "metadata": {},
   "outputs": [],
   "source": [
    "plt.imshow(y);"
   ]
  },
  {
   "cell_type": "markdown",
   "id": "66559787-471e-40a0-949e-d69db6909571",
   "metadata": {},
   "source": [
    "practice with plotting on different arrays"
   ]
  },
  {
   "cell_type": "code",
   "execution_count": null,
   "id": "ac961e9b-7b7c-4615-b609-7a31dd64ce13",
   "metadata": {},
   "outputs": [],
   "source": [
    "##practice with plotting on different arrays"
   ]
  },
  {
   "cell_type": "code",
   "execution_count": 373,
   "id": "0ef3ab1c-6872-42f7-90f3-6e0c5f33f6c8",
   "metadata": {},
   "outputs": [
    {
     "data": {
      "image/png": "[encoded data removed]",
      "text/plain": [
       "<Figure size 640x480 with 1 Axes>"
      ]
     },
     "metadata": {},
     "output_type": "display_data"
    }
   ],
   "source": [
    "data = np.array([1, 2, 3, 4, 5, 6, 7, 8, 9, 10])\n",
    "\n",
    "plt.hist(data, bins=[0,2,4,6,8,10])\n",
    "plt.title('My Histogram')\n",
    "plt.xlabel('Interval')\n",
    "plt.ylabel('Frequency')\n",
    "plt.show()\n"
   ]
  },
  {
   "cell_type": "code",
   "execution_count": null,
   "id": "95466858-fe30-461d-84dd-371d37a3cbf2",
   "metadata": {},
   "outputs": [],
   "source": [
    "arr = [[1,2,3],\n",
    "       [4,5,6],\n",
    "       [7,8,9]]\n",
    "column_sums= np.sum(arr, axis=0)\n",
    "print( column_sums)\n",
    "plt.plot(column_sums)\n",
    "plt.title('Sum of elements in each column')\n",
    "plt.xlabel('column')\n",
    "plt.ylabel('Sum of elements')\n",
    "plt.show()"
   ]
  }
 ],
 "metadata": {
  "kernelspec": {
   "display_name": "Python 3 (ipykernel)",
   "language": "python",
   "name": "python3"
  },
  "language_info": {
   "codemirror_mode": {
    "name": "ipython",
    "version": 3
   },
   "file_extension": ".py",
   "mimetype": "text/x-python",
   "name": "python",
   "nbconvert_exporter": "python",
   "pygments_lexer": "ipython3",
   "version": "3.10.10"
  }
 },
 "nbformat": 4,
 "nbformat_minor": 5
}
