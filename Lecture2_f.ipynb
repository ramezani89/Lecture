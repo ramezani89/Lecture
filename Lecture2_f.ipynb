{
 "cells": [
  {
   "cell_type": "code",
   "execution_count": 70,
   "id": "89b8953a-5999-4d08-99c1-5ceabc6beaa5",
   "metadata": {},
   "outputs": [],
   "source": [
    "## Numeric int, float"
   ]
  },
  {
   "cell_type": "code",
   "execution_count": 1,
   "id": "1bd2d73a-1587-4d8f-8081-984f54ba585f",
   "metadata": {},
   "outputs": [
    {
     "data": {
      "text/plain": [
       "int"
      ]
     },
     "execution_count": 1,
     "metadata": {},
     "output_type": "execute_result"
    }
   ],
   "source": [
    "a=1\n",
    "type(a)\n"
   ]
  },
  {
   "cell_type": "code",
   "execution_count": 2,
   "id": "40217b2b-52e0-4268-a015-508358170f72",
   "metadata": {},
   "outputs": [
    {
     "data": {
      "text/plain": [
       "float"
      ]
     },
     "execution_count": 2,
     "metadata": {},
     "output_type": "execute_result"
    }
   ],
   "source": [
    "b= 2.8\n",
    "type(2.8)"
   ]
  },
  {
   "cell_type": "code",
   "execution_count": 3,
   "id": "5ab6540b-f166-41fb-914f-20ca7f3994d1",
   "metadata": {},
   "outputs": [],
   "source": [
    "## Sequence list, tuple"
   ]
  },
  {
   "cell_type": "code",
   "execution_count": 4,
   "id": "e54accb1-2896-4a2e-9af9-4b4594132ff0",
   "metadata": {},
   "outputs": [
    {
     "data": {
      "text/plain": [
       "list"
      ]
     },
     "execution_count": 4,
     "metadata": {},
     "output_type": "execute_result"
    }
   ],
   "source": [
    "type([4, 6, 7])"
   ]
  },
  {
   "cell_type": "code",
   "execution_count": 5,
   "id": "f6fa0790-3390-45c7-a49d-e5a10ae14a20",
   "metadata": {},
   "outputs": [
    {
     "data": {
      "text/plain": [
       "tuple"
      ]
     },
     "execution_count": 5,
     "metadata": {},
     "output_type": "execute_result"
    }
   ],
   "source": [
    "type((105, 110))"
   ]
  },
  {
   "cell_type": "code",
   "execution_count": 6,
   "id": "06b660a7-d97f-440f-ac44-856aa1cfcbc7",
   "metadata": {},
   "outputs": [],
   "source": [
    "## String str"
   ]
  },
  {
   "cell_type": "code",
   "execution_count": 7,
   "id": "7394fef0-3ed8-4192-8392-00a6308707ef",
   "metadata": {},
   "outputs": [
    {
     "data": {
      "text/plain": [
       "str"
      ]
     },
     "execution_count": 7,
     "metadata": {},
     "output_type": "execute_result"
    }
   ],
   "source": [
    "type(\"I like Math!\")\n"
   ]
  },
  {
   "cell_type": "code",
   "execution_count": 8,
   "id": "9921f14b-ce0e-4248-8828-9cdc4eff0a87",
   "metadata": {},
   "outputs": [],
   "source": [
    "## Mapping dict"
   ]
  },
  {
   "cell_type": "code",
   "execution_count": 9,
   "id": "789031b7-966f-4ced-ab7d-dfc7ff6ee904",
   "metadata": {},
   "outputs": [
    {
     "data": {
      "text/plain": [
       "dict"
      ]
     },
     "execution_count": 9,
     "metadata": {},
     "output_type": "execute_result"
    }
   ],
   "source": [
    "type({\"number of student\": 8, \"p\": 5})"
   ]
  },
  {
   "cell_type": "code",
   "execution_count": 10,
   "id": "e8701ad8-725d-4dfa-9dbe-a9057901f677",
   "metadata": {},
   "outputs": [],
   "source": [
    "##set"
   ]
  },
  {
   "cell_type": "code",
   "execution_count": 11,
   "id": "44f2f005-43e8-4bbd-8792-e24bd415bd9f",
   "metadata": {},
   "outputs": [
    {
     "data": {
      "text/plain": [
       "set"
      ]
     },
     "execution_count": 11,
     "metadata": {},
     "output_type": "execute_result"
    }
   ],
   "source": [
    "type({\"number of student\", \"p\"})"
   ]
  },
  {
   "cell_type": "code",
   "execution_count": 12,
   "id": "c250f478-552a-43b9-ba1d-c569e0bb34a2",
   "metadata": {},
   "outputs": [],
   "source": [
    "##Boolean "
   ]
  },
  {
   "cell_type": "code",
   "execution_count": 13,
   "id": "6afd5f11-abd5-4ecf-a0c9-54dc6014a558",
   "metadata": {},
   "outputs": [
    {
     "data": {
      "text/plain": [
       "False"
      ]
     },
     "execution_count": 13,
     "metadata": {},
     "output_type": "execute_result"
    }
   ],
   "source": [
    "1 == 2"
   ]
  },
  {
   "cell_type": "code",
   "execution_count": 14,
   "id": "b61e33a7-8d1f-40d8-aa5b-296ea7678040",
   "metadata": {},
   "outputs": [],
   "source": [
    "c=(\"I like Math!\")"
   ]
  },
  {
   "cell_type": "code",
   "execution_count": 15,
   "id": "17e1ecf4-8f1a-40f9-bfd4-b5eae6809f2d",
   "metadata": {},
   "outputs": [
    {
     "name": "stdout",
     "output_type": "stream",
     "text": [
      "l\n"
     ]
    }
   ],
   "source": [
    "print(c[2])"
   ]
  },
  {
   "cell_type": "markdown",
   "id": "b2921c16-dc49-49e0-89b2-b14032e32b97",
   "metadata": {},
   "source": [
    "Excercise1: Assign a list to a variable and check the type and print an element using index!"
   ]
  },
  {
   "cell_type": "markdown",
   "id": "f132b7d1-e052-493f-8e3a-eeeecdb13314",
   "metadata": {},
   "source": [
    "Excercise2: Assign a flot to a variable and use the print() function to print out the following sentence \"the type of 2.8 is <class 'float'>\""
   ]
  },
  {
   "cell_type": "code",
   "execution_count": 16,
   "id": "34f040c1-d665-4895-b0c9-cb312d9aba2d",
   "metadata": {},
   "outputs": [],
   "source": [
    "##Arithmetic operators"
   ]
  },
  {
   "cell_type": "code",
   "execution_count": 17,
   "id": "316f8170-d838-42d2-9b4b-3ab4f02ca4d2",
   "metadata": {},
   "outputs": [
    {
     "data": {
      "text/plain": [
       "21"
      ]
     },
     "execution_count": 17,
     "metadata": {},
     "output_type": "execute_result"
    }
   ],
   "source": [
    "1+5*4"
   ]
  },
  {
   "cell_type": "code",
   "execution_count": 18,
   "id": "76c2e38a-d33c-42e7-ae90-ce02d827d41e",
   "metadata": {},
   "outputs": [
    {
     "data": {
      "text/plain": [
       "24"
      ]
     },
     "execution_count": 18,
     "metadata": {},
     "output_type": "execute_result"
    }
   ],
   "source": [
    "(1+5)*4"
   ]
  },
  {
   "cell_type": "code",
   "execution_count": 19,
   "id": "dfb8b860-3edd-4d7e-a40f-1ba241ba0b19",
   "metadata": {},
   "outputs": [
    {
     "data": {
      "text/plain": [
       "0"
      ]
     },
     "execution_count": 19,
     "metadata": {},
     "output_type": "execute_result"
    }
   ],
   "source": [
    "30%10"
   ]
  },
  {
   "cell_type": "code",
   "execution_count": 20,
   "id": "8a72c3ba-3f46-4f66-9be9-60134a64030d",
   "metadata": {},
   "outputs": [
    {
     "data": {
      "text/plain": [
       "7"
      ]
     },
     "execution_count": 20,
     "metadata": {},
     "output_type": "execute_result"
    }
   ],
   "source": [
    "15//2"
   ]
  },
  {
   "cell_type": "code",
   "execution_count": 21,
   "id": "5f12f6d1-4fab-4edc-a414-707494a2980f",
   "metadata": {},
   "outputs": [
    {
     "data": {
      "text/plain": [
       "64"
      ]
     },
     "execution_count": 21,
     "metadata": {},
     "output_type": "execute_result"
    }
   ],
   "source": [
    "4**3"
   ]
  },
  {
   "cell_type": "code",
   "execution_count": 22,
   "id": "84aa504f-545e-4ab3-b054-0642e77a1957",
   "metadata": {},
   "outputs": [],
   "source": [
    "##Conditional Statements "
   ]
  },
  {
   "cell_type": "code",
   "execution_count": 23,
   "id": "13414092-be54-4dee-8335-d2584aa36b25",
   "metadata": {},
   "outputs": [
    {
     "name": "stdout",
     "output_type": "stream",
     "text": [
      "you pass the test\n"
     ]
    }
   ],
   "source": [
    "grade=60\n",
    "\n",
    "if grade>50:\n",
    "    print(\"you pass the test\")"
   ]
  },
  {
   "cell_type": "code",
   "execution_count": 24,
   "id": "935d8cbb-0c10-4f84-99f9-cc84637e77ee",
   "metadata": {},
   "outputs": [
    {
     "name": "stdout",
     "output_type": "stream",
     "text": [
      "you are a loser\n"
     ]
    }
   ],
   "source": [
    "a=34\n",
    "if a<20:\n",
    "    print(\"you are a winner\")\n",
    "else:\n",
    "    print(\"you are a loser\")\n",
    "    "
   ]
  },
  {
   "cell_type": "code",
   "execution_count": 25,
   "id": "ae624f4f-8bac-4f88-81f1-6f30062c21c3",
   "metadata": {},
   "outputs": [
    {
     "ename": "IndentationError",
     "evalue": "expected an indented block after 'if' statement on line 3 (1729346631.py, line 4)",
     "output_type": "error",
     "traceback": [
      "\u001b[0;36m  Cell \u001b[0;32mIn[25], line 4\u001b[0;36m\u001b[0m\n\u001b[0;31m    print(\"you pass the test\")\u001b[0m\n\u001b[0m    ^\u001b[0m\n\u001b[0;31mIndentationError\u001b[0m\u001b[0;31m:\u001b[0m expected an indented block after 'if' statement on line 3\n"
     ]
    }
   ],
   "source": [
    "grade=60\n",
    "\n",
    "if grade>50:\n",
    "print(\"you pass the test\")"
   ]
  },
  {
   "cell_type": "markdown",
   "id": "2f7d003b-17f1-4cc8-8d1f-9a82f6ad899c",
   "metadata": {},
   "source": [
    "Excercise3: Given two numbers a and b, write a Python code to check if a is divisible by b"
   ]
  },
  {
   "cell_type": "code",
   "execution_count": 26,
   "id": "e2cc0fcb-6eaa-43c6-b3a1-f9277d792f9c",
   "metadata": {},
   "outputs": [],
   "source": [
    "## for and while loop"
   ]
  },
  {
   "cell_type": "code",
   "execution_count": 27,
   "id": "0b176c41-97fd-4db5-9296-da9e78f1f5bf",
   "metadata": {},
   "outputs": [
    {
     "name": "stdout",
     "output_type": "stream",
     "text": [
      "dog\n",
      "cat\n",
      "bird\n"
     ]
    }
   ],
   "source": [
    "animals = [\"dog\", \"cat\", \"bird\"]\n",
    "for x in animals:\n",
    "    print(x)"
   ]
  },
  {
   "cell_type": "code",
   "execution_count": 28,
   "id": "7b1b82f5-643d-4a46-bfb3-c43720dc05cc",
   "metadata": {},
   "outputs": [
    {
     "name": "stdout",
     "output_type": "stream",
     "text": [
      "dog\n",
      "cat\n"
     ]
    }
   ],
   "source": [
    "animals = [\"dog\", \"cat\", \"bird\"]\n",
    "for x in animals:\n",
    "    print(x)\n",
    "    if x == \"cat\":\n",
    "        break"
   ]
  },
  {
   "cell_type": "code",
   "execution_count": 29,
   "id": "b9a30dfc-2fe0-4b39-b192-25c5c5fa0710",
   "metadata": {},
   "outputs": [
    {
     "name": "stdout",
     "output_type": "stream",
     "text": [
      "10\n",
      "11\n",
      "12\n",
      "13\n",
      "14\n",
      "15\n",
      "16\n",
      "17\n",
      "18\n",
      "19\n"
     ]
    }
   ],
   "source": [
    "x = range(10, 20)\n",
    "for n in x:\n",
    "    print(n)"
   ]
  },
  {
   "cell_type": "code",
   "execution_count": 30,
   "id": "62f64e79-d6e0-43d7-b77e-5605da2c7555",
   "metadata": {},
   "outputs": [
    {
     "name": "stdout",
     "output_type": "stream",
     "text": [
      "10\n",
      "12\n",
      "14\n",
      "16\n",
      "18\n"
     ]
    }
   ],
   "source": [
    "x = range(10, 20,2)\n",
    "for n in x:\n",
    "    print(n)"
   ]
  },
  {
   "cell_type": "markdown",
   "id": "101d0820-5cf4-4502-aec5-c44e0898e39a",
   "metadata": {},
   "source": [
    "Exercise4: What numbers between 2 and 30 are even and odd?"
   ]
  },
  {
   "cell_type": "code",
   "execution_count": 31,
   "id": "15f6860f-b28f-431a-9948-5ad3570018fe",
   "metadata": {},
   "outputs": [
    {
     "name": "stdout",
     "output_type": "stream",
     "text": [
      "1\n",
      "2\n",
      "3\n",
      "4\n",
      "5\n",
      "6\n",
      "7\n",
      "8\n",
      "9\n",
      "10\n"
     ]
    }
   ],
   "source": [
    "i = 1\n",
    "while i < 11:\n",
    "    print(i)\n",
    "    i += 1"
   ]
  },
  {
   "cell_type": "markdown",
   "id": "ff879ba6-d36f-4438-8b46-7d54a8b7c782",
   "metadata": {},
   "source": [
    "Exercise5:print out the numbers from 100 to 0 in steps of 10, using while loop\n",
    "\n"
   ]
  },
  {
   "cell_type": "code",
   "execution_count": 32,
   "id": "517a624b-502a-4594-b089-bea4ed740a64",
   "metadata": {},
   "outputs": [],
   "source": [
    "## Def function"
   ]
  },
  {
   "cell_type": "code",
   "execution_count": 33,
   "id": "9d771289-8b70-4a29-9440-1cffc8ded3de",
   "metadata": {},
   "outputs": [
    {
     "name": "stdout",
     "output_type": "stream",
     "text": [
      "8\n"
     ]
    }
   ],
   "source": [
    "def add_numbers(num1, num2):\n",
    "    sum = num1 + num2\n",
    "    return sum\n",
    "print(add_numbers(3, 5))"
   ]
  },
  {
   "cell_type": "markdown",
   "id": "4a9f9eee-3ee0-4dc7-8938-7d6db168bd35",
   "metadata": {},
   "source": [
    "Exercise6:What is the area of a rectangle with a length of 2 and a width of 4? (use def function)"
   ]
  },
  {
   "cell_type": "code",
   "execution_count": 34,
   "id": "f22e82c7-2ca2-4f38-9479-2fdbbfb1e353",
   "metadata": {},
   "outputs": [],
   "source": [
    "## Python Arrays"
   ]
  },
  {
   "cell_type": "code",
   "execution_count": 35,
   "id": "0779858e-214a-4aa5-b60d-c916f0d45365",
   "metadata": {},
   "outputs": [
    {
     "name": "stdout",
     "output_type": "stream",
     "text": [
      "[1, 2, 3, 4, 5]\n"
     ]
    }
   ],
   "source": [
    "array_ex = [1, 2, 3, 4, 5]\n",
    "print(array_ex)"
   ]
  },
  {
   "cell_type": "code",
   "execution_count": 36,
   "id": "ce18d147-5732-4e79-9546-d973acb9ad68",
   "metadata": {},
   "outputs": [
    {
     "name": "stdout",
     "output_type": "stream",
     "text": [
      "1\n"
     ]
    }
   ],
   "source": [
    "x = array_ex[0]\n",
    "print(x)"
   ]
  },
  {
   "cell_type": "code",
   "execution_count": 37,
   "id": "99dded15-a363-488f-a9e1-eec475803f1b",
   "metadata": {},
   "outputs": [
    {
     "name": "stdout",
     "output_type": "stream",
     "text": [
      "5\n"
     ]
    }
   ],
   "source": [
    "x = len(array_ex)\n",
    "print(x)"
   ]
  },
  {
   "cell_type": "code",
   "execution_count": 38,
   "id": "26136fa9-ff0f-40e2-8bb3-19e4376770e4",
   "metadata": {},
   "outputs": [
    {
     "name": "stdout",
     "output_type": "stream",
     "text": [
      "[1, 2, 3, 4, 5, 5]\n"
     ]
    }
   ],
   "source": [
    "array_ex.append(5)\n",
    "print(array_ex)"
   ]
  },
  {
   "cell_type": "code",
   "execution_count": 39,
   "id": "1e88011e-3663-4b62-bf59-a24fcefa8808",
   "metadata": {},
   "outputs": [
    {
     "name": "stdout",
     "output_type": "stream",
     "text": [
      "[1, 3, 4, 5, 5]\n"
     ]
    }
   ],
   "source": [
    "array_ex.pop(1)\n",
    "print(array_ex)"
   ]
  },
  {
   "cell_type": "markdown",
   "id": "efab13f8-e0c8-43c6-81d1-173881bfcdaa",
   "metadata": {},
   "source": [
    "Exercise7:Write a Python program to find the largest number in a given array of numbers"
   ]
  },
  {
   "cell_type": "code",
   "execution_count": 3,
   "id": "b4ae02af-0781-403c-a4b5-29a0deb0254c",
   "metadata": {},
   "outputs": [],
   "source": [
    "import numpy as np"
   ]
  },
  {
   "cell_type": "code",
   "execution_count": 4,
   "id": "204369df-5634-48d5-b8b9-177033720ac6",
   "metadata": {},
   "outputs": [
    {
     "name": "stdout",
     "output_type": "stream",
     "text": [
      "[ 5  4 -7 11]\n"
     ]
    }
   ],
   "source": [
    "x = np.array([5, 4, -7, 11])\n",
    "print(x)"
   ]
  },
  {
   "cell_type": "code",
   "execution_count": 5,
   "id": "b6523d86-1d1b-43e5-a211-119b030d5eb9",
   "metadata": {},
   "outputs": [
    {
     "name": "stdout",
     "output_type": "stream",
     "text": [
      "[[4 5 0]\n",
      " [3 7 9]\n",
      " [2 1 2]]\n"
     ]
    }
   ],
   "source": [
    "y = np.array([[4, 5, 0], [3, 7, 9], [2, 1, 2]])\n",
    "print(y)"
   ]
  },
  {
   "cell_type": "code",
   "execution_count": 6,
   "id": "5adbbc10-1d25-4caf-904b-19d41bacc56a",
   "metadata": {},
   "outputs": [
    {
     "name": "stdout",
     "output_type": "stream",
     "text": [
      "[[[ 1  2  3]\n",
      "  [ 4  5  6]\n",
      "  [ 7  8  9]]\n",
      "\n",
      " [[10 11 12]\n",
      "  [13 14 15]\n",
      "  [16 17 18]]]\n"
     ]
    }
   ],
   "source": [
    "z = np.array([[[1,2,3], [4,5,6], [7,8,9]], [[10,11,12], [13,14,15], [16,17,18]]])\n",
    "print(z)"
   ]
  },
  {
   "cell_type": "code",
   "execution_count": 7,
   "id": "61d9cb51-7417-4e56-aa09-faead51b7e0e",
   "metadata": {},
   "outputs": [
    {
     "name": "stdout",
     "output_type": "stream",
     "text": [
      "[[0 1 2 3 4]\n",
      " [5 6 7 8 9]]\n"
     ]
    }
   ],
   "source": [
    "b = np.arange(10).reshape(2, 5) \n",
    "print(b)"
   ]
  },
  {
   "cell_type": "code",
   "execution_count": 8,
   "id": "47aae177-4102-4dc5-84bc-af307ee36096",
   "metadata": {},
   "outputs": [
    {
     "data": {
      "text/plain": [
       "numpy.ndarray"
      ]
     },
     "execution_count": 8,
     "metadata": {},
     "output_type": "execute_result"
    }
   ],
   "source": [
    "type(b)"
   ]
  },
  {
   "cell_type": "code",
   "execution_count": 9,
   "id": "30d1a539-46cf-4dd8-8fbd-df4864736fba",
   "metadata": {},
   "outputs": [
    {
     "data": {
      "text/plain": [
       "2"
      ]
     },
     "execution_count": 9,
     "metadata": {},
     "output_type": "execute_result"
    }
   ],
   "source": [
    "b.ndim"
   ]
  },
  {
   "cell_type": "code",
   "execution_count": 10,
   "id": "43e2d9eb-1df9-486f-b6b6-c19e30c7ee7b",
   "metadata": {},
   "outputs": [
    {
     "data": {
      "text/plain": [
       "10"
      ]
     },
     "execution_count": 10,
     "metadata": {},
     "output_type": "execute_result"
    }
   ],
   "source": [
    "b.size"
   ]
  },
  {
   "cell_type": "code",
   "execution_count": 11,
   "id": "c3cba11f-2c2d-487a-b9f8-c146dc33ae5e",
   "metadata": {},
   "outputs": [
    {
     "data": {
      "text/plain": [
       "dtype('int64')"
      ]
     },
     "execution_count": 11,
     "metadata": {},
     "output_type": "execute_result"
    }
   ],
   "source": [
    "b.dtype"
   ]
  },
  {
   "cell_type": "code",
   "execution_count": 12,
   "id": "44040b90-6d97-4032-858d-35276fb2f1e9",
   "metadata": {},
   "outputs": [
    {
     "name": "stdout",
     "output_type": "stream",
     "text": [
      "[[0. 1. 2. 3. 4.]\n",
      " [5. 6. 7. 8. 9.]]\n"
     ]
    }
   ],
   "source": [
    "b = b.astype(np.float64)\n",
    "print(b)"
   ]
  },
  {
   "cell_type": "markdown",
   "id": "1d55ba8f-6fee-4404-90d1-52992f2f8f16",
   "metadata": {},
   "source": [
    "Exercise8:Create a 3-dimensional array using np.arange() and reshape"
   ]
  },
  {
   "cell_type": "markdown",
   "id": "ca898baf-9900-4317-bf36-24964d334e3c",
   "metadata": {},
   "source": [
    "Exercise9:Create an array of dictionaries and print it"
   ]
  },
  {
   "cell_type": "code",
   "execution_count": 13,
   "id": "c7246248-01c9-4cbb-87a5-6b3fae387071",
   "metadata": {},
   "outputs": [
    {
     "name": "stdout",
     "output_type": "stream",
     "text": [
      "[[[ 1  2  3]\n",
      "  [ 4  5  6]\n",
      "  [ 7  8  9]]\n",
      "\n",
      " [[10 11 12]\n",
      "  [13 14 15]\n",
      "  [16 17 18]]]\n"
     ]
    }
   ],
   "source": [
    "z = np.array([[[1,2,3], [4,5,6], [7,8,9]], [[10,11,12], [13,14,15], [16,17,18]]])\n",
    "print(z)"
   ]
  },
  {
   "cell_type": "markdown",
   "id": "c748d550-c92a-4461-8915-0d1c5e0fa81c",
   "metadata": {},
   "source": [
    "Exercise10:Extract the value 15 from the z array above by indexing"
   ]
  },
  {
   "cell_type": "code",
   "execution_count": 14,
   "id": "b67cbbc0-c485-44fd-9ca2-fe02f14c51b7",
   "metadata": {},
   "outputs": [],
   "source": [
    "##array slice"
   ]
  },
  {
   "cell_type": "code",
   "execution_count": 15,
   "id": "ec0bca03-120a-4c84-ab28-56e20d66fff8",
   "metadata": {},
   "outputs": [
    {
     "data": {
      "text/plain": [
       "array([16, 17, 18])"
      ]
     },
     "execution_count": 15,
     "metadata": {},
     "output_type": "execute_result"
    }
   ],
   "source": [
    "z[1, 2, :]"
   ]
  },
  {
   "cell_type": "code",
   "execution_count": 22,
   "id": "8d5b1475-161e-47fe-a0ad-908510113fee",
   "metadata": {},
   "outputs": [
    {
     "data": {
      "text/plain": [
       "array([[4, 5, 0],\n",
       "       [3, 7, 9]])"
      ]
     },
     "execution_count": 22,
     "metadata": {},
     "output_type": "execute_result"
    }
   ],
   "source": [
    "y[:2, :]\n"
   ]
  },
  {
   "cell_type": "code",
   "execution_count": 23,
   "id": "60d57149-6d1f-4831-b1f3-165c3b245fb2",
   "metadata": {},
   "outputs": [
    {
     "data": {
      "text/plain": [
       "array([[3, 7, 9],\n",
       "       [2, 1, 2]])"
      ]
     },
     "execution_count": 23,
     "metadata": {},
     "output_type": "execute_result"
    }
   ],
   "source": [
    "y[1:, :]"
   ]
  },
  {
   "cell_type": "markdown",
   "id": "59058622-e5d6-4d10-940f-645ad3d18f36",
   "metadata": {},
   "source": [
    "Exercise11:Extract the first and 2rd rows and all columns from the z array above by indexing"
   ]
  },
  {
   "cell_type": "code",
   "execution_count": null,
   "id": "c2e00b8f-aae8-444b-8940-c06198f67fd6",
   "metadata": {},
   "outputs": [],
   "source": []
  }
 ],
 "metadata": {
  "kernelspec": {
   "display_name": "Python 3 (ipykernel)",
   "language": "python",
   "name": "python3"
  },
  "language_info": {
   "codemirror_mode": {
    "name": "ipython",
    "version": 3
   },
   "file_extension": ".py",
   "mimetype": "text/x-python",
   "name": "python",
   "nbconvert_exporter": "python",
   "pygments_lexer": "ipython3",
   "version": "3.10.9"
  }
 },
 "nbformat": 4,
 "nbformat_minor": 5
}
