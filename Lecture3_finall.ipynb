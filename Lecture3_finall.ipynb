{
 "cells": [
  {
   "cell_type": "code",
   "execution_count": null,
   "id": "c053deb2-1c68-471c-9f41-524a20751289",
   "metadata": {},
   "outputs": [],
   "source": [
    "import numpy as np"
   ]
  },
  {
   "cell_type": "code",
   "execution_count": null,
   "id": "63071bbe-91cb-45a3-8022-e75c6dd105da",
   "metadata": {},
   "outputs": [],
   "source": [
    "x = np.array([5, 4, -7, 11])\n",
    "print(x)\n"
   ]
  },
  {
   "cell_type": "code",
   "execution_count": null,
   "id": "510609c7-7ce5-4db8-be02-e544f2ae7ed6",
   "metadata": {},
   "outputs": [],
   "source": [
    "y = np.array([[4, 5, 0], [3, 7, 9], [2, 1, 2]])\n",
    "print(y)"
   ]
  },
  {
   "cell_type": "code",
   "execution_count": null,
   "id": "9fe96567-45d1-42c4-9816-d428d55e60eb",
   "metadata": {},
   "outputs": [],
   "source": [
    "z = np.array([[[1,2,3], [4,5,6], [7,8,9]], [[10,11,12], [13,14,15], [16,17,18]]])\n",
    "print(z)"
   ]
  },
  {
   "cell_type": "code",
   "execution_count": null,
   "id": "b4735008-3883-41f2-be6f-e90cdeff9d2b",
   "metadata": {},
   "outputs": [],
   "source": [
    "b = np.arange(10).reshape(2, 5) \n",
    "print(b)"
   ]
  },
  {
   "cell_type": "code",
   "execution_count": null,
   "id": "982fa54c-431c-4ff6-992e-d434bef1f93b",
   "metadata": {},
   "outputs": [],
   "source": [
    "type(b)"
   ]
  },
  {
   "cell_type": "code",
   "execution_count": null,
   "id": "747b73cc-38eb-4b9d-863b-098531f2b6cb",
   "metadata": {},
   "outputs": [],
   "source": [
    "b.shape"
   ]
  },
  {
   "cell_type": "code",
   "execution_count": null,
   "id": "4deda5fc-6055-45c7-85f4-163990da68b3",
   "metadata": {},
   "outputs": [],
   "source": [
    "b.size"
   ]
  },
  {
   "cell_type": "code",
   "execution_count": null,
   "id": "032c96ed-401c-453a-832d-a4715d3feee7",
   "metadata": {},
   "outputs": [],
   "source": [
    "b.ndim"
   ]
  },
  {
   "cell_type": "markdown",
   "id": "10a1965e-04d3-48a0-8da2-19f8a91023c3",
   "metadata": {},
   "source": [
    "Exercise1:Create a 3-dimensional array using np.arange() and reshape and check for shape, size, dimension"
   ]
  },
  {
   "cell_type": "code",
   "execution_count": null,
   "id": "9ecf651b-d5e6-48a2-b672-efd5b5dfb0af",
   "metadata": {},
   "outputs": [],
   "source": [
    "z = np.array([[[1,2,3], [4,5,6], [7,8,9]], [[10,11,12], [13,14,15], [16,17,18]]])\n",
    "print(z)"
   ]
  },
  {
   "cell_type": "markdown",
   "id": "6f9810c6-aa4f-47a5-ac0d-6bbf30073b43",
   "metadata": {},
   "source": [
    "Exercise2:Extract the value 15 from the z array above by indexing"
   ]
  },
  {
   "cell_type": "code",
   "execution_count": null,
   "id": "9b4516c2-051a-42c9-8d21-842a6443dc0b",
   "metadata": {},
   "outputs": [],
   "source": [
    "##array slice"
   ]
  },
  {
   "cell_type": "code",
   "execution_count": null,
   "id": "75f5ddf1-a097-4dec-8506-425eef23d943",
   "metadata": {},
   "outputs": [],
   "source": [
    "z[1, 2, :]"
   ]
  },
  {
   "cell_type": "code",
   "execution_count": null,
   "id": "6b84b864-7a9e-4569-8c28-ab7daef344a2",
   "metadata": {},
   "outputs": [],
   "source": [
    "y[:2, :]"
   ]
  },
  {
   "cell_type": "code",
   "execution_count": null,
   "id": "2c3b95c2-2141-4034-88cb-832c7c7b059f",
   "metadata": {},
   "outputs": [],
   "source": [
    "y[1:, :]"
   ]
  },
  {
   "cell_type": "markdown",
   "id": "6969e989-a1b6-4c88-ae66-2856883b0427",
   "metadata": {},
   "source": [
    "Exercise3:Extract the 2nd layer, first and 2nd rows and all columns from the z array above by slice and indexing"
   ]
  },
  {
   "cell_type": "code",
   "execution_count": null,
   "id": "e12ccf26-ad5e-4e5b-b3ff-2715c74c03a3",
   "metadata": {},
   "outputs": [],
   "source": [
    "##vectorizing and summarizing"
   ]
  },
  {
   "cell_type": "code",
   "execution_count": null,
   "id": "86daa8f9-0dee-4fa7-a95f-9fa6041f5c20",
   "metadata": {},
   "outputs": [],
   "source": [
    "x+2"
   ]
  },
  {
   "cell_type": "code",
   "execution_count": null,
   "id": "0a6f9261-469b-4230-9f87-77380b3902df",
   "metadata": {},
   "outputs": [],
   "source": [
    "x-1"
   ]
  },
  {
   "cell_type": "code",
   "execution_count": null,
   "id": "139c092c-73a6-4c6a-974c-b69b604b9ce7",
   "metadata": {},
   "outputs": [],
   "source": [
    "x**2"
   ]
  },
  {
   "cell_type": "code",
   "execution_count": null,
   "id": "6c95159b-5c24-4468-95eb-648267dc0ee5",
   "metadata": {},
   "outputs": [],
   "source": [
    "np.abs(x)"
   ]
  },
  {
   "cell_type": "code",
   "execution_count": null,
   "id": "59c467ab-d8dc-47a6-92cb-6d5c3711f0cb",
   "metadata": {},
   "outputs": [],
   "source": [
    "np.max(x)"
   ]
  },
  {
   "cell_type": "code",
   "execution_count": null,
   "id": "730acf40-1ffb-4680-91f7-bb7c0bdb7ca0",
   "metadata": {},
   "outputs": [],
   "source": [
    "np.median(x)"
   ]
  },
  {
   "cell_type": "markdown",
   "id": "984ae9a3-a088-46ba-8349-0db3479c694f",
   "metadata": {},
   "source": [
    "Exercise4: Write a Python program to find the median of a given array of numbers with for and if loop"
   ]
  },
  {
   "cell_type": "markdown",
   "id": "66eaf073-8623-4884-a2bd-d0823ef56f7e",
   "metadata": {},
   "source": [
    "Exercise5: Write a Python program to find the median of a given array of numbers using vectorizing"
   ]
  },
  {
   "cell_type": "code",
   "execution_count": null,
   "id": "8a412032-b2d2-4412-9bab-07808fc0a344",
   "metadata": {},
   "outputs": [],
   "source": [
    "x<5 "
   ]
  },
  {
   "cell_type": "code",
   "execution_count": null,
   "id": "e064e632-45fd-44c7-94cb-f36c392b9691",
   "metadata": {},
   "outputs": [],
   "source": [
    "x==11"
   ]
  },
  {
   "cell_type": "code",
   "execution_count": null,
   "id": "0689f910-250d-4f60-a2d9-3d434e847e97",
   "metadata": {},
   "outputs": [],
   "source": [
    "~(x > 1)"
   ]
  },
  {
   "cell_type": "code",
   "execution_count": null,
   "id": "945e8eda-745a-4c21-a571-5df689f95306",
   "metadata": {},
   "outputs": [],
   "source": [
    "##masks for subsetting"
   ]
  },
  {
   "cell_type": "code",
   "execution_count": null,
   "id": "001af992-0204-4ba9-85bf-e8d5f02011f0",
   "metadata": {
    "tags": []
   },
   "outputs": [],
   "source": [
    "x[x < 5]"
   ]
  },
  {
   "cell_type": "code",
   "execution_count": null,
   "id": "8fc7999b-2001-4dce-8697-7b7b78ec5209",
   "metadata": {
    "tags": []
   },
   "outputs": [],
   "source": [
    "x[x < 5]=40\n",
    "x\n"
   ]
  },
  {
   "cell_type": "markdown",
   "id": "75b5c1b3-f6b1-4203-9e28-020789fb0469",
   "metadata": {},
   "source": [
    "Exercise6: Substitute the values from array x which are not greater than 20,or equal to 11 with 30 (use logical operator not and or)"
   ]
  },
  {
   "cell_type": "code",
   "execution_count": null,
   "id": "e2f5dd5c-44dd-4339-acea-887ea3803386",
   "metadata": {},
   "outputs": [],
   "source": [
    "np.sum(x)"
   ]
  },
  {
   "cell_type": "code",
   "execution_count": null,
   "id": "3da6bb36-6173-4e18-9df2-0d3715027b5f",
   "metadata": {},
   "outputs": [],
   "source": [
    "np.sum(x<35)"
   ]
  },
  {
   "cell_type": "code",
   "execution_count": null,
   "id": "1bb8c0f2-d265-4e89-a6e8-50f36a61e300",
   "metadata": {},
   "outputs": [],
   "source": [
    "np.sum(y, axis=0)"
   ]
  },
  {
   "cell_type": "code",
   "execution_count": null,
   "id": "26509fa6-739c-4248-9de0-b4bce76927e4",
   "metadata": {},
   "outputs": [],
   "source": [
    "np.sum(y, axis=1)"
   ]
  },
  {
   "cell_type": "code",
   "execution_count": null,
   "id": "d0a72dae-759e-4cd2-bbf0-0382f0b9b6ac",
   "metadata": {},
   "outputs": [],
   "source": [
    "##row-column\n",
    "np.sum(z, axis=0)"
   ]
  },
  {
   "cell_type": "code",
   "execution_count": null,
   "id": "2a9364c4-5b5e-49f6-a2a1-a20dc623f1d9",
   "metadata": {},
   "outputs": [],
   "source": [
    "##column-layer\n",
    "np.sum(z, axis=1)"
   ]
  },
  {
   "cell_type": "code",
   "execution_count": null,
   "id": "8cd47538-4066-4b38-a9db-bc8d71fc8ec3",
   "metadata": {},
   "outputs": [],
   "source": [
    "##row-layer\n",
    "np.sum(z, axis=2)"
   ]
  },
  {
   "cell_type": "markdown",
   "id": "75262eda-359b-4c20-8f7e-caf3af04634a",
   "metadata": {},
   "source": [
    "Exercise7: Calculate the mean of all column in each layer from array z."
   ]
  },
  {
   "cell_type": "code",
   "execution_count": null,
   "id": "36b5637e-19c3-4533-b159-62d561b0579d",
   "metadata": {},
   "outputs": [],
   "source": [
    "## ploting an array"
   ]
  },
  {
   "cell_type": "code",
   "execution_count": null,
   "id": "e71429e2-083a-46b4-a1f6-76097e02c54a",
   "metadata": {},
   "outputs": [],
   "source": [
    "import matplotlib.pyplot as plt"
   ]
  },
  {
   "cell_type": "code",
   "execution_count": null,
   "id": "2241dc47-8dba-45ac-844d-9dfaf0a5bd24",
   "metadata": {},
   "outputs": [],
   "source": [
    "h = y.flatten()\n",
    "h"
   ]
  },
  {
   "cell_type": "code",
   "execution_count": null,
   "id": "428023b5-b66a-4e11-a624-d7909ec6b8d6",
   "metadata": {},
   "outputs": [],
   "source": [
    "plt.hist(h);"
   ]
  },
  {
   "cell_type": "code",
   "execution_count": null,
   "id": "1ca8cf6a-05a1-495b-8b77-c169157287f3",
   "metadata": {},
   "outputs": [],
   "source": [
    "plt.plot(y[1, :]);"
   ]
  },
  {
   "cell_type": "code",
   "execution_count": null,
   "id": "8ff573bb-900a-4f80-b800-cc282bc6d30f",
   "metadata": {},
   "outputs": [],
   "source": [
    "plt.plot(y[:, 1]);"
   ]
  },
  {
   "cell_type": "code",
   "execution_count": null,
   "id": "77e895a6-a4bb-4aab-b6f1-446faa249f00",
   "metadata": {},
   "outputs": [],
   "source": [
    "plt.plot(y);"
   ]
  },
  {
   "cell_type": "code",
   "execution_count": null,
   "id": "1e5b3baf-2fdb-47c8-9218-7c9dc63cc5a3",
   "metadata": {},
   "outputs": [],
   "source": [
    "plt.imshow(y);"
   ]
  },
  {
   "cell_type": "code",
   "execution_count": null,
   "id": "b85f3459-b4a6-493f-bee4-1d0175d3b4ac",
   "metadata": {},
   "outputs": [],
   "source": [
    "##practice with plotting on different arrays"
   ]
  },
  {
   "cell_type": "code",
   "execution_count": null,
   "id": "8904ae81-60f6-4819-9112-c917c1aec223",
   "metadata": {},
   "outputs": [],
   "source": [
    "data = np.array([1, 2, 3, 4, 5, 6, 7, 8, 9, 10])\n",
    "\n",
    "plt.hist(data, bins=[0,2,4,6,8,10])\n",
    "plt.title('My Histogram')\n",
    "plt.xlabel('Interval')\n",
    "plt.ylabel('Frequency')\n",
    "plt.show()\n"
   ]
  },
  {
   "cell_type": "markdown",
   "id": "07a3ee52-496f-46bd-9846-aea1d023023d",
   "metadata": {},
   "source": [
    "Exercise8: Given an 2D array of numbers, plot a graph that displays the sum of each element in the column.\n"
   ]
  },
  {
   "cell_type": "markdown",
   "id": "4a2fc879-6404-43e8-b30e-3201f4e4fc0c",
   "metadata": {},
   "source": [
    "Reference: https://docs.python.org\n",
    "https://geobgu.xyz/py/numpy.html "
   ]
  }
 ],
 "metadata": {
  "kernelspec": {
   "display_name": "Python 3 (ipykernel)",
   "language": "python",
   "name": "python3"
  },
  "language_info": {
   "codemirror_mode": {
    "name": "ipython",
    "version": 3
   },
   "file_extension": ".py",
   "mimetype": "text/x-python",
   "name": "python",
   "nbconvert_exporter": "python",
   "pygments_lexer": "ipython3",
   "version": "3.10.10"
  }
 },
 "nbformat": 4,
 "nbformat_minor": 5
}
