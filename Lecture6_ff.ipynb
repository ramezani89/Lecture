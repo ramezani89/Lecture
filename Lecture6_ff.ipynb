{
 "cells": [
  {
   "cell_type": "code",
   "execution_count": null,
   "id": "d3fb099a-edb3-42f1-bae3-f1c372acc644",
   "metadata": {
    "tags": []
   },
   "outputs": [],
   "source": [
    "import numpy as np"
   ]
  },
  {
   "cell_type": "code",
   "execution_count": null,
   "id": "b9d75a65-69c3-4ab7-9c91-2b2e7953acb6",
   "metadata": {},
   "outputs": [],
   "source": [
    "import pandas as pd"
   ]
  },
  {
   "cell_type": "code",
   "execution_count": null,
   "id": "f63440df-4afa-4e56-9318-e7454126fbe4",
   "metadata": {},
   "outputs": [],
   "source": [
    "import matplotlib.pyplot as plt"
   ]
  },
  {
   "cell_type": "code",
   "execution_count": null,
   "id": "0ba9fb42-11e5-43aa-8266-87d7b2cfe510",
   "metadata": {},
   "outputs": [],
   "source": [
    "h= pd.Series(np.array([1,7,9]))\n",
    "print(h)"
   ]
  },
  {
   "cell_type": "code",
   "execution_count": null,
   "id": "a3e08248-fb0c-497b-9344-d5d78bdf98d2",
   "metadata": {},
   "outputs": [],
   "source": [
    "h.index = ['a', 'b', 'c']\n",
    "print(h)"
   ]
  },
  {
   "cell_type": "code",
   "execution_count": null,
   "id": "28ed9176-80d9-43e9-b054-bee2cda494f9",
   "metadata": {},
   "outputs": [],
   "source": [
    "States = pd.read_csv('states_by_country_code.csv')\n",
    "print(States)"
   ]
  },
  {
   "cell_type": "code",
   "execution_count": null,
   "id": "7c8c7915-d67a-4eb7-8a21-f5c4cb437253",
   "metadata": {},
   "outputs": [],
   "source": [
    "States = States.set_index('State Code')\n",
    "print(States)"
   ]
  },
  {
   "cell_type": "code",
   "execution_count": null,
   "id": "2a67d402-f225-46fd-9f44-389250c8f8b0",
   "metadata": {},
   "outputs": [],
   "source": [
    "h.reset_index(drop=True)"
   ]
  },
  {
   "cell_type": "code",
   "execution_count": null,
   "id": "cd0b5d51-0150-4cdb-8d9d-2f7ff2f3b099",
   "metadata": {},
   "outputs": [],
   "source": [
    "States = States.reset_index()\n",
    "States"
   ]
  },
  {
   "cell_type": "code",
   "execution_count": null,
   "id": "53be8329-48ad-45a5-80ba-682b11f32571",
   "metadata": {},
   "outputs": [],
   "source": [
    "States.sort_values('State Name')"
   ]
  },
  {
   "cell_type": "code",
   "execution_count": null,
   "id": "996e5079-9911-4b3d-93c5-0429df76a3d9",
   "metadata": {},
   "outputs": [],
   "source": [
    "States.sort_values('State Name', ascending=False)"
   ]
  },
  {
   "cell_type": "markdown",
   "id": "5fa98080-b001-4346-a04e-d172f6568b80",
   "metadata": {},
   "source": [
    "Exercise 1: read in the file country_full.csv, (a) set the index to country code, (b) reset the index, and (c) sort the table based on column region code. "
   ]
  },
  {
   "cell_type": "code",
   "execution_count": null,
   "id": "3d03d97b-804b-4b79-9a8a-74c1726dc00c",
   "metadata": {},
   "outputs": [],
   "source": [
    "###plotting"
   ]
  },
  {
   "cell_type": "code",
   "execution_count": null,
   "id": "bd9967f0-bd2d-4c42-a74b-c50b2ff0934d",
   "metadata": {},
   "outputs": [],
   "source": [
    "country = pd.read_csv('country_full.csv')\n",
    "print(country)"
   ]
  },
  {
   "cell_type": "code",
   "execution_count": null,
   "id": "70f63ebf-1583-4c09-bbae-d631f3a2602d",
   "metadata": {},
   "outputs": [],
   "source": [
    "country[['country-code', 'region-code']].hist();"
   ]
  },
  {
   "cell_type": "markdown",
   "id": "3fa33a34-a6fa-4b5e-a5ea-4d01136f06d4",
   "metadata": {},
   "source": [
    "Try it on 2nd row and all the columns"
   ]
  },
  {
   "cell_type": "code",
   "execution_count": null,
   "id": "b2c127e8-3cff-43bc-a817-657067f0840f",
   "metadata": {},
   "outputs": [],
   "source": [
    "country['country-code'].plot();"
   ]
  },
  {
   "cell_type": "code",
   "execution_count": null,
   "id": "67a35bbd-65b9-415a-b092-26f7e8adb5f6",
   "metadata": {},
   "outputs": [],
   "source": [
    "country.set_index('name')['country-code'].plot();"
   ]
  },
  {
   "cell_type": "code",
   "execution_count": null,
   "id": "47e4c2bf-c5fb-4c2c-a2ee-51c55d518fa8",
   "metadata": {},
   "outputs": [],
   "source": [
    "country.plot.scatter(x='country-code', y='region-code');"
   ]
  },
  {
   "cell_type": "markdown",
   "id": "8adc95f7-57f2-4031-ba77-cb3d0589df1e",
   "metadata": {},
   "source": [
    "Exercise 2: Read the climate.csv file to a variable named 'climate', generate a line plot from 'Temperature (Celsius)', in the next step change the index to Country and in the 3rd step create a plot with all 3 variables and set the index to the Date. (put the title and axes labels)"
   ]
  },
  {
   "cell_type": "code",
   "execution_count": null,
   "id": "5e08fa6f-9b5f-4827-a5e1-ea9053ed90d0",
   "metadata": {},
   "outputs": [],
   "source": [
    "###Operators"
   ]
  },
  {
   "cell_type": "code",
   "execution_count": null,
   "id": "b9d7ecf3-64ed-4112-977b-681ca82ce4f8",
   "metadata": {},
   "outputs": [],
   "source": [
    "climate = pd.read_csv('climate.csv')\n",
    "print(climate)"
   ]
  },
  {
   "cell_type": "code",
   "execution_count": null,
   "id": "c4592940-fb4e-4d21-894d-cd6ca5f193a5",
   "metadata": {},
   "outputs": [],
   "source": [
    "climate['Temperature (Celsius)'].min()"
   ]
  },
  {
   "cell_type": "code",
   "execution_count": null,
   "id": "c66ee260-e48b-437c-9cbf-2fbfae941a0c",
   "metadata": {},
   "outputs": [],
   "source": [
    "climate['Temperature (Celsius)'].max()"
   ]
  },
  {
   "cell_type": "code",
   "execution_count": null,
   "id": "866b8889-c071-432f-b04f-b4689bf952cf",
   "metadata": {},
   "outputs": [],
   "source": [
    "climate['Temperature (Celsius)'].mean()"
   ]
  },
  {
   "cell_type": "code",
   "execution_count": null,
   "id": "b4d72ec7-a15a-416d-8e7d-bd6a97edda8a",
   "metadata": {},
   "outputs": [],
   "source": [
    "climate[['Temperature (Celsius)','Humidity (%)']].mean()"
   ]
  },
  {
   "cell_type": "code",
   "execution_count": null,
   "id": "685d0507-1625-4f36-bb62-2637c8e8863b",
   "metadata": {},
   "outputs": [],
   "source": [
    "climate[['Temperature (Celsius)','Humidity (%)']]-10"
   ]
  },
  {
   "cell_type": "code",
   "execution_count": null,
   "id": "174e4d61-d57c-4d27-82e6-daaee14e8519",
   "metadata": {},
   "outputs": [],
   "source": [
    "climate['df'] = climate['Temperature (Celsius)'] - climate['Humidity (%)']\n",
    "print(climate)"
   ]
  },
  {
   "cell_type": "code",
   "execution_count": null,
   "id": "ef022341-2bc1-4dff-84e8-53f2bdb9c470",
   "metadata": {},
   "outputs": [],
   "source": [
    "climate.set_index('Date')['df'].plot();"
   ]
  },
  {
   "cell_type": "markdown",
   "id": "3d2b938f-271d-4760-b75f-ac9afdabbd9a",
   "metadata": {},
   "source": [
    "Exercise 3: create a column as the sum of the wind speed and humidity and create a scatter plot between the new column and the temperature"
   ]
  },
  {
   "cell_type": "code",
   "execution_count": null,
   "id": "ad207556-8809-4509-9f69-b6f1e9c8ee62",
   "metadata": {},
   "outputs": [],
   "source": [
    "climate['sum'] = climate['Wind Speed (km/h)'] + climate['Humidity (%)']\n",
    "print(climate)"
   ]
  },
  {
   "cell_type": "code",
   "execution_count": null,
   "id": "b1367aa6-9b0a-4026-bc25-8e1ec30813d6",
   "metadata": {},
   "outputs": [],
   "source": [
    "climate.plot.scatter(x='sum', y='Temperature (Celsius)');"
   ]
  },
  {
   "cell_type": "markdown",
   "id": "9d75d6bc-1775-492c-b20d-7f576deae700",
   "metadata": {},
   "source": [
    "Exercise 4: Add a column named 'rain' with an duplicated value over all rows"
   ]
  },
  {
   "cell_type": "code",
   "execution_count": null,
   "id": "65d3bb33-2ab1-4afc-bd76-b10fa5514409",
   "metadata": {},
   "outputs": [],
   "source": [
    "climate = climate.drop(['sum'], axis=1)\n",
    "climate"
   ]
  },
  {
   "cell_type": "code",
   "execution_count": null,
   "id": "334fb992-d2d7-4f7e-8d59-716e6cea2a05",
   "metadata": {},
   "outputs": [],
   "source": [
    "climate[climate['Temperature (Celsius)'] > 22]"
   ]
  },
  {
   "cell_type": "code",
   "execution_count": null,
   "id": "c3801443-0fe5-4360-9277-717899589611",
   "metadata": {},
   "outputs": [],
   "source": [
    "new_filter = (climate['Temperature (Celsius)'] == 18.9) | (climate['Temperature (Celsius)'] == 20.1)\n",
    "climate[new_filter]"
   ]
  },
  {
   "cell_type": "code",
   "execution_count": null,
   "id": "e29dbca1-df32-4571-abed-ac2e2d14e38b",
   "metadata": {},
   "outputs": [],
   "source": [
    "new_filter = climate['Temperature (Celsius)'].isin([18.9,20.1])\n",
    "climate[new_filter]"
   ]
  },
  {
   "cell_type": "code",
   "execution_count": null,
   "id": "15dbf7a2-f7a2-4461-8e5e-d9834717c70b",
   "metadata": {},
   "outputs": [],
   "source": [
    "climate.loc[climate['Temperature (Celsius)'] > 18.9, 'Temperature (Celsius)'] = 20\n",
    "climate"
   ]
  },
  {
   "cell_type": "markdown",
   "id": "0c2af706-b6d4-4147-909d-469dcdaf740f",
   "metadata": {},
   "source": [
    "Exercise 5: substitute the humidity values above 60 with 65 in the 'Humidity (%)' column of the 'climate' DataFrame"
   ]
  },
  {
   "cell_type": "code",
   "execution_count": null,
   "id": "3a2fa8b7-fefc-4659-bd64-59eda78e5577",
   "metadata": {},
   "outputs": [],
   "source": [
    "currency = pd.read_csv('currency.csv')\n",
    "print(currency)"
   ]
  },
  {
   "cell_type": "code",
   "execution_count": null,
   "id": "7994d0f9-0622-4a29-91a4-d614ad541a60",
   "metadata": {},
   "outputs": [],
   "source": [
    "currency2 = currency"
   ]
  },
  {
   "cell_type": "code",
   "execution_count": null,
   "id": "8a4d1ce3-38da-4ab2-b18a-2f03451bbd35",
   "metadata": {},
   "outputs": [],
   "source": [
    "currency2.iloc[1, 1] = 50\n",
    "currency2"
   ]
  },
  {
   "cell_type": "code",
   "execution_count": null,
   "id": "3f697f0a-23f7-43ba-bcaf-bf2df57e4d03",
   "metadata": {},
   "outputs": [],
   "source": [
    "currency"
   ]
  },
  {
   "cell_type": "code",
   "execution_count": null,
   "id": "25a8f752-690a-4d02-8138-1205669c7632",
   "metadata": {},
   "outputs": [],
   "source": [
    "currency = pd.read_csv('currency.csv')\n",
    "print(currency)"
   ]
  },
  {
   "cell_type": "code",
   "execution_count": null,
   "id": "a37644c6-5fc7-4635-884c-3a1ac142b283",
   "metadata": {},
   "outputs": [],
   "source": [
    "currency2 = currency.copy()"
   ]
  },
  {
   "cell_type": "code",
   "execution_count": null,
   "id": "f066cf82-bfd7-4b8c-9a48-5bf4adc56d64",
   "metadata": {},
   "outputs": [],
   "source": [
    "currency2.iloc[1, 1] = 50\n",
    "currency2"
   ]
  },
  {
   "cell_type": "code",
   "execution_count": null,
   "id": "da9f4d59-d258-4582-a4f8-e5453a430099",
   "metadata": {},
   "outputs": [],
   "source": [
    "currency"
   ]
  },
  {
   "cell_type": "markdown",
   "id": "47a0b201-675a-4b5b-8546-552c32bf8845",
   "metadata": {},
   "source": [
    "Exercise 6: read in the climate.csv file again, make a copy of the table, substitude the wind speeds equall to 13 and 8 with 10 (with both conditional and isin methods) and creat a plot of wind speed with respect to the countries name, include title, labels and legend in your figure"
   ]
  },
  {
   "cell_type": "markdown",
   "id": "eca3a35e-7ce0-423c-909b-5b1d47fc3b14",
   "metadata": {},
   "source": [
    "Reference: https://jupyter.org https://the-turing-way.netlify.app/communication/binder/zero-to-binder.html https://docs.python.org https://wsform.com/knowledgebase/sample-csv-files/ https://geobgu.xyz/py/"
   ]
  }
 ],
 "metadata": {
  "kernelspec": {
   "display_name": "Python 3 (ipykernel)",
   "language": "python",
   "name": "python3"
  },
  "language_info": {
   "codemirror_mode": {
    "name": "ipython",
    "version": 3
   },
   "file_extension": ".py",
   "mimetype": "text/x-python",
   "name": "python",
   "nbconvert_exporter": "python",
   "pygments_lexer": "ipython3",
   "version": "3.10.10"
  }
 },
 "nbformat": 4,
 "nbformat_minor": 5
}
