{
 "cells": [
  {
   "cell_type": "code",
   "execution_count": null,
   "id": "c053deb2-1c68-471c-9f41-524a20751289",
   "metadata": {
    "tags": []
   },
   "outputs": [],
   "source": [
    "import numpy as np"
   ]
  },
  {
   "cell_type": "code",
   "execution_count": null,
   "id": "e892fecc-cf90-47f3-8569-cce72a813a2c",
   "metadata": {},
   "outputs": [],
   "source": [
    "x = np.array([5, 4, -7, 11])\n",
    "print(x)"
   ]
  },
  {
   "cell_type": "code",
   "execution_count": null,
   "id": "0c51dde9-a61a-4e97-9066-0a5e6d1238bf",
   "metadata": {},
   "outputs": [],
   "source": [
    "np.sum(x)"
   ]
  },
  {
   "cell_type": "code",
   "execution_count": null,
   "id": "4a7fcd8f-92e2-46fc-a2f0-803c56a5ca7f",
   "metadata": {},
   "outputs": [],
   "source": [
    "y = np.array([[4, 5, 0], [3, 7, 9], [2, 1, 2]])\n",
    "print(y)\n"
   ]
  },
  {
   "cell_type": "code",
   "execution_count": null,
   "id": "26169242-623b-4724-86aa-b11b82b00f8d",
   "metadata": {},
   "outputs": [],
   "source": [
    "np.sum(y, axis=0)"
   ]
  },
  {
   "cell_type": "code",
   "execution_count": null,
   "id": "8cee4ce0-e8de-4545-8726-d0ed66b53f5e",
   "metadata": {},
   "outputs": [],
   "source": [
    "np.sum(y, axis=1)"
   ]
  },
  {
   "cell_type": "code",
   "execution_count": null,
   "id": "4f14b006-148b-46e3-b589-bc001312640b",
   "metadata": {},
   "outputs": [],
   "source": [
    "z = np.array([[[1,2,3], [4,5,6], [7,8,9]], [[10,11,12], [13,14,15], [16,17,18]]])\n",
    "print(z)"
   ]
  },
  {
   "cell_type": "code",
   "execution_count": null,
   "id": "d0a72dae-759e-4cd2-bbf0-0382f0b9b6ac",
   "metadata": {
    "tags": []
   },
   "outputs": [],
   "source": [
    "##row-column\n",
    "np.sum(z, axis=0)"
   ]
  },
  {
   "cell_type": "code",
   "execution_count": null,
   "id": "2a9364c4-5b5e-49f6-a2a1-a20dc623f1d9",
   "metadata": {},
   "outputs": [],
   "source": [
    "##column-layer\n",
    "np.sum(z, axis=1)"
   ]
  },
  {
   "cell_type": "code",
   "execution_count": null,
   "id": "8cd47538-4066-4b38-a9db-bc8d71fc8ec3",
   "metadata": {
    "tags": []
   },
   "outputs": [],
   "source": [
    "##row-layer\n",
    "np.sum(z, axis=2)"
   ]
  },
  {
   "cell_type": "code",
   "execution_count": null,
   "id": "79f52335-c11b-4c47-85fa-da5788cbe2d5",
   "metadata": {},
   "outputs": [],
   "source": [
    "f=np.sum(z, axis=2)\n",
    "np.transpose(f)"
   ]
  },
  {
   "cell_type": "markdown",
   "id": "75262eda-359b-4c20-8f7e-caf3af04634a",
   "metadata": {},
   "source": [
    "Exercise1: Calculate the mean of all column in each layer from array z."
   ]
  },
  {
   "cell_type": "code",
   "execution_count": null,
   "id": "51929b56-decc-40ed-8489-2490dae67987",
   "metadata": {},
   "outputs": [],
   "source": [
    "##reading the data from the file"
   ]
  },
  {
   "cell_type": "code",
   "execution_count": null,
   "id": "65a96e12-2549-4af2-89da-04883b2127b4",
   "metadata": {},
   "outputs": [],
   "source": [
    "b = np.genfromtxt('sample.txt', delimiter=';')\n",
    "print(b)                  "
   ]
  },
  {
   "cell_type": "code",
   "execution_count": null,
   "id": "9e18449b-11ab-4b43-be21-dd91e51cd1d4",
   "metadata": {},
   "outputs": [],
   "source": [
    "b = np.genfromtxt('sample.txt', delimiter=';', skip_header=1)\n",
    "print(b)"
   ]
  },
  {
   "cell_type": "code",
   "execution_count": null,
   "id": "b04a7b27-58f0-4e35-a671-60a41935e4c0",
   "metadata": {},
   "outputs": [],
   "source": [
    "np.savetxt(\"y.txt\", y, delimiter=\",\", header=\"name,id,region\")"
   ]
  },
  {
   "cell_type": "markdown",
   "id": "6ec297f9-14c5-4279-a9c2-9f92b3ea2292",
   "metadata": {},
   "source": [
    "Exercise2: Create a 2D array and use the np.savetxt() function to save the data array to a text file named \"mydata.txt\" with a comma delimiter and a header line Col1,Col2,Col3,Col4"
   ]
  },
  {
   "cell_type": "code",
   "execution_count": null,
   "id": "36b5637e-19c3-4533-b159-62d561b0579d",
   "metadata": {},
   "outputs": [],
   "source": [
    "## ploting an array"
   ]
  },
  {
   "cell_type": "code",
   "execution_count": null,
   "id": "e71429e2-083a-46b4-a1f6-76097e02c54a",
   "metadata": {},
   "outputs": [],
   "source": [
    "import matplotlib.pyplot as plt"
   ]
  },
  {
   "cell_type": "code",
   "execution_count": null,
   "id": "2241dc47-8dba-45ac-844d-9dfaf0a5bd24",
   "metadata": {},
   "outputs": [],
   "source": [
    "h = y.flatten()\n",
    "h"
   ]
  },
  {
   "cell_type": "code",
   "execution_count": null,
   "id": "428023b5-b66a-4e11-a624-d7909ec6b8d6",
   "metadata": {},
   "outputs": [],
   "source": [
    "plt.hist(h);"
   ]
  },
  {
   "cell_type": "code",
   "execution_count": null,
   "id": "1ca8cf6a-05a1-495b-8b77-c169157287f3",
   "metadata": {},
   "outputs": [],
   "source": [
    "plt.plot(y[1, :]);"
   ]
  },
  {
   "cell_type": "code",
   "execution_count": null,
   "id": "8ff573bb-900a-4f80-b800-cc282bc6d30f",
   "metadata": {},
   "outputs": [],
   "source": [
    "plt.plot(y[:, 1]);"
   ]
  },
  {
   "cell_type": "code",
   "execution_count": null,
   "id": "77e895a6-a4bb-4aab-b6f1-446faa249f00",
   "metadata": {},
   "outputs": [],
   "source": [
    "plt.plot(y);"
   ]
  },
  {
   "cell_type": "code",
   "execution_count": null,
   "id": "85a7b12e-7b6d-43b1-8ee1-45db9d8ea861",
   "metadata": {},
   "outputs": [],
   "source": [
    "plt.plot(y,color='red', label='red');"
   ]
  },
  {
   "cell_type": "code",
   "execution_count": null,
   "id": "c45b9ee8-6284-43ce-ba18-5bd7f425c1bc",
   "metadata": {},
   "outputs": [],
   "source": []
  },
  {
   "cell_type": "code",
   "execution_count": null,
   "id": "1e5b3baf-2fdb-47c8-9218-7c9dc63cc5a3",
   "metadata": {},
   "outputs": [],
   "source": [
    "plt.imshow(y);\n",
    "plt.colorbar()"
   ]
  },
  {
   "cell_type": "code",
   "execution_count": null,
   "id": "b85f3459-b4a6-493f-bee4-1d0175d3b4ac",
   "metadata": {},
   "outputs": [],
   "source": [
    "##practice with plotting on different arrays"
   ]
  },
  {
   "cell_type": "code",
   "execution_count": null,
   "id": "8904ae81-60f6-4819-9112-c917c1aec223",
   "metadata": {},
   "outputs": [],
   "source": [
    "data = np.array([1, 2, 3, 4, 5, 6, 7, 8, 9, 10])\n",
    "\n",
    "plt.hist(data, bins=[0,2,4,6,8,10])\n",
    "plt.title('My Histogram')\n",
    "plt.xlabel('Interval')\n",
    "plt.ylabel('Frequency')\n",
    "plt.show()\n"
   ]
  },
  {
   "cell_type": "markdown",
   "id": "07a3ee52-496f-46bd-9846-aea1d023023d",
   "metadata": {},
   "source": [
    "Exercise3: Given an 2D array of numbers, plot a graph that displays the sum of each element in the column.\n"
   ]
  },
  {
   "cell_type": "code",
   "execution_count": null,
   "id": "67d2ff77-916a-433e-a08a-e82cdf948462",
   "metadata": {},
   "outputs": [],
   "source": [
    "## tables (pandas)"
   ]
  },
  {
   "cell_type": "code",
   "execution_count": null,
   "id": "90f275e1-a450-4ef5-a780-5e595e007851",
   "metadata": {},
   "outputs": [],
   "source": [
    "import pandas as pd"
   ]
  },
  {
   "cell_type": "code",
   "execution_count": null,
   "id": "97fad1db-8dba-43f7-9e28-c9d02517f204",
   "metadata": {},
   "outputs": [],
   "source": [
    "g = pd.Series(['a', 'b', 'c'])\n",
    "print(g)"
   ]
  },
  {
   "cell_type": "code",
   "execution_count": null,
   "id": "32b2efd4-e2f4-4f50-93c1-8475c3e59b60",
   "metadata": {},
   "outputs": [],
   "source": [
    "h= pd.Series(np.array([1,7,9]))\n",
    "print(h)"
   ]
  },
  {
   "cell_type": "code",
   "execution_count": null,
   "id": "6e6e43c6-afd1-4aa8-acd7-2cec4a0f10f8",
   "metadata": {},
   "outputs": [],
   "source": [
    "h.shape"
   ]
  },
  {
   "cell_type": "markdown",
   "id": "5db6e9f1-a2cf-40c8-893c-a0b0373534b0",
   "metadata": {},
   "source": [
    "Exercise4: create a table (series data structure) from an array of numbers and check for the shape."
   ]
  },
  {
   "cell_type": "code",
   "execution_count": null,
   "id": "001335f9-95b2-4bac-993d-0fff8f9de86d",
   "metadata": {},
   "outputs": [],
   "source": [
    "i= pd.Series([7, 8, 9])\n",
    "print(i)"
   ]
  },
  {
   "cell_type": "code",
   "execution_count": null,
   "id": "2bd1f330-8743-476a-8c8d-b9058b8d3335",
   "metadata": {},
   "outputs": [],
   "source": [
    "dataframe_dict = {'ID': g, 'value': h, 'condition': i}\n",
    "dataframe = pd.DataFrame(dataframe_dict)\n",
    "print(dataframe)"
   ]
  },
  {
   "cell_type": "code",
   "execution_count": null,
   "id": "18547518-2e38-4e92-8fee-cb5e5016c2b2",
   "metadata": {},
   "outputs": [],
   "source": [
    "dataframe.index"
   ]
  },
  {
   "cell_type": "code",
   "execution_count": null,
   "id": "b51fa9be-c2a5-469d-b1d3-100c32560181",
   "metadata": {},
   "outputs": [],
   "source": [
    "dataframe.columns"
   ]
  },
  {
   "cell_type": "markdown",
   "id": "77fca856-b376-4367-bb40-099edb685dfe",
   "metadata": {},
   "source": [
    "Exercise5:create a table (dataframe structure) from multiple series (including boolean and numiric) and check the shape."
   ]
  },
  {
   "cell_type": "code",
   "execution_count": null,
   "id": "6254ab25-98fd-444e-aa75-8ebd7e749829",
   "metadata": {},
   "outputs": [],
   "source": [
    "country = pd.read_csv('country_full.csv')\n",
    "print(country)"
   ]
  },
  {
   "cell_type": "code",
   "execution_count": null,
   "id": "29d5ae13-30cb-4da3-9593-2fdc948b0f9d",
   "metadata": {},
   "outputs": [],
   "source": [
    "country.columns"
   ]
  },
  {
   "cell_type": "code",
   "execution_count": null,
   "id": "65b620fd-b4ee-4692-8fd8-2accdb6ca896",
   "metadata": {},
   "outputs": [],
   "source": [
    "country.index"
   ]
  },
  {
   "cell_type": "code",
   "execution_count": null,
   "id": "8fb47cb7-d9f6-4a52-84f1-e4f79a682e77",
   "metadata": {},
   "outputs": [],
   "source": [
    "country.shape"
   ]
  },
  {
   "cell_type": "code",
   "execution_count": null,
   "id": "f0c64e75-a4da-426e-8892-725e507428f8",
   "metadata": {},
   "outputs": [],
   "source": [
    "country.dtypes"
   ]
  },
  {
   "cell_type": "code",
   "execution_count": null,
   "id": "78f8db41-6943-4548-a2c9-876a90ca6187",
   "metadata": {},
   "outputs": [],
   "source": [
    "country.rename(columns={'region': 'REGION'})"
   ]
  },
  {
   "cell_type": "markdown",
   "id": "f72d4d88-79f3-4529-8b0d-57a732915a8e",
   "metadata": {},
   "source": [
    "Exercise6:rename the row index of 2 with 3"
   ]
  },
  {
   "cell_type": "code",
   "execution_count": null,
   "id": "ccbe3b67-4226-45cd-97f7-b609917b17eb",
   "metadata": {},
   "outputs": [],
   "source": [
    "States = pd.read_csv('states_by_country_code.csv')\n",
    "print(States)"
   ]
  },
  {
   "cell_type": "markdown",
   "id": "a473ec87-e9e4-49fc-b941-b0c2ff4bbacb",
   "metadata": {},
   "source": [
    "Exercise7:Read the states_by_country_code.csv file, check its properties, and rename some row and column indexes"
   ]
  },
  {
   "cell_type": "code",
   "execution_count": null,
   "id": "2944389e-c3b5-43ec-b6db-5d51fbfd261b",
   "metadata": {},
   "outputs": [],
   "source": [
    "## Subsetting Series"
   ]
  },
  {
   "cell_type": "code",
   "execution_count": null,
   "id": "d463cd70-7e5e-4cc9-8266-f7a76ad61898",
   "metadata": {},
   "outputs": [],
   "source": [
    "h= pd.Series(np.array([1,7,9]))\n",
    "print(h)"
   ]
  },
  {
   "cell_type": "code",
   "execution_count": null,
   "id": "238a5bcd-0022-467c-8abf-72adacb41620",
   "metadata": {},
   "outputs": [],
   "source": [
    "h.loc[2]  "
   ]
  },
  {
   "cell_type": "code",
   "execution_count": null,
   "id": "466e8b76-798a-4b41-afa9-9e5946f2c0bb",
   "metadata": {},
   "outputs": [],
   "source": [
    "h.loc[:2]"
   ]
  },
  {
   "cell_type": "code",
   "execution_count": null,
   "id": "4954fe1f-d400-4686-afee-37c2f0a6138d",
   "metadata": {},
   "outputs": [],
   "source": [
    "h.loc[[0,1]]"
   ]
  },
  {
   "cell_type": "code",
   "execution_count": null,
   "id": "3efeb632-000d-4afb-88df-095b31bf132b",
   "metadata": {},
   "outputs": [],
   "source": [
    "h.iloc[2]  "
   ]
  },
  {
   "cell_type": "code",
   "execution_count": null,
   "id": "25636ecc-0313-4199-81cf-ac03e92d8060",
   "metadata": {},
   "outputs": [],
   "source": [
    "h.iloc[:2]"
   ]
  },
  {
   "cell_type": "code",
   "execution_count": null,
   "id": "c3a0e34e-ab95-4aac-a7e8-72a8e6465d22",
   "metadata": {},
   "outputs": [],
   "source": [
    "h.iloc[[0,1]]"
   ]
  },
  {
   "cell_type": "markdown",
   "id": "61f81c25-e399-4c7c-b15b-c24db18da512",
   "metadata": {},
   "source": [
    "Extract a individual index (5), slice for row indexed with 2 nad 3 and a list of indecices for the row indexed with 1 nad 3 from t= pd.Series(np.array([3,5,7,8]))"
   ]
  },
  {
   "cell_type": "code",
   "execution_count": null,
   "id": "47b73e5c-da56-415f-b7fa-a3ea208a1ef7",
   "metadata": {},
   "outputs": [],
   "source": [
    "t= pd.Series(np.array([3,5,7,8]))\n",
    "t"
   ]
  },
  {
   "cell_type": "markdown",
   "id": "666756dc-fede-49f0-a5af-fa06e1f5ba4a",
   "metadata": {},
   "source": [
    "Reference: https://jupyter.org https://the-turing-way.netlify.app/communication/binder/zero-to-binder.html https://docs.python.org https://wsform.com/knowledgebase/sample-csv-files/ https://geobgu.xyz/py/"
   ]
  }
 ],
 "metadata": {
  "kernelspec": {
   "display_name": "Python 3 (ipykernel)",
   "language": "python",
   "name": "python3"
  },
  "language_info": {
   "codemirror_mode": {
    "name": "ipython",
    "version": 3
   },
   "file_extension": ".py",
   "mimetype": "text/x-python",
   "name": "python",
   "nbconvert_exporter": "python",
   "pygments_lexer": "ipython3",
   "version": "3.10.10"
  }
 },
 "nbformat": 4,
 "nbformat_minor": 5
}
