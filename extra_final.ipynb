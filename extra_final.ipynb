{
 "cells": [
  {
   "cell_type": "markdown",
   "id": "4be46b99-ce1b-4513-9eea-178a8324c342",
   "metadata": {},
   "source": [
    "Calculate the sum of all numbers from 1 to 20 using for loop"
   ]
  },
  {
   "cell_type": "markdown",
   "id": "fb49dc11-c50c-40f0-ac11-eef701cae551",
   "metadata": {},
   "source": [
    "calculate the absolute value of a negative number using if"
   ]
  },
  {
   "cell_type": "markdown",
   "id": "c52060a6-c8d8-4e96-bb9f-105fd250cc99",
   "metadata": {},
   "source": [
    "What is the result of the function f(x, y) (define any) when x = 2 and y = 3?"
   ]
  },
  {
   "cell_type": "markdown",
   "id": "acf6afc3-e075-42f2-a918-357e4c094c22",
   "metadata": {},
   "source": [
    "print out the numbers from 50 to 0 in steps of 5, using while loop"
   ]
  },
  {
   "cell_type": "markdown",
   "id": "f67d17a0-8d37-446f-b035-5fcbba7e33ac",
   "metadata": {},
   "source": [
    "Create a 2-dimensional array using np.arange() and reshape()"
   ]
  }
 ],
 "metadata": {
  "kernelspec": {
   "display_name": "Python 3 (ipykernel)",
   "language": "python",
   "name": "python3"
  },
  "language_info": {
   "codemirror_mode": {
    "name": "ipython",
    "version": 3
   },
   "file_extension": ".py",
   "mimetype": "text/x-python",
   "name": "python",
   "nbconvert_exporter": "python",
   "pygments_lexer": "ipython3",
   "version": "3.10.9"
  }
 },
 "nbformat": 4,
 "nbformat_minor": 5
}
