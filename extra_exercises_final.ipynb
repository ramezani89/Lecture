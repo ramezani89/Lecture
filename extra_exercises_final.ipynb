{
 "cells": [
  {
   "cell_type": "code",
   "execution_count": null,
   "id": "1437ec44-f282-4483-9072-19640052d78e",
   "metadata": {},
   "outputs": [],
   "source": [
    "import numpy as np"
   ]
  },
  {
   "cell_type": "markdown",
   "id": "fb27bfe4-cf26-44ab-9204-22cd1ff7bcac",
   "metadata": {},
   "source": [
    "1. Calculate the sum of all numbers from 1 to 20 using for loop\n"
   ]
  },
  {
   "cell_type": "code",
   "execution_count": null,
   "id": "5d8b6c95-e576-46b8-8f39-d4bffcd13052",
   "metadata": {},
   "outputs": [],
   "source": [
    "total = 0\n",
    "for num in range(1, 21):\n",
    "    total += num\n",
    "print(total)"
   ]
  },
  {
   "cell_type": "markdown",
   "id": "cadd6ecf-bc09-4427-81e3-07137093e880",
   "metadata": {},
   "source": [
    "2. calculate the absolute value of a negative number using if "
   ]
  },
  {
   "cell_type": "code",
   "execution_count": null,
   "id": "a3df5ba5-f849-476c-95b0-06f68befebcc",
   "metadata": {},
   "outputs": [],
   "source": [
    "x = -4\n",
    "if x < 0:\n",
    "    x = -x\n",
    "print(x)"
   ]
  },
  {
   "cell_type": "markdown",
   "id": "170a7439-ca14-42ed-9e5f-2c5ca8a2b90b",
   "metadata": {},
   "source": [
    "3. What is the result of the function f(x, y) when x = 2 and y = 3?"
   ]
  },
  {
   "cell_type": "code",
   "execution_count": null,
   "id": "c27a1e48-7e1c-49a3-ae6b-de36981ad162",
   "metadata": {},
   "outputs": [],
   "source": [
    "def f(x, y): \n",
    "    return (x**3 + 2*x*y + 4*y**2) \n",
    "\n",
    "x = 2\n",
    "y = 3\n",
    "print(f(x, y))"
   ]
  },
  {
   "cell_type": "markdown",
   "id": "6ff14278-fcd0-4b52-8e23-8204d229ec64",
   "metadata": {},
   "source": [
    "4. print out the numbers from 50 to 0 in steps of 5, using while loop"
   ]
  },
  {
   "cell_type": "code",
   "execution_count": null,
   "id": "bea878b2-4648-430f-9429-3fecedc446ad",
   "metadata": {},
   "outputs": [],
   "source": [
    "i = 50\n",
    "while i >= 0:\n",
    "    print(i)\n",
    "    i -= 5"
   ]
  },
  {
   "cell_type": "markdown",
   "id": "a23af927-ed30-483b-83e6-2f4847c2d5a4",
   "metadata": {},
   "source": [
    "5. Create a 2-dimensional array using np.arange() and reshape()"
   ]
  },
  {
   "cell_type": "code",
   "execution_count": null,
   "id": "12bb226e-8a4a-4768-9329-5a604fa17609",
   "metadata": {},
   "outputs": [],
   "source": [
    "import numpy as np\n",
    "\n",
    "array = np.arange(12).reshape(3,4)\n",
    "array"
   ]
  },
  {
   "cell_type": "code",
   "execution_count": null,
   "id": "ed0def0f-2863-44d4-ba75-43811d815f6e",
   "metadata": {},
   "outputs": [],
   "source": []
  }
 ],
 "metadata": {
  "kernelspec": {
   "display_name": "Python 3 (ipykernel)",
   "language": "python",
   "name": "python3"
  },
  "language_info": {
   "codemirror_mode": {
    "name": "ipython",
    "version": 3
   },
   "file_extension": ".py",
   "mimetype": "text/x-python",
   "name": "python",
   "nbconvert_exporter": "python",
   "pygments_lexer": "ipython3",
   "version": "3.10.9"
  }
 },
 "nbformat": 4,
 "nbformat_minor": 5
}
