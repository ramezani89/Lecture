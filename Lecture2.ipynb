{
 "cells": [
  {
   "cell_type": "code",
   "execution_count": 70,
   "id": "89b8953a-5999-4d08-99c1-5ceabc6beaa5",
   "metadata": {},
   "outputs": [],
   "source": [
    "## Numeric int, float"
   ]
  },
  {
   "cell_type": "code",
   "execution_count": 82,
   "id": "1bd2d73a-1587-4d8f-8081-984f54ba585f",
   "metadata": {},
   "outputs": [
    {
     "data": {
      "text/plain": [
       "int"
      ]
     },
     "execution_count": 82,
     "metadata": {},
     "output_type": "execute_result"
    }
   ],
   "source": [
    "a=1\n",
    "type(a)\n"
   ]
  },
  {
   "cell_type": "code",
   "execution_count": 84,
   "id": "40217b2b-52e0-4268-a015-508358170f72",
   "metadata": {},
   "outputs": [
    {
     "data": {
      "text/plain": [
       "float"
      ]
     },
     "execution_count": 84,
     "metadata": {},
     "output_type": "execute_result"
    }
   ],
   "source": [
    "b= 2.8\n",
    "type(2.8)"
   ]
  },
  {
   "cell_type": "code",
   "execution_count": 73,
   "id": "5ab6540b-f166-41fb-914f-20ca7f3994d1",
   "metadata": {},
   "outputs": [],
   "source": [
    "## Sequence list, tuple"
   ]
  },
  {
   "cell_type": "code",
   "execution_count": 74,
   "id": "e54accb1-2896-4a2e-9af9-4b4594132ff0",
   "metadata": {},
   "outputs": [
    {
     "data": {
      "text/plain": [
       "list"
      ]
     },
     "execution_count": 74,
     "metadata": {},
     "output_type": "execute_result"
    }
   ],
   "source": [
    "type([4, 6, 7])"
   ]
  },
  {
   "cell_type": "code",
   "execution_count": 75,
   "id": "f6fa0790-3390-45c7-a49d-e5a10ae14a20",
   "metadata": {},
   "outputs": [
    {
     "data": {
      "text/plain": [
       "tuple"
      ]
     },
     "execution_count": 75,
     "metadata": {},
     "output_type": "execute_result"
    }
   ],
   "source": [
    "type((1, 5))"
   ]
  },
  {
   "cell_type": "code",
   "execution_count": 76,
   "id": "06b660a7-d97f-440f-ac44-856aa1cfcbc7",
   "metadata": {},
   "outputs": [],
   "source": [
    "## String str"
   ]
  },
  {
   "cell_type": "code",
   "execution_count": 77,
   "id": "7394fef0-3ed8-4192-8392-00a6308707ef",
   "metadata": {},
   "outputs": [
    {
     "data": {
      "text/plain": [
       "str"
      ]
     },
     "execution_count": 77,
     "metadata": {},
     "output_type": "execute_result"
    }
   ],
   "source": [
    "type(\"I like Math!\")\n"
   ]
  },
  {
   "cell_type": "code",
   "execution_count": 78,
   "id": "9921f14b-ce0e-4248-8828-9cdc4eff0a87",
   "metadata": {},
   "outputs": [],
   "source": [
    "## Mapping dict"
   ]
  },
  {
   "cell_type": "code",
   "execution_count": 79,
   "id": "789031b7-966f-4ced-ab7d-dfc7ff6ee904",
   "metadata": {},
   "outputs": [
    {
     "data": {
      "text/plain": [
       "dict"
      ]
     },
     "execution_count": 79,
     "metadata": {},
     "output_type": "execute_result"
    }
   ],
   "source": [
    "type({\"number of student\": 8, \"p\": 5})"
   ]
  },
  {
   "cell_type": "code",
   "execution_count": 57,
   "id": "e8701ad8-725d-4dfa-9dbe-a9057901f677",
   "metadata": {},
   "outputs": [],
   "source": [
    "##set"
   ]
  },
  {
   "cell_type": "code",
   "execution_count": 58,
   "id": "44f2f005-43e8-4bbd-8792-e24bd415bd9f",
   "metadata": {},
   "outputs": [
    {
     "data": {
      "text/plain": [
       "set"
      ]
     },
     "execution_count": 58,
     "metadata": {},
     "output_type": "execute_result"
    }
   ],
   "source": [
    "type({\"number of student\", \"p\"})"
   ]
  },
  {
   "cell_type": "code",
   "execution_count": 60,
   "id": "b61e33a7-8d1f-40d8-aa5b-296ea7678040",
   "metadata": {},
   "outputs": [],
   "source": [
    "c=(\"I like Math!\")"
   ]
  },
  {
   "cell_type": "code",
   "execution_count": 61,
   "id": "17e1ecf4-8f1a-40f9-bfd4-b5eae6809f2d",
   "metadata": {},
   "outputs": [
    {
     "name": "stdout",
     "output_type": "stream",
     "text": [
      "l\n"
     ]
    }
   ],
   "source": [
    "print(c[2])"
   ]
  },
  {
   "cell_type": "markdown",
   "id": "b2921c16-dc49-49e0-89b2-b14032e32b97",
   "metadata": {},
   "source": [
    "Excercise1: Assign a list to a variable and check the type and print an element using index!"
   ]
  },
  {
   "cell_type": "markdown",
   "id": "f132b7d1-e052-493f-8e3a-eeeecdb13314",
   "metadata": {},
   "source": [
    "Excercise2: Assign a flot to a variable and use the print() function to print out the following sentence \"the type of 2.8 is <class 'float'>\""
   ]
  },
  {
   "cell_type": "code",
   "execution_count": null,
   "id": "c250f478-552a-43b9-ba1d-c569e0bb34a2",
   "metadata": {},
   "outputs": [],
   "source": [
    "##Boolean "
   ]
  },
  {
   "cell_type": "code",
   "execution_count": 81,
   "id": "6afd5f11-abd5-4ecf-a0c9-54dc6014a558",
   "metadata": {},
   "outputs": [
    {
     "data": {
      "text/plain": [
       "False"
      ]
     },
     "execution_count": 81,
     "metadata": {},
     "output_type": "execute_result"
    }
   ],
   "source": [
    "1 == 2"
   ]
  },
  {
   "cell_type": "code",
   "execution_count": null,
   "id": "316f8170-d838-42d2-9b4b-3ab4f02ca4d2",
   "metadata": {},
   "outputs": [],
   "source": []
  }
 ],
 "metadata": {
  "kernelspec": {
   "display_name": "Python 3 (ipykernel)",
   "language": "python",
   "name": "python3"
  },
  "language_info": {
   "codemirror_mode": {
    "name": "ipython",
    "version": 3
   },
   "file_extension": ".py",
   "mimetype": "text/x-python",
   "name": "python",
   "nbconvert_exporter": "python",
   "pygments_lexer": "ipython3",
   "version": "3.10.9"
  }
 },
 "nbformat": 4,
 "nbformat_minor": 5
}
