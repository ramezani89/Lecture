{
 "cells": [
  {
   "cell_type": "code",
   "execution_count": null,
   "id": "5f706f5c-ae8a-48fa-ab6e-7759c969c0f2",
   "metadata": {
    "tags": []
   },
   "outputs": [],
   "source": [
    "import numpy as np"
   ]
  },
  {
   "cell_type": "code",
   "execution_count": null,
   "id": "66f34e58-842b-440c-8c1b-a57b2c58d08c",
   "metadata": {},
   "outputs": [],
   "source": [
    "import pandas as pd"
   ]
  },
  {
   "cell_type": "code",
   "execution_count": null,
   "id": "6cf62668-d259-4eab-8f85-2e043af8b88e",
   "metadata": {},
   "outputs": [],
   "source": [
    "import matplotlib.pyplot as plt"
   ]
  },
  {
   "cell_type": "code",
   "execution_count": null,
   "id": "15785328-80da-4213-be2c-76dbc4971d03",
   "metadata": {},
   "outputs": [],
   "source": [
    "climate = pd.read_csv('climate.csv')\n",
    "print(climate)"
   ]
  },
  {
   "cell_type": "code",
   "execution_count": null,
   "id": "372944dd-a290-4d84-a50c-c2ae61fe35cc",
   "metadata": {},
   "outputs": [],
   "source": [
    "climate[climate['Temperature (Celsius)'] > 22]"
   ]
  },
  {
   "cell_type": "code",
   "execution_count": null,
   "id": "7e137557-db33-4b4c-9d81-cee4e1163dc2",
   "metadata": {},
   "outputs": [],
   "source": [
    "new_filter = (climate['Temperature (Celsius)'] == 18.9) | (climate['Temperature (Celsius)'] == 20.1)\n",
    "climate[new_filter]"
   ]
  },
  {
   "cell_type": "code",
   "execution_count": null,
   "id": "9e6cb6a7-ec0b-4df9-95c7-e099ea4b462c",
   "metadata": {},
   "outputs": [],
   "source": [
    "new_filter = climate['Temperature (Celsius)'].isin([18.9,20.1])\n",
    "climate[new_filter]"
   ]
  },
  {
   "cell_type": "code",
   "execution_count": null,
   "id": "5a2206e4-ed40-4688-ad95-a00626f377e3",
   "metadata": {},
   "outputs": [],
   "source": [
    "climate.loc[climate['Temperature (Celsius)'] > 18.9, 'Temperature (Celsius)'] = 20\n",
    "climate"
   ]
  },
  {
   "cell_type": "markdown",
   "id": "79e91262-55e5-485f-8416-968d9d740f44",
   "metadata": {},
   "source": [
    "Exercise 1: substitute the humidity values above 60 with 65 in the 'Humidity (%)' column of the 'climate' DataFrame"
   ]
  },
  {
   "cell_type": "code",
   "execution_count": null,
   "id": "9f2833d5-678f-4307-8515-12bd50a852f1",
   "metadata": {},
   "outputs": [],
   "source": [
    "currency = pd.read_csv('currency.csv')\n",
    "print(currency)"
   ]
  },
  {
   "cell_type": "code",
   "execution_count": null,
   "id": "55e3009a-8ec7-4913-bb1e-adf431f3ff32",
   "metadata": {},
   "outputs": [],
   "source": [
    "currency2 = currency"
   ]
  },
  {
   "cell_type": "code",
   "execution_count": null,
   "id": "b2803e18-beb7-455c-b0c7-8e31a29f7318",
   "metadata": {},
   "outputs": [],
   "source": [
    "currency2.iloc[1, 1] = 50\n",
    "currency2"
   ]
  },
  {
   "cell_type": "code",
   "execution_count": null,
   "id": "7ca333ea-eeb8-4ece-b063-0888e3d39a65",
   "metadata": {},
   "outputs": [],
   "source": [
    "currency"
   ]
  },
  {
   "cell_type": "code",
   "execution_count": null,
   "id": "26d0cbde-e994-4801-9e57-dcf221f5c9e9",
   "metadata": {},
   "outputs": [],
   "source": [
    "currency = pd.read_csv('currency.csv')\n",
    "print(currency)"
   ]
  },
  {
   "cell_type": "code",
   "execution_count": null,
   "id": "852550d9-1452-4461-b758-6523b7839a52",
   "metadata": {},
   "outputs": [],
   "source": [
    "currency2 = currency.copy()"
   ]
  },
  {
   "cell_type": "code",
   "execution_count": null,
   "id": "c5fc031a-0069-4caa-a329-5344e2304150",
   "metadata": {},
   "outputs": [],
   "source": [
    "currency2.iloc[1, 1] = 50\n",
    "currency2"
   ]
  },
  {
   "cell_type": "code",
   "execution_count": null,
   "id": "f346ff36-0dce-417f-b2bf-cd255e56f05d",
   "metadata": {},
   "outputs": [],
   "source": [
    "currency"
   ]
  },
  {
   "cell_type": "markdown",
   "id": "b64e4fd6-abf5-47cb-ba1a-7536581ff0f0",
   "metadata": {},
   "source": [
    "Exercise 2: read in the climate.csv file again, make a copy of the table, substitude the wind speeds equall to 13 and 8 with 10 (with both conditional and isin methods) and creat a plot of wind speed with respect to the countries name, include title, labels and legend in your figure"
   ]
  },
  {
   "cell_type": "code",
   "execution_count": null,
   "id": "64476534-caf4-4401-94b3-fa2672e03b01",
   "metadata": {},
   "outputs": [],
   "source": [
    "currency2.to_csv('currency2.csv', index=False)"
   ]
  },
  {
   "cell_type": "markdown",
   "id": "b5d72543-cf7c-4e11-8e62-5dec442b2c6b",
   "metadata": {},
   "source": [
    "Exercise 3: Make a copy of the currency file in which the value in the 2nd row and 3rd column has been substituted, and save this new file."
   ]
  },
  {
   "cell_type": "code",
   "execution_count": null,
   "id": "3394feca-03c8-4a50-965a-993d1a0d81be",
   "metadata": {},
   "outputs": [],
   "source": [
    "###spatial data"
   ]
  },
  {
   "cell_type": "code",
   "execution_count": null,
   "id": "0eed1a5b-5918-45d0-bb39-74269bb9ece4",
   "metadata": {},
   "outputs": [],
   "source": [
    "import shapely.geometry"
   ]
  },
  {
   "cell_type": "code",
   "execution_count": null,
   "id": "0cb46185-15a3-4ca6-bca4-70b381175157",
   "metadata": {},
   "outputs": [],
   "source": [
    "import shapely.wkt"
   ]
  },
  {
   "cell_type": "code",
   "execution_count": null,
   "id": "beef66fe-b183-432a-ab98-d8f81ebd275c",
   "metadata": {},
   "outputs": [],
   "source": [
    "point = shapely.wkt.loads('POINT (0 -1)')\n",
    "point"
   ]
  },
  {
   "cell_type": "code",
   "execution_count": null,
   "id": "e3ddc7a5-a73e-463b-9d9d-20c800ccf026",
   "metadata": {},
   "outputs": [],
   "source": [
    "line = shapely.wkt.loads('LINESTRING (0 0, 0 -1, 7 8)')\n",
    "line"
   ]
  },
  {
   "cell_type": "code",
   "execution_count": null,
   "id": "8d91cd9d-2c1b-4ba8-9159-f077971f5f4c",
   "metadata": {},
   "outputs": [],
   "source": [
    "pol= shapely.wkt.loads('POLYGON ((0 0, 0 -2, 10 -2, 10 0, 0 0))')\n",
    "pol"
   ]
  },
  {
   "cell_type": "code",
   "execution_count": null,
   "id": "64f0cb8f-3412-44da-ad34-771cc52a91d4",
   "metadata": {},
   "outputs": [],
   "source": [
    "multipoint = shapely.wkt.loads('MULTIPOINT ((0 0), (1 1), (2 2))')\n",
    "multipoint"
   ]
  },
  {
   "cell_type": "code",
   "execution_count": null,
   "id": "1b735b54-5171-478f-8352-db281d5b4081",
   "metadata": {},
   "outputs": [],
   "source": [
    "multilinestring = shapely.wkt.loads('MULTILINESTRING ((0 0, 1 1), (2 2, 3 3))')\n",
    "multilinestring"
   ]
  },
  {
   "cell_type": "code",
   "execution_count": null,
   "id": "a91a6989-7c9f-4887-8b76-4d519caeb6d5",
   "metadata": {},
   "outputs": [],
   "source": [
    "multipolygon = shapely.wkt.loads('MULTIPOLYGON (((0 0, 0 1, 1 1, 1 0, 0 0)), ((2 2, 2 3, 3 3, 3 2, 2 2)))')\n",
    "multipolygon"
   ]
  },
  {
   "cell_type": "code",
   "execution_count": null,
   "id": "86fc4db2-6ecc-4a89-8bf1-5c6836c691b6",
   "metadata": {},
   "outputs": [],
   "source": [
    "collection = shapely.wkt.loads('GEOMETRYCOLLECTION (POINT (1 2), LINESTRING (1 2, 3 4))')\n",
    "collection"
   ]
  },
  {
   "cell_type": "markdown",
   "id": "6307cc48-3bd1-485b-a388-c03f1958e16a",
   "metadata": {},
   "source": [
    "Exercise 4: Create a GeometryCollection with a MultiPoint, a MultiLineString, and a MultiPolygon using shapely.wkt.loads"
   ]
  },
  {
   "cell_type": "code",
   "execution_count": null,
   "id": "9d7c9a73-9ae8-44b4-b352-18d256f58c54",
   "metadata": {},
   "outputs": [],
   "source": [
    "##"
   ]
  },
  {
   "cell_type": "code",
   "execution_count": null,
   "id": "b5efa6a6-182c-4775-9bc7-413344dd85a4",
   "metadata": {},
   "outputs": [],
   "source": [
    "point2 = shapely.geometry.Point((1,4))\n",
    "point2"
   ]
  },
  {
   "cell_type": "code",
   "execution_count": null,
   "id": "ee179ec8-a171-46b4-b0e3-e1b2fd744537",
   "metadata": {},
   "outputs": [],
   "source": [
    "geometric = [(1,2), (-3,5)]\n",
    "line2 = shapely.geometry.LineString(geometric)\n",
    "line2"
   ]
  },
  {
   "cell_type": "markdown",
   "id": "d7aaced9-1f36-49b1-8ad2-ad3624c228b2",
   "metadata": {},
   "source": [
    "Exercise 5: create a MultiLineString using shapely.geometry.MultiLineString"
   ]
  },
  {
   "cell_type": "code",
   "execution_count": null,
   "id": "3d1d68c5-0777-47ee-8b0d-0e6a62ab02e9",
   "metadata": {},
   "outputs": [],
   "source": [
    "pol = shapely.wkt.loads('POLYGON ((0 0, 0 -2, 10 -2, 10 0, 0 0))')\n",
    "coordinates = [(0, 0), (0, 1), (1, 1), (1, 0)]\n",
    "pol2 = shapely.geometry.Polygon(coordinates)\n",
    "shapely.geometry.MultiPolygon([pol,pol2])"
   ]
  },
  {
   "cell_type": "code",
   "execution_count": null,
   "id": "e8243bb7-6055-4edd-8211-bf710ea9fcc1",
   "metadata": {},
   "outputs": [],
   "source": [
    "line3 = {'type': 'LineString', 'coordinates': [(0, 0), (1, 4), (2, 6)]}\n",
    "line3 = shapely.geometry.shape(line3)\n",
    "line3"
   ]
  },
  {
   "cell_type": "raw",
   "id": "ea6f8dbe-1228-4893-bd3b-5aee6e7bb199",
   "metadata": {},
   "source": [
    "Exercise 6: create separate dictionaries for each geometry type (MultiPoint, MultiLineString, MultiPolygon), and then combine them into a GeometryCollection dictionary geom_collection = {'type': 'GeometryCollection', 'geometries':[point_geometry, line_geometry, poly_geometry]}"
   ]
  },
  {
   "cell_type": "code",
   "execution_count": null,
   "id": "ab7f0996-641b-456b-ba22-eedde75b233a",
   "metadata": {},
   "outputs": [],
   "source": [
    "point.geom_type"
   ]
  },
  {
   "cell_type": "code",
   "execution_count": null,
   "id": "6e80eadd-6479-4d49-b410-e1812efbb52d",
   "metadata": {},
   "outputs": [],
   "source": [
    "point.coords"
   ]
  },
  {
   "cell_type": "code",
   "execution_count": null,
   "id": "b950d2db-0e64-4c78-a9fb-9582965df588",
   "metadata": {},
   "outputs": [],
   "source": [
    "list(point.coords)"
   ]
  },
  {
   "cell_type": "markdown",
   "id": "85807860-0876-4f95-b831-2f06f31bb13f",
   "metadata": {},
   "source": [
    "Exercise 7: create a LineString using shapely.geometry.LineString and check for its type and coordinate"
   ]
  },
  {
   "cell_type": "code",
   "execution_count": null,
   "id": "0dabb01f-20c5-4a12-bcd3-d91aa7464571",
   "metadata": {},
   "outputs": [],
   "source": [
    "line1 = [(0, 0), (1, 1), (2, 2)]\n",
    "line2 = [(3, 3), (4, 4), (5, 5)]\n",
    "multi_line = shapely.geometry.MultiLineString([line1, line2])\n",
    "multi_line\n",
    "list(multi_line.geoms[0].coords)"
   ]
  },
  {
   "cell_type": "code",
   "execution_count": null,
   "id": "bd3d9a74-cfec-40fc-acfa-aff106622f8a",
   "metadata": {},
   "outputs": [],
   "source": [
    "list(multi_line.geoms[1].coords)"
   ]
  },
  {
   "cell_type": "code",
   "execution_count": null,
   "id": "8f13a79a-c222-4dd0-92bd-ea950f567e5c",
   "metadata": {},
   "outputs": [],
   "source": [
    "print(multi_line.geom_type)"
   ]
  },
  {
   "cell_type": "markdown",
   "id": "fc6f29ff-bd59-44bf-a73d-d767d60bbac1",
   "metadata": {},
   "source": [
    "Exercise 8:create a MultiLineString with 3 lines with dict method and check for its type and coordinate"
   ]
  },
  {
   "cell_type": "markdown",
   "id": "89664fbe-f4a1-4add-b8aa-62d7980c10f3",
   "metadata": {},
   "source": [
    "Reference: https://jupyter.org https://the-turing-way.netlify.app/communication/binder/zero-to-binder.html https://docs.python.org https://wsform.com/knowledgebase/sample-csv-files/ https://geobgu.xyz/py/"
   ]
  }
 ],
 "metadata": {
  "kernelspec": {
   "display_name": "Python 3 (ipykernel)",
   "language": "python",
   "name": "python3"
  },
  "language_info": {
   "codemirror_mode": {
    "name": "ipython",
    "version": 3
   },
   "file_extension": ".py",
   "mimetype": "text/x-python",
   "name": "python",
   "nbconvert_exporter": "python",
   "pygments_lexer": "ipython3",
   "version": "3.10.10"
  }
 },
 "nbformat": 4,
 "nbformat_minor": 5
}
