{
 "cells": [
  {
   "cell_type": "code",
   "execution_count": 1,
   "id": "89b8953a-5999-4d08-99c1-5ceabc6beaa5",
   "metadata": {},
   "outputs": [],
   "source": [
    "## Numeric int, float"
   ]
  },
  {
   "cell_type": "code",
   "execution_count": 2,
   "id": "1bd2d73a-1587-4d8f-8081-984f54ba585f",
   "metadata": {},
   "outputs": [
    {
     "data": {
      "text/plain": [
       "int"
      ]
     },
     "execution_count": 2,
     "metadata": {},
     "output_type": "execute_result"
    }
   ],
   "source": [
    "a=1\n",
    "type(a)\n"
   ]
  },
  {
   "cell_type": "code",
   "execution_count": 3,
   "id": "40217b2b-52e0-4268-a015-508358170f72",
   "metadata": {},
   "outputs": [
    {
     "data": {
      "text/plain": [
       "float"
      ]
     },
     "execution_count": 3,
     "metadata": {},
     "output_type": "execute_result"
    }
   ],
   "source": [
    "b= 2.8\n",
    "type(2.8)"
   ]
  },
  {
   "cell_type": "code",
   "execution_count": 4,
   "id": "5ab6540b-f166-41fb-914f-20ca7f3994d1",
   "metadata": {},
   "outputs": [],
   "source": [
    "## Sequence list, tuple"
   ]
  },
  {
   "cell_type": "code",
   "execution_count": 5,
   "id": "e54accb1-2896-4a2e-9af9-4b4594132ff0",
   "metadata": {},
   "outputs": [
    {
     "data": {
      "text/plain": [
       "list"
      ]
     },
     "execution_count": 5,
     "metadata": {},
     "output_type": "execute_result"
    }
   ],
   "source": [
    "type([4, 6, 7])"
   ]
  },
  {
   "cell_type": "code",
   "execution_count": 6,
   "id": "f6fa0790-3390-45c7-a49d-e5a10ae14a20",
   "metadata": {},
   "outputs": [
    {
     "data": {
      "text/plain": [
       "tuple"
      ]
     },
     "execution_count": 6,
     "metadata": {},
     "output_type": "execute_result"
    }
   ],
   "source": [
    "type((1, 5))"
   ]
  },
  {
   "cell_type": "code",
   "execution_count": 7,
   "id": "06b660a7-d97f-440f-ac44-856aa1cfcbc7",
   "metadata": {},
   "outputs": [],
   "source": [
    "## String str"
   ]
  },
  {
   "cell_type": "code",
   "execution_count": 8,
   "id": "7394fef0-3ed8-4192-8392-00a6308707ef",
   "metadata": {},
   "outputs": [
    {
     "data": {
      "text/plain": [
       "str"
      ]
     },
     "execution_count": 8,
     "metadata": {},
     "output_type": "execute_result"
    }
   ],
   "source": [
    "type(\"I like Math!\")\n"
   ]
  },
  {
   "cell_type": "code",
   "execution_count": 9,
   "id": "9921f14b-ce0e-4248-8828-9cdc4eff0a87",
   "metadata": {},
   "outputs": [],
   "source": [
    "## Mapping dict"
   ]
  },
  {
   "cell_type": "code",
   "execution_count": 10,
   "id": "789031b7-966f-4ced-ab7d-dfc7ff6ee904",
   "metadata": {},
   "outputs": [
    {
     "data": {
      "text/plain": [
       "dict"
      ]
     },
     "execution_count": 10,
     "metadata": {},
     "output_type": "execute_result"
    }
   ],
   "source": [
    "type({\"number of student\": 8, \"p\": 5})"
   ]
  },
  {
   "cell_type": "code",
   "execution_count": 11,
   "id": "e8701ad8-725d-4dfa-9dbe-a9057901f677",
   "metadata": {},
   "outputs": [],
   "source": [
    "##set"
   ]
  },
  {
   "cell_type": "code",
   "execution_count": 12,
   "id": "44f2f005-43e8-4bbd-8792-e24bd415bd9f",
   "metadata": {},
   "outputs": [
    {
     "data": {
      "text/plain": [
       "set"
      ]
     },
     "execution_count": 12,
     "metadata": {},
     "output_type": "execute_result"
    }
   ],
   "source": [
    "type({\"number of student\", \"p\"})"
   ]
  },
  {
   "cell_type": "code",
   "execution_count": 13,
   "id": "c250f478-552a-43b9-ba1d-c569e0bb34a2",
   "metadata": {},
   "outputs": [],
   "source": [
    "##Boolean "
   ]
  },
  {
   "cell_type": "code",
   "execution_count": 14,
   "id": "0f831c4f-e482-49fa-9668-dc88250adffd",
   "metadata": {},
   "outputs": [
    {
     "data": {
      "text/plain": [
       "False"
      ]
     },
     "execution_count": 14,
     "metadata": {},
     "output_type": "execute_result"
    }
   ],
   "source": [
    "1 == 2"
   ]
  },
  {
   "cell_type": "code",
   "execution_count": 15,
   "id": "b61e33a7-8d1f-40d8-aa5b-296ea7678040",
   "metadata": {},
   "outputs": [],
   "source": [
    "c=(\"I like Math!\")"
   ]
  },
  {
   "cell_type": "code",
   "execution_count": 16,
   "id": "17e1ecf4-8f1a-40f9-bfd4-b5eae6809f2d",
   "metadata": {},
   "outputs": [
    {
     "name": "stdout",
     "output_type": "stream",
     "text": [
      "l\n"
     ]
    }
   ],
   "source": [
    "print(c[2])"
   ]
  },
  {
   "cell_type": "markdown",
   "id": "b2921c16-dc49-49e0-89b2-b14032e32b97",
   "metadata": {},
   "source": [
    "Excercise1: Assign a list to a variable and check the type and print an element using index!"
   ]
  },
  {
   "cell_type": "code",
   "execution_count": 17,
   "id": "1a13dca0-4b73-43b3-a46c-6f2f3196f29f",
   "metadata": {},
   "outputs": [
    {
     "data": {
      "text/plain": [
       "list"
      ]
     },
     "execution_count": 17,
     "metadata": {},
     "output_type": "execute_result"
    }
   ],
   "source": [
    "b=[4,5,8]\n",
    "type(b)"
   ]
  },
  {
   "cell_type": "code",
   "execution_count": 18,
   "id": "0063e24b-50db-40c6-b20f-e2b062264b47",
   "metadata": {},
   "outputs": [
    {
     "name": "stdout",
     "output_type": "stream",
     "text": [
      "8\n"
     ]
    }
   ],
   "source": [
    "print(b[2])"
   ]
  },
  {
   "cell_type": "markdown",
   "id": "f132b7d1-e052-493f-8e3a-eeeecdb13314",
   "metadata": {},
   "source": [
    "Excercise2: Assign a flot to a variable and use the print() function to print out the following sentence \"the type of 2.8 is <class 'float'>\""
   ]
  },
  {
   "cell_type": "code",
   "execution_count": 19,
   "id": "aee7eac3-6c4f-4fef-969e-34fe270534ed",
   "metadata": {},
   "outputs": [
    {
     "name": "stdout",
     "output_type": "stream",
     "text": [
      "the type of 2.8 is <class 'float'>\n"
     ]
    }
   ],
   "source": [
    "b= 2.8\n",
    "print (\"the type of\", b ,\"is\", type(b))"
   ]
  },
  {
   "cell_type": "code",
   "execution_count": 20,
   "id": "7294830a-1c11-4e6a-ae7c-b8c106fb7ad1",
   "metadata": {},
   "outputs": [],
   "source": [
    "##Arithmetic operators"
   ]
  },
  {
   "cell_type": "code",
   "execution_count": 21,
   "id": "42f15d23-7e28-44d1-8c64-84cf6ac64648",
   "metadata": {},
   "outputs": [
    {
     "data": {
      "text/plain": [
       "21"
      ]
     },
     "execution_count": 21,
     "metadata": {},
     "output_type": "execute_result"
    }
   ],
   "source": [
    "1+5*4"
   ]
  },
  {
   "cell_type": "code",
   "execution_count": 22,
   "id": "981be74a-52fd-4299-b692-5fc2b549c6c9",
   "metadata": {},
   "outputs": [
    {
     "data": {
      "text/plain": [
       "24"
      ]
     },
     "execution_count": 22,
     "metadata": {},
     "output_type": "execute_result"
    }
   ],
   "source": [
    "(1+5)*4"
   ]
  },
  {
   "cell_type": "code",
   "execution_count": 23,
   "id": "a43b2f32-5bd3-4e00-afad-0149f0816b70",
   "metadata": {},
   "outputs": [
    {
     "data": {
      "text/plain": [
       "0"
      ]
     },
     "execution_count": 23,
     "metadata": {},
     "output_type": "execute_result"
    }
   ],
   "source": [
    "30%10"
   ]
  },
  {
   "cell_type": "code",
   "execution_count": 24,
   "id": "7c7d994c-7954-4c08-80ef-0e5001190c66",
   "metadata": {},
   "outputs": [
    {
     "data": {
      "text/plain": [
       "7"
      ]
     },
     "execution_count": 24,
     "metadata": {},
     "output_type": "execute_result"
    }
   ],
   "source": [
    "15//2"
   ]
  },
  {
   "cell_type": "code",
   "execution_count": 25,
   "id": "670b63ad-d072-49ef-8067-6644f4991fa9",
   "metadata": {},
   "outputs": [
    {
     "data": {
      "text/plain": [
       "64"
      ]
     },
     "execution_count": 25,
     "metadata": {},
     "output_type": "execute_result"
    }
   ],
   "source": [
    "4**3"
   ]
  },
  {
   "cell_type": "code",
   "execution_count": 26,
   "id": "7a7dedc8-d9ba-46e2-ade3-b1578ee92755",
   "metadata": {},
   "outputs": [],
   "source": [
    "##Conditional Statements "
   ]
  },
  {
   "cell_type": "code",
   "execution_count": 27,
   "id": "0d49bc0e-c584-47b9-b8a9-677fdac88997",
   "metadata": {},
   "outputs": [
    {
     "name": "stdout",
     "output_type": "stream",
     "text": [
      "you pass the test\n"
     ]
    }
   ],
   "source": [
    "grade=60\n",
    "\n",
    "if grade>50:\n",
    "    print(\"you pass the test\")"
   ]
  },
  {
   "cell_type": "code",
   "execution_count": 28,
   "id": "3e66e31f-1a7d-48e2-a85e-61a3122f9621",
   "metadata": {},
   "outputs": [
    {
     "name": "stdout",
     "output_type": "stream",
     "text": [
      "you are a loser\n"
     ]
    }
   ],
   "source": [
    "a=34\n",
    "if a<20:\n",
    "    print(\"you are a winner\")\n",
    "else:\n",
    "    print(\"you are a loser\")"
   ]
  },
  {
   "cell_type": "code",
   "execution_count": 29,
   "id": "8041bf2e-c893-4e0b-baa1-322312d0f3d7",
   "metadata": {},
   "outputs": [
    {
     "ename": "IndentationError",
     "evalue": "expected an indented block after 'if' statement on line 3 (1729346631.py, line 4)",
     "output_type": "error",
     "traceback": [
      "\u001b[0;36m  Cell \u001b[0;32mIn[29], line 4\u001b[0;36m\u001b[0m\n\u001b[0;31m    print(\"you pass the test\")\u001b[0m\n\u001b[0m    ^\u001b[0m\n\u001b[0;31mIndentationError\u001b[0m\u001b[0;31m:\u001b[0m expected an indented block after 'if' statement on line 3\n"
     ]
    }
   ],
   "source": [
    "grade=60\n",
    "\n",
    "if grade>50:\n",
    "print(\"you pass the test\")"
   ]
  },
  {
   "cell_type": "markdown",
   "id": "896486cb-c705-4bc3-9cde-fbfbb79d35b8",
   "metadata": {},
   "source": [
    "Excercise3: Given two numbers a and b, write a Python code to check if a is divisible by b."
   ]
  },
  {
   "cell_type": "code",
   "execution_count": 30,
   "id": "d4b1033f-9f09-492b-b00c-2a3689efd584",
   "metadata": {},
   "outputs": [
    {
     "name": "stdout",
     "output_type": "stream",
     "text": [
      "x is divisible by y\n"
     ]
    }
   ],
   "source": [
    "a=10\n",
    "b=5\n",
    "if (a % b == 0): \n",
    "    print(\"x is divisible by y\") \n",
    "else: \n",
    "    print(\"x is not divisible by y\")"
   ]
  },
  {
   "cell_type": "code",
   "execution_count": 31,
   "id": "9ea32908-d8db-4aad-ac42-5a869c4f782e",
   "metadata": {},
   "outputs": [],
   "source": [
    "## for and while loop"
   ]
  },
  {
   "cell_type": "code",
   "execution_count": 32,
   "id": "a2d15eb1-efa0-4923-911d-bea1d523fa14",
   "metadata": {},
   "outputs": [
    {
     "name": "stdout",
     "output_type": "stream",
     "text": [
      "dog\n",
      "cat\n",
      "bird\n"
     ]
    }
   ],
   "source": [
    "animals = [\"dog\", \"cat\", \"bird\"]\n",
    "for x in animals:\n",
    "    print(x)"
   ]
  },
  {
   "cell_type": "code",
   "execution_count": 33,
   "id": "a6017a98-4642-4451-af66-c6f0f0cc2428",
   "metadata": {},
   "outputs": [
    {
     "name": "stdout",
     "output_type": "stream",
     "text": [
      "dog\n",
      "cat\n"
     ]
    }
   ],
   "source": [
    "animals = [\"dog\", \"cat\", \"bird\"]\n",
    "for x in animals:\n",
    "    print(x)\n",
    "    if x == \"cat\":\n",
    "        break"
   ]
  },
  {
   "cell_type": "code",
   "execution_count": 34,
   "id": "42f6bc46-ee43-43b0-a95e-6f162f732dd3",
   "metadata": {},
   "outputs": [
    {
     "name": "stdout",
     "output_type": "stream",
     "text": [
      "10\n",
      "11\n",
      "12\n",
      "13\n",
      "14\n",
      "15\n",
      "16\n",
      "17\n",
      "18\n",
      "19\n"
     ]
    }
   ],
   "source": [
    "x = range(10, 20)\n",
    "for n in x:\n",
    "    print(n)"
   ]
  },
  {
   "cell_type": "code",
   "execution_count": 35,
   "id": "6ff9c5a6-20c1-425b-abc1-9d7c47361b50",
   "metadata": {},
   "outputs": [
    {
     "name": "stdout",
     "output_type": "stream",
     "text": [
      "10\n",
      "12\n",
      "14\n",
      "16\n",
      "18\n"
     ]
    }
   ],
   "source": [
    "x = range(10, 20,2)\n",
    "for n in x:\n",
    "    print(n)"
   ]
  },
  {
   "cell_type": "markdown",
   "id": "5d278177-ca44-431a-80f1-bb7347a4a4f5",
   "metadata": {},
   "source": [
    "Exercise4: What numbers between 2 and 30 are even and odd?"
   ]
  },
  {
   "cell_type": "code",
   "execution_count": 36,
   "id": "de001df9-4dad-42bd-a8cb-9173bbf36f31",
   "metadata": {},
   "outputs": [
    {
     "name": "stdout",
     "output_type": "stream",
     "text": [
      "2 is a Even Number\n",
      "3 is a Odd Number\n",
      "4 is a Even Number\n",
      "5 is a Odd Number\n",
      "6 is a Even Number\n",
      "7 is a Odd Number\n",
      "8 is a Even Number\n",
      "9 is a Odd Number\n",
      "10 is a Even Number\n",
      "11 is a Odd Number\n",
      "12 is a Even Number\n",
      "13 is a Odd Number\n",
      "14 is a Even Number\n",
      "15 is a Odd Number\n",
      "16 is a Even Number\n",
      "17 is a Odd Number\n",
      "18 is a Even Number\n",
      "19 is a Odd Number\n",
      "20 is a Even Number\n",
      "21 is a Odd Number\n",
      "22 is a Even Number\n",
      "23 is a Odd Number\n",
      "24 is a Even Number\n",
      "25 is a Odd Number\n",
      "26 is a Even Number\n",
      "27 is a Odd Number\n",
      "28 is a Even Number\n",
      "29 is a Odd Number\n"
     ]
    }
   ],
   "source": [
    "for x in range(2, 30):  \n",
    "    if x % 2 == 0: \n",
    "        print(x, \"is a Even Number\")\n",
    "    else: \n",
    "        print(x, \"is a Odd Number\")"
   ]
  },
  {
   "cell_type": "code",
   "execution_count": 37,
   "id": "86e9b333-36b1-4a00-8871-6fc61ee92559",
   "metadata": {},
   "outputs": [
    {
     "name": "stdout",
     "output_type": "stream",
     "text": [
      "1\n",
      "2\n",
      "3\n",
      "4\n",
      "5\n",
      "6\n",
      "7\n",
      "8\n",
      "9\n",
      "10\n"
     ]
    }
   ],
   "source": [
    "i = 1\n",
    "while i < 11:\n",
    "    print(i)\n",
    "    i += 1"
   ]
  },
  {
   "cell_type": "markdown",
   "id": "43eab075-cc38-4c90-a0a0-0fbdbd7185d9",
   "metadata": {},
   "source": [
    "Exercise5:print out the numbers from 100 to 0 in steps of 10, using while loop"
   ]
  },
  {
   "cell_type": "code",
   "execution_count": null,
   "id": "b97a9b62-7592-45a8-bbd9-8988bc55a0a1",
   "metadata": {},
   "outputs": [],
   "source": [
    "i = 100\n",
    "while i >= 0:\n",
    "    print(i)\n",
    "    i -= 10\n"
   ]
  },
  {
   "cell_type": "code",
   "execution_count": null,
   "id": "c1eb1421-5da2-47ef-b6b2-f1bf769d9e25",
   "metadata": {},
   "outputs": [],
   "source": [
    "## Def function"
   ]
  },
  {
   "cell_type": "code",
   "execution_count": null,
   "id": "0fff383a-9fd4-4ed5-b6d6-3fb0a0170f59",
   "metadata": {},
   "outputs": [],
   "source": [
    "def add_numbers(num1, num2):\n",
    "    sum = num1 + num2\n",
    "    return sum\n",
    "print(add_numbers(3, 5))"
   ]
  },
  {
   "cell_type": "markdown",
   "id": "597daf83-5afa-48ab-b6a9-ef0fec916105",
   "metadata": {},
   "source": [
    "Exercise6:What is the area of a rectangle with a length of 2 and a width of 4? (use def function)"
   ]
  },
  {
   "cell_type": "code",
   "execution_count": null,
   "id": "eaa3aa3b-314c-4d77-8392-b70c61071ade",
   "metadata": {},
   "outputs": [],
   "source": [
    "def area_of_rectangle(length, width):\n",
    "    area = length * width\n",
    "    return area\n",
    "print(area_of_rectangle(2, 4))"
   ]
  },
  {
   "cell_type": "code",
   "execution_count": null,
   "id": "7d53e2e7-04f4-4538-a840-116cd69847c3",
   "metadata": {},
   "outputs": [],
   "source": [
    "## Python Arrays"
   ]
  },
  {
   "cell_type": "code",
   "execution_count": null,
   "id": "afe0a4a3-74a9-40ce-86f6-a1be859bbcb2",
   "metadata": {},
   "outputs": [],
   "source": [
    "array_ex = [1, 2, 3, 4, 5]\n",
    "print(array_ex)"
   ]
  },
  {
   "cell_type": "code",
   "execution_count": null,
   "id": "168b58fd-2d6f-4b5a-9d7f-178c9c5fdec2",
   "metadata": {},
   "outputs": [],
   "source": [
    "x = array_ex[0]\n",
    "print(x)"
   ]
  },
  {
   "cell_type": "code",
   "execution_count": null,
   "id": "9f500cee-5911-4a17-9b6f-357fc6508a67",
   "metadata": {},
   "outputs": [],
   "source": [
    "x = len(array_ex)\n",
    "print(x)"
   ]
  },
  {
   "cell_type": "code",
   "execution_count": null,
   "id": "556a9b3b-34c5-4ae1-8349-e31a706cfc46",
   "metadata": {},
   "outputs": [],
   "source": [
    "array_ex.append(5)\n",
    "print(array_ex)"
   ]
  },
  {
   "cell_type": "code",
   "execution_count": null,
   "id": "3c24cff2-62f8-4c25-9881-7fd3d4ff7562",
   "metadata": {},
   "outputs": [],
   "source": [
    "array_ex.pop(1)\n",
    "print(array_ex)"
   ]
  },
  {
   "cell_type": "markdown",
   "id": "66344fcc-cb07-4c54-91a8-e1466b8e7f61",
   "metadata": {},
   "source": [
    "Exercise7:Write a Python program to find the largest number in a given array of numbers"
   ]
  },
  {
   "cell_type": "code",
   "execution_count": null,
   "id": "3145ed03-a0c7-407b-9741-1291170291e2",
   "metadata": {},
   "outputs": [],
   "source": [
    "arr = [2, 4, 6, 8]\n",
    "max_num = arr[0]\n",
    "\n",
    "for num in arr:\n",
    "    if num > max_num:\n",
    "        max_num = num\n",
    "    \n",
    "print(max_num)"
   ]
  },
  {
   "cell_type": "code",
   "execution_count": null,
   "id": "53c81cb0-5dfb-4025-972f-9a654850c1a5",
   "metadata": {},
   "outputs": [],
   "source": [
    "import numpy as np"
   ]
  },
  {
   "cell_type": "code",
   "execution_count": null,
   "id": "b3ed92b1-bb66-40ed-970c-c2cc15859735",
   "metadata": {},
   "outputs": [],
   "source": [
    "x = np.array([5, 4, -7, 11])\n",
    "print(x)"
   ]
  },
  {
   "cell_type": "code",
   "execution_count": null,
   "id": "5be4c366-2207-42dd-a4f3-56008ccbc6d7",
   "metadata": {},
   "outputs": [],
   "source": [
    "y = np.array([[4, 5, 0], [3, 7, 9], [2, 1, 2]])\n",
    "print(y)"
   ]
  },
  {
   "cell_type": "code",
   "execution_count": null,
   "id": "5602c53c-9830-4cb5-af17-e24016644d63",
   "metadata": {},
   "outputs": [],
   "source": [
    "z = np.array([[[1,2,3], [4,5,6], [7,8,9]], [[10,11,12], [13,14,15], [16,17,18]]])\n",
    "print(z)"
   ]
  },
  {
   "cell_type": "code",
   "execution_count": null,
   "id": "08f51457-3a87-4836-a47f-10680dfcfbed",
   "metadata": {},
   "outputs": [],
   "source": [
    "b = np.arange(10).reshape(2, 5) \n",
    "print(b)"
   ]
  },
  {
   "cell_type": "code",
   "execution_count": null,
   "id": "e02cd2f9-8e1a-43f5-9bdb-0cf9516cd664",
   "metadata": {},
   "outputs": [],
   "source": [
    "type(b)"
   ]
  },
  {
   "cell_type": "code",
   "execution_count": null,
   "id": "db1688ff-3663-4596-b607-2814cca71717",
   "metadata": {},
   "outputs": [],
   "source": [
    "b.ndim"
   ]
  },
  {
   "cell_type": "code",
   "execution_count": null,
   "id": "96e1c625-60bc-4282-8741-f10ba7f301d4",
   "metadata": {},
   "outputs": [],
   "source": [
    "b.size"
   ]
  },
  {
   "cell_type": "code",
   "execution_count": null,
   "id": "36c5a31f-5a42-435a-bf93-41f664b8837d",
   "metadata": {},
   "outputs": [],
   "source": [
    "b.dtype"
   ]
  },
  {
   "cell_type": "code",
   "execution_count": null,
   "id": "25258bc6-3f8b-4cb0-bcf9-e9610e52c85f",
   "metadata": {},
   "outputs": [],
   "source": [
    "b = b.astype(np.float64)\n",
    "print(b)"
   ]
  },
  {
   "cell_type": "markdown",
   "id": "45a2e902-0608-44d4-8fee-0a3f8421e975",
   "metadata": {},
   "source": [
    "Exercise8:Create a 3-dimensional array using np.arange() and reshape"
   ]
  },
  {
   "cell_type": "code",
   "execution_count": null,
   "id": "6ffaa3f0-6341-45e2-953f-22f2993b3437",
   "metadata": {},
   "outputs": [],
   "source": [
    "c = np.arange(1, 25).reshape((4, 3, 2))\n",
    "print(c)"
   ]
  },
  {
   "cell_type": "markdown",
   "id": "f2afd17f-f539-4501-a3e4-547fd8f72624",
   "metadata": {},
   "source": [
    "Exercise9:Create an array of dictionaries and print it"
   ]
  },
  {
   "cell_type": "code",
   "execution_count": null,
   "id": "2b17db58-9add-4a6d-96fb-f38afad6711c",
   "metadata": {},
   "outputs": [],
   "source": [
    "x= np.array([{'c': 3}, {'d': 4}])\n",
    "print(x)"
   ]
  },
  {
   "cell_type": "code",
   "execution_count": null,
   "id": "f35cb35f-4b9b-4c0d-9238-9f370b174ba5",
   "metadata": {},
   "outputs": [],
   "source": [
    "z = np.array([[[1,2,3], [4,5,6], [7,8,9]], [[10,11,12], [13,14,15], [16,17,18]]])\n",
    "print(z)"
   ]
  },
  {
   "cell_type": "markdown",
   "id": "fad28367-9e5a-4568-9183-96025a4440fb",
   "metadata": {},
   "source": [
    "Exercise10:Extract the value 15 from the z array above by indexing"
   ]
  },
  {
   "cell_type": "code",
   "execution_count": null,
   "id": "b186c57a-1434-4997-a22d-8be01323ec15",
   "metadata": {},
   "outputs": [],
   "source": [
    "z[1, 1, 2]"
   ]
  },
  {
   "cell_type": "code",
   "execution_count": null,
   "id": "f3faa3cd-a5dc-47c1-b490-35c573c51429",
   "metadata": {},
   "outputs": [],
   "source": [
    "##array slice"
   ]
  },
  {
   "cell_type": "code",
   "execution_count": null,
   "id": "a08d6834-04e1-4ec7-8d31-7057748bd949",
   "metadata": {},
   "outputs": [],
   "source": [
    "z[1, 2, :]"
   ]
  },
  {
   "cell_type": "code",
   "execution_count": null,
   "id": "cbd6c659-0b6d-4922-8997-5b1cc18c1819",
   "metadata": {},
   "outputs": [],
   "source": [
    "y[:2, :]"
   ]
  },
  {
   "cell_type": "code",
   "execution_count": null,
   "id": "cd5bb177-98cd-45dc-b7e7-e6320ac48a6e",
   "metadata": {},
   "outputs": [],
   "source": [
    "y[1:, :]"
   ]
  },
  {
   "cell_type": "markdown",
   "id": "fcf04fb7-2115-4b7e-ada3-11b39e5f9eaa",
   "metadata": {},
   "source": [
    "Exercise11:Extract the first and 2rd rows and all columns from the z array above by indexing"
   ]
  },
  {
   "cell_type": "code",
   "execution_count": null,
   "id": "78f83b60-a137-40d4-925a-8bd73f809b41",
   "metadata": {},
   "outputs": [],
   "source": [
    "z[1, 0:2, :]"
   ]
  }
 ],
 "metadata": {
  "kernelspec": {
   "display_name": "Python 3 (ipykernel)",
   "language": "python",
   "name": "python3"
  },
  "language_info": {
   "codemirror_mode": {
    "name": "ipython",
    "version": 3
   },
   "file_extension": ".py",
   "mimetype": "text/x-python",
   "name": "python",
   "nbconvert_exporter": "python",
   "pygments_lexer": "ipython3",
   "version": "3.10.9"
  }
 },
 "nbformat": 4,
 "nbformat_minor": 5
}
