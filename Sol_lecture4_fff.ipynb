{
 "cells": [
  {
   "cell_type": "code",
   "execution_count": null,
   "id": "fd179b16-cbbf-47fc-bfb4-064db3225e55",
   "metadata": {
    "tags": []
   },
   "outputs": [],
   "source": [
    "import numpy as np"
   ]
  },
  {
   "cell_type": "code",
   "execution_count": null,
   "id": "d46e9a20-b9b9-4b5f-9924-6df5983db88d",
   "metadata": {},
   "outputs": [],
   "source": [
    "x = np.array([5, 4, -7, 11])\n",
    "print(x)"
   ]
  },
  {
   "cell_type": "code",
   "execution_count": null,
   "id": "41dcf9a3-274b-4cdc-a954-eb10b9686bc2",
   "metadata": {},
   "outputs": [],
   "source": [
    "np.sum(x)"
   ]
  },
  {
   "cell_type": "code",
   "execution_count": null,
   "id": "498cf5ab-7853-4352-8a52-4335ffea7453",
   "metadata": {},
   "outputs": [],
   "source": [
    "y = np.array([[4, 5, 0], [3, 7, 9], [2, 1, 2]])\n",
    "print(y)"
   ]
  },
  {
   "cell_type": "code",
   "execution_count": null,
   "id": "341cc8e4-a7bc-44af-b455-187f5dcb68d2",
   "metadata": {},
   "outputs": [],
   "source": [
    "np.sum(y, axis=0)"
   ]
  },
  {
   "cell_type": "code",
   "execution_count": null,
   "id": "04445b0a-40a1-4a3e-8268-7a2c4b7618ff",
   "metadata": {},
   "outputs": [],
   "source": [
    "np.sum(y, axis=1)"
   ]
  },
  {
   "cell_type": "code",
   "execution_count": null,
   "id": "a67fee5a-570a-4828-b99c-0dea61b0d52f",
   "metadata": {},
   "outputs": [],
   "source": [
    "z = np.array([[[1,2,3], [4,5,6], [7,8,9]], [[10,11,12], [13,14,15], [16,17,18]]])\n",
    "print(z)"
   ]
  },
  {
   "cell_type": "code",
   "execution_count": null,
   "id": "cdf61e4d-bfff-48e3-bad4-2c99051d2cfa",
   "metadata": {},
   "outputs": [],
   "source": [
    "##row-column\n",
    "np.sum(z, axis=0)"
   ]
  },
  {
   "cell_type": "code",
   "execution_count": null,
   "id": "83774387-2015-4881-a6c4-12896eba7567",
   "metadata": {},
   "outputs": [],
   "source": [
    "##column-layer\n",
    "np.sum(z, axis=1)"
   ]
  },
  {
   "cell_type": "code",
   "execution_count": null,
   "id": "03bee3d0-7029-4c61-88ca-aa30e4a9b08e",
   "metadata": {},
   "outputs": [],
   "source": [
    "##row-layer\n",
    "np.sum(z, axis=2)"
   ]
  },
  {
   "cell_type": "code",
   "execution_count": null,
   "id": "ce117f7b-0e9a-4f27-bbef-f3773c70eeb2",
   "metadata": {},
   "outputs": [],
   "source": [
    "f=np.sum(z, axis=2)\n",
    "np.transpose(f)"
   ]
  },
  {
   "cell_type": "markdown",
   "id": "df62c751-e2bf-47fe-8363-a4ab26e369c4",
   "metadata": {},
   "source": [
    "Exercise1: Calculate the mean of all column in each layer from array z."
   ]
  },
  {
   "cell_type": "code",
   "execution_count": null,
   "id": "948c7ba1-a2ad-425a-a3ca-f9ff602b4cbe",
   "metadata": {},
   "outputs": [],
   "source": [
    "np.mean(z,axis=1)"
   ]
  },
  {
   "cell_type": "code",
   "execution_count": null,
   "id": "c0a255aa-ac53-4c89-8513-8f7619c15125",
   "metadata": {},
   "outputs": [],
   "source": [
    "##reading the data from the file, saving the data to the file"
   ]
  },
  {
   "cell_type": "code",
   "execution_count": null,
   "id": "310de3a6-2034-43cb-af44-89adcd5fd47a",
   "metadata": {},
   "outputs": [],
   "source": [
    "b = np.genfromtxt('sample.txt', delimiter=';')\n",
    "print(b)                  "
   ]
  },
  {
   "cell_type": "code",
   "execution_count": null,
   "id": "20d9825b-9c69-4605-972c-8754449eda20",
   "metadata": {},
   "outputs": [],
   "source": [
    "b = np.genfromtxt('sample.txt', delimiter=';', skip_header=1)\n",
    "print(b)"
   ]
  },
  {
   "cell_type": "code",
   "execution_count": null,
   "id": "2b9cc9f4-961e-4377-918d-71dc21f58a05",
   "metadata": {},
   "outputs": [],
   "source": [
    "np.savetxt(\"y.txt\", y, delimiter=\",\", header=\"name,id,region\")"
   ]
  },
  {
   "cell_type": "markdown",
   "id": "b8c1473c-2538-475d-a6d3-98b4f1273912",
   "metadata": {},
   "source": [
    "Exercise2: Create a 2D array and use the np.savetxt() function to save the data array to a text file named \"mydata.txt\" with a comma delimiter and a header line Col1,Col2,Col3,Col4"
   ]
  },
  {
   "cell_type": "code",
   "execution_count": null,
   "id": "7794466a-75bd-4225-a80e-8858cc8e1cfe",
   "metadata": {},
   "outputs": [],
   "source": [
    "data = np.array([[1, 2, 3, 4],\n",
    "                 [5, 6, 7, 8],\n",
    "                 [9, 10, 11, 12]])\n",
    "\n",
    "np.savetxt(\"mydata.txt\", data, delimiter=\",\", header=\"Col1,Col2,Col3,Col4\", fmt=\"%.3e\")\n",
    "\n",
    "print(\"Data saved to mydata.txt file.\")"
   ]
  },
  {
   "cell_type": "code",
   "execution_count": null,
   "id": "3ddd8718-a1cf-4d02-8426-03b9f7119e2c",
   "metadata": {},
   "outputs": [],
   "source": [
    "## ploting an array"
   ]
  },
  {
   "cell_type": "code",
   "execution_count": null,
   "id": "da549ca5-c2f3-49c1-88a2-bc0aaf4644e9",
   "metadata": {},
   "outputs": [],
   "source": [
    "import matplotlib.pyplot as plt"
   ]
  },
  {
   "cell_type": "code",
   "execution_count": null,
   "id": "d88ca39a-be42-45f8-82c3-30120c15844c",
   "metadata": {},
   "outputs": [],
   "source": [
    "h = y.flatten()\n",
    "h"
   ]
  },
  {
   "cell_type": "code",
   "execution_count": null,
   "id": "985f715a-5895-4ca3-936d-1372bde4be2f",
   "metadata": {},
   "outputs": [],
   "source": [
    "plt.hist(h);\n"
   ]
  },
  {
   "cell_type": "code",
   "execution_count": null,
   "id": "fe5b6e05-aad7-4950-9f3b-b8aacecba63d",
   "metadata": {},
   "outputs": [],
   "source": [
    "plt.plot(y[1, :]);"
   ]
  },
  {
   "cell_type": "code",
   "execution_count": null,
   "id": "ebd9ec22-93a9-4207-9b6d-1796a2ceba0f",
   "metadata": {},
   "outputs": [],
   "source": [
    "plt.plot(y[:, 1]);"
   ]
  },
  {
   "cell_type": "code",
   "execution_count": null,
   "id": "8f80d4d1-3dec-4dca-925d-06b878ceea92",
   "metadata": {},
   "outputs": [],
   "source": [
    "plt.plot(y);"
   ]
  },
  {
   "cell_type": "code",
   "execution_count": null,
   "id": "c2155750-ec6a-4598-8e70-e5d11a3852b7",
   "metadata": {},
   "outputs": [],
   "source": [
    "plt.plot(y, color='red', label='red');"
   ]
  },
  {
   "cell_type": "code",
   "execution_count": null,
   "id": "25ac78a1-3c3a-4c61-97cc-16058d2fe5c6",
   "metadata": {},
   "outputs": [],
   "source": [
    "plt.plot(y[:, 0], color='red', label='red')\n",
    "plt.plot(y[:, 1], color='green', label='green')\n",
    "plt.plot(y[:, 2], color='blue', label='blue')\n",
    "plt.legend();"
   ]
  },
  {
   "cell_type": "code",
   "execution_count": null,
   "id": "9e336f81-9530-47d1-9e84-53d835d0e07f",
   "metadata": {},
   "outputs": [],
   "source": [
    "plt.imshow(y);\n",
    "plt.colorbar()"
   ]
  },
  {
   "cell_type": "code",
   "execution_count": null,
   "id": "ac961e9b-7b7c-4615-b609-7a31dd64ce13",
   "metadata": {},
   "outputs": [],
   "source": [
    "##practice with plotting on different arrays"
   ]
  },
  {
   "cell_type": "code",
   "execution_count": null,
   "id": "0ef3ab1c-6872-42f7-90f3-6e0c5f33f6c8",
   "metadata": {},
   "outputs": [],
   "source": [
    "data = np.array([1, 2, 3, 4, 5, 6, 7, 8, 9, 10])\n",
    "\n",
    "plt.hist(data, bins=[0,2,4,6,8,10])\n",
    "plt.title('My Histogram')\n",
    "plt.xlabel('Interval')\n",
    "plt.ylabel('Frequency')\n",
    "plt.show()\n"
   ]
  },
  {
   "cell_type": "markdown",
   "id": "23c3fa1b-9f3a-41c4-8308-14719664307a",
   "metadata": {},
   "source": [
    "Exercise3: Given an 2D array of numbers, plot a graph that displays the sum of each element in the column."
   ]
  },
  {
   "cell_type": "code",
   "execution_count": null,
   "id": "95466858-fe30-461d-84dd-371d37a3cbf2",
   "metadata": {},
   "outputs": [],
   "source": [
    "arr = [[1,2,3],\n",
    "       [4,5,6],\n",
    "       [7,8,9]]\n",
    "column_sums= np.sum(arr, axis=0)\n",
    "print(column_sums)\n",
    "plt.plot(column_sums)\n",
    "plt.title('Sum of elements in each column')\n",
    "plt.xlabel('column')\n",
    "plt.ylabel('Sum of elements')\n",
    "plt.show()"
   ]
  },
  {
   "cell_type": "code",
   "execution_count": null,
   "id": "981de3f5-afff-459e-b4a6-921cd3ac8b52",
   "metadata": {},
   "outputs": [],
   "source": [
    "## tables (pandas)"
   ]
  },
  {
   "cell_type": "code",
   "execution_count": null,
   "id": "54b117ca-57ad-4100-ac59-256bcf74b927",
   "metadata": {},
   "outputs": [],
   "source": [
    "import pandas as pd"
   ]
  },
  {
   "cell_type": "code",
   "execution_count": null,
   "id": "33ede03b-0193-46ac-923e-082bcd0a76f0",
   "metadata": {},
   "outputs": [],
   "source": [
    "g = pd.Series(['a', 'b', 'c'])\n",
    "print(g)"
   ]
  },
  {
   "cell_type": "code",
   "execution_count": null,
   "id": "848c8616-181f-43c5-a427-d005f3161899",
   "metadata": {},
   "outputs": [],
   "source": [
    "h= pd.Series(np.array([1,7,9]))\n",
    "print(h)"
   ]
  },
  {
   "cell_type": "code",
   "execution_count": null,
   "id": "6dc05d08-8303-4ca0-bd1d-db40ec9c69d5",
   "metadata": {},
   "outputs": [],
   "source": [
    "h.shape"
   ]
  },
  {
   "cell_type": "markdown",
   "id": "11346c2e-d159-42c6-8059-ae5845433b67",
   "metadata": {},
   "source": [
    "Exercise4: create a table from an array of numbers and check for the shape."
   ]
  },
  {
   "cell_type": "code",
   "execution_count": null,
   "id": "ec121b41-843e-40b9-a31a-e6707abb6bc1",
   "metadata": {},
   "outputs": [],
   "source": [
    "t= pd.Series(np.array([3,5,7,8]))\n",
    "print(t)"
   ]
  },
  {
   "cell_type": "code",
   "execution_count": null,
   "id": "897f55d0-e7e0-4067-8c8d-3dfbcfc3e63b",
   "metadata": {},
   "outputs": [],
   "source": [
    "t.shape"
   ]
  },
  {
   "cell_type": "code",
   "execution_count": null,
   "id": "f5216a85-f779-46ca-9bde-5f4e9e536127",
   "metadata": {},
   "outputs": [],
   "source": [
    "i= pd.Series([7, 8, 9])\n",
    "print(i)"
   ]
  },
  {
   "cell_type": "code",
   "execution_count": null,
   "id": "bd308e90-8909-430a-836b-9e23750658c7",
   "metadata": {},
   "outputs": [],
   "source": [
    "dataframe_dict = {'ID': g, 'value': h, 'condition': i}\n",
    "dataframe = pd.DataFrame(dataframe_dict)\n",
    "print(dataframe)"
   ]
  },
  {
   "cell_type": "code",
   "execution_count": null,
   "id": "3a891275-8cb3-4480-8090-f60bcd730b4a",
   "metadata": {},
   "outputs": [],
   "source": [
    "dataframe.index"
   ]
  },
  {
   "cell_type": "code",
   "execution_count": null,
   "id": "e57b42f8-8f06-408f-82d0-e9cf938ee15f",
   "metadata": {},
   "outputs": [],
   "source": [
    "dataframe.columns"
   ]
  },
  {
   "cell_type": "markdown",
   "id": "5def42d8-199f-4d72-a879-01206f637619",
   "metadata": {},
   "source": [
    "Exercise5:create a table (dataframe structure) from multiple series (including boolean and numiric) and check the shape."
   ]
  },
  {
   "cell_type": "code",
   "execution_count": null,
   "id": "0fb72724-79c9-4fd8-8041-dacfda18a585",
   "metadata": {},
   "outputs": [],
   "source": [
    "series1 = pd.Series([1, 2, 3])\n",
    "series2 = pd.Series([4, 5, 6])\n",
    "series3 = pd.Series([False, True, False])\n",
    "\n",
    "df_new = pd.DataFrame({'Val1': series1, 'Val2': series2, 'Val3': series3})\n",
    "\n",
    "print(df_new.shape)"
   ]
  },
  {
   "cell_type": "code",
   "execution_count": null,
   "id": "efbd8e20-181e-471f-8212-cf7ae6ebc670",
   "metadata": {},
   "outputs": [],
   "source": [
    "country = pd.read_csv('country_full.csv')\n",
    "print(country)"
   ]
  },
  {
   "cell_type": "code",
   "execution_count": null,
   "id": "dd885468-1bdd-4250-ae37-0ef1e0280d34",
   "metadata": {},
   "outputs": [],
   "source": [
    "country.columns"
   ]
  },
  {
   "cell_type": "code",
   "execution_count": null,
   "id": "8e532f4e-d752-47b5-971b-de05aebe4327",
   "metadata": {},
   "outputs": [],
   "source": [
    "country.index"
   ]
  },
  {
   "cell_type": "code",
   "execution_count": null,
   "id": "04da1fe4-5fcf-4809-a46a-13c443a89dd3",
   "metadata": {},
   "outputs": [],
   "source": [
    "country.shape"
   ]
  },
  {
   "cell_type": "code",
   "execution_count": null,
   "id": "17ebe34d-4817-4fb9-9cf9-0f81d6a3acec",
   "metadata": {},
   "outputs": [],
   "source": [
    "country.dtypes"
   ]
  },
  {
   "cell_type": "code",
   "execution_count": null,
   "id": "427030ed-ee1c-4564-abbb-e545b65a34c1",
   "metadata": {},
   "outputs": [],
   "source": [
    "country.rename(columns={'region': 'REGION'})"
   ]
  },
  {
   "cell_type": "markdown",
   "id": "2f53728d-6e67-465b-9519-f3cfc56de2f9",
   "metadata": {},
   "source": [
    "Exercise6:rename the row index of 2 with 3"
   ]
  },
  {
   "cell_type": "code",
   "execution_count": null,
   "id": "e326ffed-6435-4b72-a215-37aab32fe82c",
   "metadata": {},
   "outputs": [],
   "source": [
    "country.rename(index={2: 3})"
   ]
  },
  {
   "cell_type": "markdown",
   "id": "7fb0529a-b358-4218-b5a7-80b84ad6146a",
   "metadata": {},
   "source": [
    "Exercise7:Read the states_by_country_code.csv file, check its properties, and rename some row and column indexes"
   ]
  },
  {
   "cell_type": "code",
   "execution_count": null,
   "id": "aa268c11-cf3a-4d81-8e5f-d23fbd53cb57",
   "metadata": {},
   "outputs": [],
   "source": [
    "States = pd.read_csv('states_by_country_code.csv')\n",
    "print(States)"
   ]
  },
  {
   "cell_type": "code",
   "execution_count": null,
   "id": "c6543d2e-9598-4eff-94e7-d55aa7a3605a",
   "metadata": {},
   "outputs": [],
   "source": [
    "States.columns"
   ]
  },
  {
   "cell_type": "code",
   "execution_count": null,
   "id": "e4ebd6c7-c175-4703-8c96-240f911e5b03",
   "metadata": {},
   "outputs": [],
   "source": [
    "States.index"
   ]
  },
  {
   "cell_type": "code",
   "execution_count": null,
   "id": "94ae2e2e-2ee9-4d1e-81a0-c753626ee14f",
   "metadata": {},
   "outputs": [],
   "source": [
    "States.shape"
   ]
  },
  {
   "cell_type": "code",
   "execution_count": null,
   "id": "0f96a9d9-2b86-4270-920e-bb393d8bf54a",
   "metadata": {},
   "outputs": [],
   "source": [
    "States.dtypes"
   ]
  },
  {
   "cell_type": "code",
   "execution_count": null,
   "id": "9db26e7c-a880-416f-aa18-9cf243862618",
   "metadata": {},
   "outputs": [],
   "source": [
    "States.rename(columns={'State Code': 'SC'})"
   ]
  },
  {
   "cell_type": "code",
   "execution_count": null,
   "id": "12c0310c-1658-404d-bbd6-076409f742c9",
   "metadata": {},
   "outputs": [],
   "source": [
    "States.rename(index={4: 5})"
   ]
  },
  {
   "cell_type": "markdown",
   "id": "624eb8eb-4c40-4c74-b4e0-ec79a11ef4e1",
   "metadata": {},
   "source": [
    "Reference: https://jupyter.org https://the-turing-way.netlify.app/communication/binder/zero-to-binder.html https://docs.python.org https://wsform.com/knowledgebase/sample-csv-files/ https://geobgu.xyz/py/"
   ]
  }
 ],
 "metadata": {
  "kernelspec": {
   "display_name": "Python 3 (ipykernel)",
   "language": "python",
   "name": "python3"
  },
  "language_info": {
   "codemirror_mode": {
    "name": "ipython",
    "version": 3
   },
   "file_extension": ".py",
   "mimetype": "text/x-python",
   "name": "python",
   "nbconvert_exporter": "python",
   "pygments_lexer": "ipython3",
   "version": "3.10.10"
  }
 },
 "nbformat": 4,
 "nbformat_minor": 5
}
