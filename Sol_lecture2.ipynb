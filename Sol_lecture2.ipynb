{
 "cells": [
  {
   "cell_type": "code",
   "execution_count": null,
   "id": "89b8953a-5999-4d08-99c1-5ceabc6beaa5",
   "metadata": {},
   "outputs": [],
   "source": [
    "## Numeric int, float"
   ]
  },
  {
   "cell_type": "code",
   "execution_count": null,
   "id": "1bd2d73a-1587-4d8f-8081-984f54ba585f",
   "metadata": {},
   "outputs": [],
   "source": [
    "a=1\n",
    "type(a)\n"
   ]
  },
  {
   "cell_type": "code",
   "execution_count": null,
   "id": "40217b2b-52e0-4268-a015-508358170f72",
   "metadata": {},
   "outputs": [],
   "source": [
    "b= 2.8\n",
    "type(2.8)"
   ]
  },
  {
   "cell_type": "code",
   "execution_count": null,
   "id": "5ab6540b-f166-41fb-914f-20ca7f3994d1",
   "metadata": {},
   "outputs": [],
   "source": [
    "## Sequence list, tuple"
   ]
  },
  {
   "cell_type": "code",
   "execution_count": null,
   "id": "e54accb1-2896-4a2e-9af9-4b4594132ff0",
   "metadata": {},
   "outputs": [],
   "source": [
    "type([4, 6, 7])"
   ]
  },
  {
   "cell_type": "code",
   "execution_count": null,
   "id": "f6fa0790-3390-45c7-a49d-e5a10ae14a20",
   "metadata": {},
   "outputs": [],
   "source": [
    "type((1, 5))"
   ]
  },
  {
   "cell_type": "code",
   "execution_count": null,
   "id": "06b660a7-d97f-440f-ac44-856aa1cfcbc7",
   "metadata": {},
   "outputs": [],
   "source": [
    "## String str"
   ]
  },
  {
   "cell_type": "code",
   "execution_count": null,
   "id": "7394fef0-3ed8-4192-8392-00a6308707ef",
   "metadata": {},
   "outputs": [],
   "source": [
    "type(\"I like Math!\")\n"
   ]
  },
  {
   "cell_type": "code",
   "execution_count": null,
   "id": "9921f14b-ce0e-4248-8828-9cdc4eff0a87",
   "metadata": {},
   "outputs": [],
   "source": [
    "## Mapping dict"
   ]
  },
  {
   "cell_type": "code",
   "execution_count": null,
   "id": "789031b7-966f-4ced-ab7d-dfc7ff6ee904",
   "metadata": {},
   "outputs": [],
   "source": [
    "type({\"number of student\": 8, \"p\": 5})"
   ]
  },
  {
   "cell_type": "code",
   "execution_count": null,
   "id": "e8701ad8-725d-4dfa-9dbe-a9057901f677",
   "metadata": {},
   "outputs": [],
   "source": [
    "##set"
   ]
  },
  {
   "cell_type": "code",
   "execution_count": null,
   "id": "44f2f005-43e8-4bbd-8792-e24bd415bd9f",
   "metadata": {},
   "outputs": [],
   "source": [
    "type({\"number of student\", \"p\"})"
   ]
  },
  {
   "cell_type": "code",
   "execution_count": null,
   "id": "c250f478-552a-43b9-ba1d-c569e0bb34a2",
   "metadata": {},
   "outputs": [],
   "source": [
    "##Boolean "
   ]
  },
  {
   "cell_type": "code",
   "execution_count": null,
   "id": "0f831c4f-e482-49fa-9668-dc88250adffd",
   "metadata": {},
   "outputs": [],
   "source": [
    "1 == 2"
   ]
  },
  {
   "cell_type": "code",
   "execution_count": null,
   "id": "b61e33a7-8d1f-40d8-aa5b-296ea7678040",
   "metadata": {},
   "outputs": [],
   "source": [
    "c=(\"I like Math!\")"
   ]
  },
  {
   "cell_type": "code",
   "execution_count": null,
   "id": "17e1ecf4-8f1a-40f9-bfd4-b5eae6809f2d",
   "metadata": {},
   "outputs": [],
   "source": [
    "print(c[2])"
   ]
  },
  {
   "cell_type": "markdown",
   "id": "b2921c16-dc49-49e0-89b2-b14032e32b97",
   "metadata": {},
   "source": [
    "Excercise1: Assign a list to a variable and check the type and print an element using index!"
   ]
  },
  {
   "cell_type": "code",
   "execution_count": null,
   "id": "1a13dca0-4b73-43b3-a46c-6f2f3196f29f",
   "metadata": {},
   "outputs": [],
   "source": [
    "b=[4,5,8]\n",
    "type(b)"
   ]
  },
  {
   "cell_type": "code",
   "execution_count": null,
   "id": "0063e24b-50db-40c6-b20f-e2b062264b47",
   "metadata": {},
   "outputs": [],
   "source": [
    "print(b[2])"
   ]
  },
  {
   "cell_type": "markdown",
   "id": "f132b7d1-e052-493f-8e3a-eeeecdb13314",
   "metadata": {},
   "source": [
    "Excercise2: Assign a flot to a variable and use the print() function to print out the following sentence \"the type of 2.8 is <class 'float'>\""
   ]
  },
  {
   "cell_type": "code",
   "execution_count": null,
   "id": "aee7eac3-6c4f-4fef-969e-34fe270534ed",
   "metadata": {},
   "outputs": [],
   "source": [
    "b= 2.8\n",
    "print (\"the type of\", b ,\"is\", type(b))"
   ]
  },
  {
   "cell_type": "code",
   "execution_count": null,
   "id": "7294830a-1c11-4e6a-ae7c-b8c106fb7ad1",
   "metadata": {},
   "outputs": [],
   "source": [
    "##Arithmetic operators"
   ]
  },
  {
   "cell_type": "code",
   "execution_count": null,
   "id": "42f15d23-7e28-44d1-8c64-84cf6ac64648",
   "metadata": {},
   "outputs": [],
   "source": [
    "1+5*4"
   ]
  },
  {
   "cell_type": "code",
   "execution_count": null,
   "id": "981be74a-52fd-4299-b692-5fc2b549c6c9",
   "metadata": {},
   "outputs": [],
   "source": [
    "(1+5)*4"
   ]
  },
  {
   "cell_type": "code",
   "execution_count": null,
   "id": "a43b2f32-5bd3-4e00-afad-0149f0816b70",
   "metadata": {},
   "outputs": [],
   "source": [
    "30%10"
   ]
  },
  {
   "cell_type": "code",
   "execution_count": null,
   "id": "7c7d994c-7954-4c08-80ef-0e5001190c66",
   "metadata": {},
   "outputs": [],
   "source": [
    "15//2"
   ]
  },
  {
   "cell_type": "code",
   "execution_count": null,
   "id": "670b63ad-d072-49ef-8067-6644f4991fa9",
   "metadata": {},
   "outputs": [],
   "source": [
    "4**3"
   ]
  },
  {
   "cell_type": "code",
   "execution_count": null,
   "id": "7a7dedc8-d9ba-46e2-ade3-b1578ee92755",
   "metadata": {},
   "outputs": [],
   "source": [
    "##Conditional Statements "
   ]
  },
  {
   "cell_type": "code",
   "execution_count": null,
   "id": "0d49bc0e-c584-47b9-b8a9-677fdac88997",
   "metadata": {},
   "outputs": [],
   "source": [
    "grade=60\n",
    "\n",
    "if grade>50:\n",
    "    print(\"you pass the test\")"
   ]
  },
  {
   "cell_type": "code",
   "execution_count": null,
   "id": "3e66e31f-1a7d-48e2-a85e-61a3122f9621",
   "metadata": {},
   "outputs": [],
   "source": [
    "a=34\n",
    "if a<20:\n",
    "    print(\"you are a winner\")\n",
    "else:\n",
    "    print(\"you are a loser\")"
   ]
  },
  {
   "cell_type": "code",
   "execution_count": null,
   "id": "8041bf2e-c893-4e0b-baa1-322312d0f3d7",
   "metadata": {},
   "outputs": [],
   "source": [
    "grade=60\n",
    "\n",
    "if grade>50:\n",
    "print(\"you pass the test\")"
   ]
  },
  {
   "cell_type": "markdown",
   "id": "896486cb-c705-4bc3-9cde-fbfbb79d35b8",
   "metadata": {},
   "source": [
    "Excercise3: Given two numbers a and b, write a Python code to check if a is divisible by b."
   ]
  },
  {
   "cell_type": "code",
   "execution_count": null,
   "id": "d4b1033f-9f09-492b-b00c-2a3689efd584",
   "metadata": {},
   "outputs": [],
   "source": [
    "a=10\n",
    "b=5\n",
    "if (a % b == 0): \n",
    "    print(\"x is divisible by y\") \n",
    "else: \n",
    "    print(\"x is not divisible by y\")"
   ]
  },
  {
   "cell_type": "code",
   "execution_count": null,
   "id": "9ea32908-d8db-4aad-ac42-5a869c4f782e",
   "metadata": {},
   "outputs": [],
   "source": [
    "## for and while loop"
   ]
  },
  {
   "cell_type": "code",
   "execution_count": null,
   "id": "a2d15eb1-efa0-4923-911d-bea1d523fa14",
   "metadata": {},
   "outputs": [],
   "source": [
    "animals = [\"dog\", \"cat\", \"bird\"]\n",
    "for x in animals:\n",
    "    print(x)"
   ]
  },
  {
   "cell_type": "code",
   "execution_count": null,
   "id": "a6017a98-4642-4451-af66-c6f0f0cc2428",
   "metadata": {},
   "outputs": [],
   "source": [
    "animals = [\"dog\", \"cat\", \"bird\"]\n",
    "for x in animals:\n",
    "    print(x)\n",
    "    if x == \"cat\":\n",
    "        break"
   ]
  },
  {
   "cell_type": "code",
   "execution_count": null,
   "id": "42f6bc46-ee43-43b0-a95e-6f162f732dd3",
   "metadata": {},
   "outputs": [],
   "source": [
    "x = range(10, 20)\n",
    "for n in x:\n",
    "    print(n)"
   ]
  },
  {
   "cell_type": "code",
   "execution_count": null,
   "id": "6ff9c5a6-20c1-425b-abc1-9d7c47361b50",
   "metadata": {},
   "outputs": [],
   "source": [
    "x = range(10, 20,2)\n",
    "for n in x:\n",
    "    print(n)"
   ]
  },
  {
   "cell_type": "markdown",
   "id": "5d278177-ca44-431a-80f1-bb7347a4a4f5",
   "metadata": {},
   "source": [
    "Exercise4: What numbers between 2 and 30 are even and odd?"
   ]
  },
  {
   "cell_type": "code",
   "execution_count": null,
   "id": "de001df9-4dad-42bd-a8cb-9173bbf36f31",
   "metadata": {},
   "outputs": [],
   "source": [
    "for x in range(2, 30):  \n",
    "    if x % 2 == 0: \n",
    "        print(x, \"is a Even Number\")\n",
    "    else: \n",
    "        print(x, \"is a Odd Number\")"
   ]
  },
  {
   "cell_type": "code",
   "execution_count": null,
   "id": "86e9b333-36b1-4a00-8871-6fc61ee92559",
   "metadata": {},
   "outputs": [],
   "source": [
    "i = 1\n",
    "while i < 11:\n",
    "    print(i)\n",
    "    i += 1"
   ]
  },
  {
   "cell_type": "markdown",
   "id": "43eab075-cc38-4c90-a0a0-0fbdbd7185d9",
   "metadata": {},
   "source": [
    "Exercise5:print out the numbers from 100 to 0 in steps of 10, using while loop"
   ]
  },
  {
   "cell_type": "code",
   "execution_count": null,
   "id": "b97a9b62-7592-45a8-bbd9-8988bc55a0a1",
   "metadata": {},
   "outputs": [],
   "source": [
    "i = 100\n",
    "while i >= 0:\n",
    "    print(i)\n",
    "    i -= 10\n"
   ]
  },
  {
   "cell_type": "code",
   "execution_count": null,
   "id": "c1eb1421-5da2-47ef-b6b2-f1bf769d9e25",
   "metadata": {},
   "outputs": [],
   "source": [
    "## Def function"
   ]
  },
  {
   "cell_type": "code",
   "execution_count": null,
   "id": "0fff383a-9fd4-4ed5-b6d6-3fb0a0170f59",
   "metadata": {},
   "outputs": [],
   "source": [
    "def add_numbers(num1, num2):\n",
    "    sum = num1 + num2\n",
    "    return sum\n",
    "print(add_numbers(3, 5))"
   ]
  },
  {
   "cell_type": "markdown",
   "id": "597daf83-5afa-48ab-b6a9-ef0fec916105",
   "metadata": {},
   "source": [
    "Exercise6:What is the area of a rectangle with a length of 2 and a width of 4? (use def function)"
   ]
  },
  {
   "cell_type": "code",
   "execution_count": null,
   "id": "eaa3aa3b-314c-4d77-8392-b70c61071ade",
   "metadata": {},
   "outputs": [],
   "source": [
    "def area_of_rectangle(length, width):\n",
    "    area = length * width\n",
    "    return area\n",
    "print(area_of_rectangle(2, 4))"
   ]
  },
  {
   "cell_type": "code",
   "execution_count": null,
   "id": "7d53e2e7-04f4-4538-a840-116cd69847c3",
   "metadata": {},
   "outputs": [],
   "source": [
    "## Python Arrays (list as array)"
   ]
  },
  {
   "cell_type": "code",
   "execution_count": null,
   "id": "afe0a4a3-74a9-40ce-86f6-a1be859bbcb2",
   "metadata": {},
   "outputs": [],
   "source": [
    "array_ex = [1, 2, 3, 4, 5]\n",
    "print(array_ex)"
   ]
  },
  {
   "cell_type": "code",
   "execution_count": null,
   "id": "168b58fd-2d6f-4b5a-9d7f-178c9c5fdec2",
   "metadata": {},
   "outputs": [],
   "source": [
    "x = array_ex[0]\n",
    "print(x)"
   ]
  },
  {
   "cell_type": "code",
   "execution_count": null,
   "id": "9f500cee-5911-4a17-9b6f-357fc6508a67",
   "metadata": {},
   "outputs": [],
   "source": [
    "x = len(array_ex)\n",
    "print(x)"
   ]
  },
  {
   "cell_type": "code",
   "execution_count": null,
   "id": "556a9b3b-34c5-4ae1-8349-e31a706cfc46",
   "metadata": {},
   "outputs": [],
   "source": [
    "array_ex.append(5)\n",
    "print(array_ex)"
   ]
  },
  {
   "cell_type": "code",
   "execution_count": null,
   "id": "3c24cff2-62f8-4c25-9881-7fd3d4ff7562",
   "metadata": {},
   "outputs": [],
   "source": [
    "array_ex.pop(1)\n",
    "print(array_ex)"
   ]
  },
  {
   "cell_type": "markdown",
   "id": "66344fcc-cb07-4c54-91a8-e1466b8e7f61",
   "metadata": {},
   "source": [
    "Exercise7:Write a Python program to find the largest number in a given array of numbers"
   ]
  },
  {
   "cell_type": "code",
   "execution_count": null,
   "id": "3145ed03-a0c7-407b-9741-1291170291e2",
   "metadata": {},
   "outputs": [],
   "source": [
    "arr = [2, 4, 6, 8]\n",
    "max_num = arr[0]\n",
    "\n",
    "for num in arr:\n",
    "    if num > max_num:\n",
    "        max_num = num\n",
    "    \n",
    "print(max_num)"
   ]
  }
 ],
 "metadata": {
  "kernelspec": {
   "display_name": "Python 3 (ipykernel)",
   "language": "python",
   "name": "python3"
  },
  "language_info": {
   "codemirror_mode": {
    "name": "ipython",
    "version": 3
   },
   "file_extension": ".py",
   "mimetype": "text/x-python",
   "name": "python",
   "nbconvert_exporter": "python",
   "pygments_lexer": "ipython3",
   "version": "3.10.10"
  }
 },
 "nbformat": 4,
 "nbformat_minor": 5
}
